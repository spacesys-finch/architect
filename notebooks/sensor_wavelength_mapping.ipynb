{
 "cells": [
  {
   "cell_type": "markdown",
   "metadata": {},
   "source": [
    "# Tradebook for Mapping of Wavelengths onto Sensor Face"
   ]
  },
  {
   "cell_type": "code",
   "execution_count": 1,
   "metadata": {},
   "outputs": [
    {
     "ename": "ModuleNotFoundError",
     "evalue": "No module named 'astropy'",
     "output_type": "error",
     "traceback": [
      "\u001b[1;31m---------------------------------------------------------------------------\u001b[0m",
      "\u001b[1;31mModuleNotFoundError\u001b[0m                       Traceback (most recent call last)",
      "\u001b[1;32mc:\\Users\\abeer\\OneDrive - University of Toronto\\Documents\\GitHub\\payload-designer\\notebooks\\sensor_wavelength_mapping.ipynb Cell 2'\u001b[0m in \u001b[0;36m<cell line: 2>\u001b[1;34m()\u001b[0m\n\u001b[0;32m      <a href='vscode-notebook-cell:/c%3A/Users/abeer/OneDrive%20-%20University%20of%20Toronto/Documents/GitHub/payload-designer/notebooks/sensor_wavelength_mapping.ipynb#ch0000001?line=0'>1</a>\u001b[0m \u001b[39m# external\u001b[39;00m\n\u001b[1;32m----> <a href='vscode-notebook-cell:/c%3A/Users/abeer/OneDrive%20-%20University%20of%20Toronto/Documents/GitHub/payload-designer/notebooks/sensor_wavelength_mapping.ipynb#ch0000001?line=1'>2</a>\u001b[0m \u001b[39mimport\u001b[39;00m \u001b[39mastropy\u001b[39;00m\u001b[39m.\u001b[39;00m\u001b[39munits\u001b[39;00m \u001b[39mas\u001b[39;00m \u001b[39munit\u001b[39;00m\n\u001b[0;32m      <a href='vscode-notebook-cell:/c%3A/Users/abeer/OneDrive%20-%20University%20of%20Toronto/Documents/GitHub/payload-designer/notebooks/sensor_wavelength_mapping.ipynb#ch0000001?line=2'>3</a>\u001b[0m \u001b[39mimport\u001b[39;00m \u001b[39mnumpy\u001b[39;00m \u001b[39mas\u001b[39;00m \u001b[39mnp\u001b[39;00m\n\u001b[0;32m      <a href='vscode-notebook-cell:/c%3A/Users/abeer/OneDrive%20-%20University%20of%20Toronto/Documents/GitHub/payload-designer/notebooks/sensor_wavelength_mapping.ipynb#ch0000001?line=3'>4</a>\u001b[0m \u001b[39mimport\u001b[39;00m \u001b[39mpandas\u001b[39;00m \u001b[39mas\u001b[39;00m \u001b[39mpd\u001b[39;00m\n",
      "\u001b[1;31mModuleNotFoundError\u001b[0m: No module named 'astropy'"
     ]
    }
   ],
   "source": [
    "# external\n",
    "import astropy.units as unit\n",
    "import numpy as np\n",
    "import pandas as pd\n",
    "import plot\n",
    "from IPython.display import display\n",
    "from payload_designer import components, systems\n",
    "from payload_designer.libs import utillib"
   ]
  },
  {
   "cell_type": "markdown",
   "metadata": {},
   "source": [
    "## Setup\n",
    "Run this section onwards when a parameter is updated."
   ]
  },
  {
   "cell_type": "markdown",
   "metadata": {},
   "source": [
    "### Parameters"
   ]
  },
  {
   "cell_type": "code",
   "execution_count": null,
   "metadata": {},
   "outputs": [],
   "source": [
    "# region constants\n",
    "lower_wavelength = 900 * unit.nm\n",
    "upper_wavelength = 1700 * unit.nm\n",
    "# endregion\n",
    "\n",
    "# region variables\n",
    "wavelength = np.arange(start=900, stop=1700, step=1) * unit.nm\n",
    "# endregion"
   ]
  },
  {
   "cell_type": "markdown",
   "metadata": {},
   "source": [
    "### Artifact Instantiation"
   ]
  },
  {
   "cell_type": "code",
   "execution_count": null,
   "metadata": {},
   "outputs": [],
   "source": [
    "# region components\n",
    "diffractor = components.diffractors.VPHGrism()\n",
    "lenses = components.lenses.Lens()\n",
    "sensor = components.sensors.TauSWIR()\n",
    "# endregion\n",
    "\n",
    "# region systems\n",
    "payload = systems.payloads.HyperspectralImager(sensor=sensor, diffractor=diffractor)\n",
    "# endregion"
   ]
  },
  {
   "cell_type": "markdown",
   "metadata": {},
   "source": [
    "## Pipeline\n",
    "The computational graph"
   ]
  },
  {
   "cell_type": "code",
   "execution_count": null,
   "metadata": {},
   "outputs": [],
   "source": [
    "# get image height on lens\n",
    "# calculate sensor height as function of wavelength\n",
    "sensor_height = payload.get_image_height(wavelength=wavelength)"
   ]
  },
  {
   "cell_type": "markdown",
   "metadata": {},
   "source": [
    "## Plots"
   ]
  },
  {
   "cell_type": "code",
   "execution_count": null,
   "metadata": {},
   "outputs": [],
   "source": [
    "sensor_height_label = f\"Sensor Height [{sensor_height.unit}]\"\n",
    "wavelength_label = f\"Wavelength Resolution [{wavelength.unit}]\"\n",
    "\n",
    "data = {\n",
    "    sensor_height_label: sensor_height,\n",
    "    wavelength_label: wavelength,\n",
    "}\n",
    "\n",
    "df = pd.DataFrame.from_dict(data=data)\n",
    "\n",
    "graph = plot.line(\n",
    "    df=df,\n",
    "    x=sensor_height_label,\n",
    "    y=wavelength_label,\n",
    "    title=None,\n",
    "    dark=False,\n",
    ")\n",
    "\n",
    "graph.show()\n",
    "display(df)"
   ]
  }
 ],
 "metadata": {
  "kernelspec": {
   "display_name": "Python 3.10.5 ('.venv': poetry)",
   "language": "python",
   "name": "python3"
  },
  "language_info": {
   "codemirror_mode": {
    "name": "ipython",
    "version": 3
   },
   "file_extension": ".py",
   "mimetype": "text/x-python",
   "name": "python",
   "nbconvert_exporter": "python",
   "pygments_lexer": "ipython3",
   "version": "3.10.5"
  },
  "orig_nbformat": 4,
  "vscode": {
   "interpreter": {
    "hash": "8ea7ed29538761e33a29f7292645c79087253caf67c633441975f223393296bc"
   }
  }
 },
 "nbformat": 4,
 "nbformat_minor": 2
}
