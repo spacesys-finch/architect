{
 "cells": [
  {
   "cell_type": "markdown",
   "metadata": {},
   "source": [
    "# Grism Efficiency vs Fringe Frequency\n"
   ]
  },
  {
   "cell_type": "code",
   "execution_count": 19,
   "metadata": {},
   "outputs": [],
   "source": [
    "# external\n",
    "import numpy as np\n",
    "import pandas as pd\n",
    "import plot\n",
    "import astropy.units as unit\n",
    "\n",
    "# project\n",
    "from payload_designer.components import diffractors"
   ]
  },
  {
   "cell_type": "markdown",
   "metadata": {},
   "source": [
    "## Setup\n",
    "Run this section onwards when a parameter is updated."
   ]
  },
  {
   "cell_type": "markdown",
   "metadata": {},
   "source": [
    "### Parameters"
   ]
  },
  {
   "cell_type": "code",
   "execution_count": 20,
   "metadata": {},
   "outputs": [],
   "source": [
    "# region constant\n",
    "\n",
    "d = 2.5 * unit.mm\n",
    "n_2 = 1.52 * unit.dimensionless_unscaled\n",
    "n_g = 0.1 * unit.dimensionless_unscaled\n",
    "incident_angle = 60 * unit.rad\n",
    "# endregion\n",
    "\n",
    "fringe_frequency = np.arange(start=10, stop=1200, step=10) * 1 / unit.mm\n",
    "# endregion"
   ]
  },
  {
   "cell_type": "markdown",
   "metadata": {},
   "source": [
    "### Artifact Instantiation"
   ]
  },
  {
   "cell_type": "code",
   "execution_count": 21,
   "metadata": {},
   "outputs": [],
   "source": [
    "# region components\n",
    "diffractor = diffractors.VPHGrism(\n",
    "    index_dcg_amplitude=n_g,\n",
    "    index_dcg=n_2,\n",
    "    dcg_thickness=d,\n",
    "    fringe_frequency=fringe_frequency,\n",
    ")"
   ]
  },
  {
   "cell_type": "markdown",
   "metadata": {},
   "source": [
    "## Pipeline\n",
    "The computational graph"
   ]
  },
  {
   "cell_type": "code",
   "execution_count": 22,
   "metadata": {},
   "outputs": [
    {
     "ename": "UnitTypeError",
     "evalue": "Can only apply 'sin' function to quantities with angle units",
     "output_type": "error",
     "traceback": [
      "\u001b[1;31m---------------------------------------------------------------------------\u001b[0m",
      "\u001b[1;31mUnitConversionError\u001b[0m                       Traceback (most recent call last)",
      "File \u001b[1;32mc:\\Users\\Optics\\Documents\\GitHub\\payload-designer\\.venv\\lib\\site-packages\\astropy\\units\\quantity_helper\\helpers.py:182\u001b[0m, in \u001b[0;36mhelper_radian_to_dimensionless\u001b[1;34m(f, unit)\u001b[0m\n\u001b[0;32m    181\u001b[0m \u001b[39mtry\u001b[39;00m:\n\u001b[1;32m--> 182\u001b[0m     \u001b[39mreturn\u001b[39;00m [get_converter(unit, radian)], dimensionless_unscaled\n\u001b[0;32m    183\u001b[0m \u001b[39mexcept\u001b[39;00m UnitsError:\n",
      "File \u001b[1;32mc:\\Users\\Optics\\Documents\\GitHub\\payload-designer\\.venv\\lib\\site-packages\\astropy\\units\\quantity_helper\\helpers.py:32\u001b[0m, in \u001b[0;36mget_converter\u001b[1;34m(from_unit, to_unit)\u001b[0m\n\u001b[0;32m     30\u001b[0m \u001b[39m\"\"\"Like Unit._get_converter, except returns None if no scaling is needed,\u001b[39;00m\n\u001b[0;32m     31\u001b[0m \u001b[39mi.e., if the inferred scale is unity.\"\"\"\u001b[39;00m\n\u001b[1;32m---> 32\u001b[0m converter \u001b[39m=\u001b[39m from_unit\u001b[39m.\u001b[39;49m_get_converter(to_unit)\n\u001b[0;32m     33\u001b[0m \u001b[39mreturn\u001b[39;00m \u001b[39mNone\u001b[39;00m \u001b[39mif\u001b[39;00m converter \u001b[39mis\u001b[39;00m unit_scale_converter \u001b[39melse\u001b[39;00m converter\n",
      "File \u001b[1;32mc:\\Users\\Optics\\Documents\\GitHub\\payload-designer\\.venv\\lib\\site-packages\\astropy\\units\\core.py:1066\u001b[0m, in \u001b[0;36mUnitBase._get_converter\u001b[1;34m(self, other, equivalencies)\u001b[0m\n\u001b[0;32m   1064\u001b[0m                 \u001b[39mpass\u001b[39;00m\n\u001b[1;32m-> 1066\u001b[0m \u001b[39mraise\u001b[39;00m exc\n",
      "File \u001b[1;32mc:\\Users\\Optics\\Documents\\GitHub\\payload-designer\\.venv\\lib\\site-packages\\astropy\\units\\core.py:1051\u001b[0m, in \u001b[0;36mUnitBase._get_converter\u001b[1;34m(self, other, equivalencies)\u001b[0m\n\u001b[0;32m   1050\u001b[0m \u001b[39mtry\u001b[39;00m:\n\u001b[1;32m-> 1051\u001b[0m     \u001b[39mreturn\u001b[39;00m \u001b[39mself\u001b[39;49m\u001b[39m.\u001b[39;49m_apply_equivalencies(\n\u001b[0;32m   1052\u001b[0m         \u001b[39mself\u001b[39;49m, other, \u001b[39mself\u001b[39;49m\u001b[39m.\u001b[39;49m_normalize_equivalencies(equivalencies))\n\u001b[0;32m   1053\u001b[0m \u001b[39mexcept\u001b[39;00m UnitsError \u001b[39mas\u001b[39;00m exc:\n\u001b[0;32m   1054\u001b[0m     \u001b[39m# Last hope: maybe other knows how to do it?\u001b[39;00m\n\u001b[0;32m   1055\u001b[0m     \u001b[39m# We assume the equivalencies have the unit itself as first item.\u001b[39;00m\n\u001b[0;32m   1056\u001b[0m     \u001b[39m# TODO: maybe better for other to have a `_back_converter` method?\u001b[39;00m\n",
      "File \u001b[1;32mc:\\Users\\Optics\\Documents\\GitHub\\payload-designer\\.venv\\lib\\site-packages\\astropy\\units\\core.py:1027\u001b[0m, in \u001b[0;36mUnitBase._apply_equivalencies\u001b[1;34m(self, unit, other, equivalencies)\u001b[0m\n\u001b[0;32m   1025\u001b[0m other_str \u001b[39m=\u001b[39m get_err_str(other)\n\u001b[1;32m-> 1027\u001b[0m \u001b[39mraise\u001b[39;00m UnitConversionError(\n\u001b[0;32m   1028\u001b[0m     \u001b[39mf\u001b[39m\u001b[39m\"\u001b[39m\u001b[39m{\u001b[39;00munit_str\u001b[39m}\u001b[39;00m\u001b[39m and \u001b[39m\u001b[39m{\u001b[39;00mother_str\u001b[39m}\u001b[39;00m\u001b[39m are not convertible\u001b[39m\u001b[39m\"\u001b[39m)\n",
      "\u001b[1;31mUnitConversionError\u001b[0m: '' (dimensionless) and 'rad' (angle) are not convertible",
      "\nDuring handling of the above exception, another exception occurred:\n",
      "\u001b[1;31mUnitTypeError\u001b[0m                             Traceback (most recent call last)",
      "\u001b[1;32mc:\\Users\\Optics\\Documents\\GitHub\\payload-designer\\notebooks\\grism_efficency_vs_fringe_frequency.ipynb Cell 9\u001b[0m in \u001b[0;36m<cell line: 1>\u001b[1;34m()\u001b[0m\n\u001b[1;32m----> <a href='vscode-notebook-cell:/c%3A/Users/Optics/Documents/GitHub/payload-designer/notebooks/grism_efficency_vs_fringe_frequency.ipynb#ch0000008?line=0'>1</a>\u001b[0m efficiency \u001b[39m=\u001b[39m diffractor\u001b[39m.\u001b[39;49mget_efficiency(\n\u001b[0;32m      <a href='vscode-notebook-cell:/c%3A/Users/Optics/Documents/GitHub/payload-designer/notebooks/grism_efficency_vs_fringe_frequency.ipynb#ch0000008?line=1'>2</a>\u001b[0m     incident_angle\u001b[39m=\u001b[39;49mincident_angle, order\u001b[39m=\u001b[39;49m\u001b[39m1\u001b[39;49m \u001b[39m*\u001b[39;49m unit\u001b[39m.\u001b[39;49mdimensionless_unscaled, n_air\u001b[39m=\u001b[39;49m\u001b[39m1\u001b[39;49m \u001b[39m*\u001b[39;49m unit\u001b[39m.\u001b[39;49mdimensionless_unscaled\n\u001b[0;32m      <a href='vscode-notebook-cell:/c%3A/Users/Optics/Documents/GitHub/payload-designer/notebooks/grism_efficency_vs_fringe_frequency.ipynb#ch0000008?line=2'>3</a>\u001b[0m )\n",
      "File \u001b[1;32m~\\Documents\\GitHub\\payload-designer\\payload_designer\\components\\diffractors.py:302\u001b[0m, in \u001b[0;36mVPHGrism.get_efficiency\u001b[1;34m(self, incident_angle, order, n_air)\u001b[0m\n\u001b[0;32m    295\u001b[0m fringe_spacing \u001b[39m=\u001b[39m \u001b[39m1\u001b[39m \u001b[39m/\u001b[39m \u001b[39mself\u001b[39m\u001b[39m.\u001b[39mfringe_frequency\n\u001b[0;32m    296\u001b[0m sin_arg_den \u001b[39m=\u001b[39m (\n\u001b[0;32m    297\u001b[0m     \u001b[39m2\u001b[39m\n\u001b[0;32m    298\u001b[0m     \u001b[39m*\u001b[39m fringe_spacing\n\u001b[0;32m    299\u001b[0m     \u001b[39m*\u001b[39m \u001b[39mself\u001b[39m\u001b[39m.\u001b[39mindex_dcg\n\u001b[0;32m    300\u001b[0m     \u001b[39m*\u001b[39m np\u001b[39m.\u001b[39msin(\u001b[39m2\u001b[39m \u001b[39m*\u001b[39m np\u001b[39m.\u001b[39marcsin(n_air \u001b[39m/\u001b[39m \u001b[39mself\u001b[39m\u001b[39m.\u001b[39mindex_dcg \u001b[39m*\u001b[39m np\u001b[39m.\u001b[39msin(incident_angle)))\n\u001b[0;32m    301\u001b[0m )\n\u001b[1;32m--> 302\u001b[0m efficiency \u001b[39m=\u001b[39m (np\u001b[39m.\u001b[39;49msin(sin_arg_num \u001b[39m/\u001b[39;49m sin_arg_den)) \u001b[39m*\u001b[39m\u001b[39m*\u001b[39m \u001b[39m2\u001b[39m\n\u001b[0;32m    303\u001b[0m \u001b[39mreturn\u001b[39;00m efficiency\n",
      "File \u001b[1;32mc:\\Users\\Optics\\Documents\\GitHub\\payload-designer\\.venv\\lib\\site-packages\\astropy\\units\\quantity.py:593\u001b[0m, in \u001b[0;36mQuantity.__array_ufunc__\u001b[1;34m(self, function, method, *inputs, **kwargs)\u001b[0m\n\u001b[0;32m    571\u001b[0m \u001b[39m\"\"\"Wrap numpy ufuncs, taking care of units.\u001b[39;00m\n\u001b[0;32m    572\u001b[0m \n\u001b[0;32m    573\u001b[0m \u001b[39mParameters\u001b[39;00m\n\u001b[1;32m   (...)\u001b[0m\n\u001b[0;32m    587\u001b[0m \u001b[39m    Results of the ufunc, with the unit set properly.\u001b[39;00m\n\u001b[0;32m    588\u001b[0m \u001b[39m\"\"\"\u001b[39;00m\n\u001b[0;32m    589\u001b[0m \u001b[39m# Determine required conversion functions -- to bring the unit of the\u001b[39;00m\n\u001b[0;32m    590\u001b[0m \u001b[39m# input to that expected (e.g., radian for np.sin), or to get\u001b[39;00m\n\u001b[0;32m    591\u001b[0m \u001b[39m# consistent units between two inputs (e.g., in np.add) --\u001b[39;00m\n\u001b[0;32m    592\u001b[0m \u001b[39m# and the unit of the result (or tuple of units for nout > 1).\u001b[39;00m\n\u001b[1;32m--> 593\u001b[0m converters, unit \u001b[39m=\u001b[39m converters_and_unit(function, method, \u001b[39m*\u001b[39;49minputs)\n\u001b[0;32m    595\u001b[0m out \u001b[39m=\u001b[39m kwargs\u001b[39m.\u001b[39mget(\u001b[39m'\u001b[39m\u001b[39mout\u001b[39m\u001b[39m'\u001b[39m, \u001b[39mNone\u001b[39;00m)\n\u001b[0;32m    596\u001b[0m \u001b[39m# Avoid loop back by turning any Quantity output into array views.\u001b[39;00m\n",
      "File \u001b[1;32mc:\\Users\\Optics\\Documents\\GitHub\\payload-designer\\.venv\\lib\\site-packages\\astropy\\units\\quantity_helper\\converters.py:174\u001b[0m, in \u001b[0;36mconverters_and_unit\u001b[1;34m(function, method, *args)\u001b[0m\n\u001b[0;32m    171\u001b[0m units \u001b[39m=\u001b[39m [\u001b[39mgetattr\u001b[39m(arg, \u001b[39m'\u001b[39m\u001b[39munit\u001b[39m\u001b[39m'\u001b[39m, \u001b[39mNone\u001b[39;00m) \u001b[39mfor\u001b[39;00m arg \u001b[39min\u001b[39;00m args]\n\u001b[0;32m    173\u001b[0m \u001b[39m# Determine possible conversion functions, and the result unit.\u001b[39;00m\n\u001b[1;32m--> 174\u001b[0m converters, result_unit \u001b[39m=\u001b[39m ufunc_helper(function, \u001b[39m*\u001b[39;49munits)\n\u001b[0;32m    176\u001b[0m \u001b[39mif\u001b[39;00m \u001b[39many\u001b[39m(converter \u001b[39mis\u001b[39;00m \u001b[39mFalse\u001b[39;00m \u001b[39mfor\u001b[39;00m converter \u001b[39min\u001b[39;00m converters):\n\u001b[0;32m    177\u001b[0m     \u001b[39m# for multi-argument ufuncs with a quantity and a non-quantity,\u001b[39;00m\n\u001b[0;32m    178\u001b[0m     \u001b[39m# the quantity normally needs to be dimensionless, *except*\u001b[39;00m\n\u001b[1;32m   (...)\u001b[0m\n\u001b[0;32m    181\u001b[0m     \u001b[39m# can just have the unit of the quantity\u001b[39;00m\n\u001b[0;32m    182\u001b[0m     \u001b[39m# (this allows, e.g., `q > 0.` independent of unit)\u001b[39;00m\n\u001b[0;32m    183\u001b[0m     \u001b[39mtry\u001b[39;00m:\n\u001b[0;32m    184\u001b[0m         \u001b[39m# Don't fold this loop in the test above: this rare case\u001b[39;00m\n\u001b[0;32m    185\u001b[0m         \u001b[39m# should not make the common case slower.\u001b[39;00m\n",
      "File \u001b[1;32mc:\\Users\\Optics\\Documents\\GitHub\\payload-designer\\.venv\\lib\\site-packages\\astropy\\units\\quantity_helper\\helpers.py:184\u001b[0m, in \u001b[0;36mhelper_radian_to_dimensionless\u001b[1;34m(f, unit)\u001b[0m\n\u001b[0;32m    182\u001b[0m     \u001b[39mreturn\u001b[39;00m [get_converter(unit, radian)], dimensionless_unscaled\n\u001b[0;32m    183\u001b[0m \u001b[39mexcept\u001b[39;00m UnitsError:\n\u001b[1;32m--> 184\u001b[0m     \u001b[39mraise\u001b[39;00m UnitTypeError(\u001b[39m\"\u001b[39m\u001b[39mCan only apply \u001b[39m\u001b[39m'\u001b[39m\u001b[39m{}\u001b[39;00m\u001b[39m'\u001b[39m\u001b[39m function to \u001b[39m\u001b[39m\"\u001b[39m\n\u001b[0;32m    185\u001b[0m                         \u001b[39m\"\u001b[39m\u001b[39mquantities with angle units\u001b[39m\u001b[39m\"\u001b[39m\n\u001b[0;32m    186\u001b[0m                         \u001b[39m.\u001b[39mformat(f\u001b[39m.\u001b[39m\u001b[39m__name__\u001b[39m))\n",
      "\u001b[1;31mUnitTypeError\u001b[0m: Can only apply 'sin' function to quantities with angle units"
     ]
    }
   ],
   "source": [
    "efficiency = diffractor.get_efficiency(\n",
    "    incident_angle=incident_angle, order=1 * unit.dimensionless_unscaled, n_air=1 * unit.dimensionless_unscaled\n",
    ")"
   ]
  },
  {
   "cell_type": "markdown",
   "metadata": {},
   "source": [
    "## Plots"
   ]
  },
  {
   "cell_type": "code",
   "execution_count": null,
   "metadata": {},
   "outputs": [
    {
     "data": {
      "application/vnd.plotly.v1+json": {
       "config": {
        "plotlyServerURL": "https://plot.ly"
       },
       "data": [
        {
         "hovertemplate": "variable=Grism Efficiency<br>Fringe Frequency=%{x}<br>value=%{y}<extra></extra>",
         "legendgroup": "Grism Efficiency",
         "line": {
          "color": "#636efa",
          "dash": "solid"
         },
         "marker": {
          "symbol": "circle"
         },
         "mode": "lines",
         "name": "Grism Efficiency",
         "orientation": "v",
         "showlegend": true,
         "type": "scatter",
         "x": [
          10,
          20,
          30,
          40,
          50,
          60,
          70,
          80,
          90,
          100,
          110,
          120,
          130,
          140,
          150,
          160,
          170,
          180,
          190,
          200,
          210,
          220,
          230,
          240,
          250,
          260,
          270,
          280,
          290,
          300,
          310,
          320,
          330,
          340,
          350,
          360,
          370,
          380,
          390,
          400,
          410,
          420,
          430,
          440,
          450,
          460,
          470,
          480,
          490,
          500,
          510,
          520,
          530,
          540,
          550,
          560,
          570,
          580,
          590,
          600,
          610,
          620,
          630,
          640,
          650,
          660,
          670,
          680,
          690,
          700,
          710,
          720,
          730,
          740,
          750,
          760,
          770,
          780,
          790,
          800,
          810,
          820,
          830,
          840,
          850,
          860,
          870,
          880,
          890,
          900,
          910,
          920,
          930,
          940,
          950,
          960,
          970,
          980,
          990,
          1000,
          1010,
          1020,
          1030,
          1040,
          1050,
          1060,
          1070,
          1080,
          1090,
          1100,
          1110,
          1120,
          1130,
          1140,
          1150,
          1160,
          1170,
          1180,
          1190
         ],
         "xaxis": "x",
         "y": [
          0.021174785523441306,
          0.08290565592591026,
          0.1799640594436177,
          0.30412923256561936,
          0.4448844916505635,
          0.590307987008767,
          0.7280824733431095,
          0.8465385698586672,
          0.9356431468047975,
          0.9878491229575327,
          0.9987346969245681,
          0.9673778699296974,
          0.8964345383181737,
          0.791913541414759,
          0.6626677179879679,
          0.519644078401239,
          0.37495660222669563,
          0.24086019456805413,
          0.12871270611183724,
          0.048012932918264174,
          0.005596076543992173,
          0.005054808334236607,
          0.0464349732420064,
          0.12623170679991483,
          0.23768629413371006,
          0.3713586273138263,
          0.5159267743982119,
          0.6591459373547751,
          0.7888855759496546,
          0.894156854098348,
          0.9660433848545382,
          0.998456440735064,
          0.988650663714219,
          0.9374565946932287,
          0.849210327398461,
          0.7313862449627728,
          0.5939639460864433,
          0.4485829815888202,
          0.30755699443967055,
          0.18283076476340177,
          0.0849684972102143,
          0.02225904188522381,
          0.000013835855601248883,
          0.020117028987762953,
          0.08086589807006146,
          0.17711506600808222,
          0.30071231085020034,
          0.4411890519931807,
          0.5866470299780329,
          0.7247660788587742,
          0.8438476336884214,
          0.9338055889336677,
          0.9870205829607647,
          0.9989853514290739,
          0.9686864887139686,
          0.89869028249388,
          0.7949253513854121,
          0.6661804960329456,
          0.5233602952337232,
          0.3785614974691746,
          0.24404843668611234,
          0.13121425373329904,
          0.049615907105703405,
          0.006164706758926909,
          0.004540932085292842,
          0.04488211540661282,
          0.12377139310449668,
          0.23452691103761672,
          0.3677677718547911,
          0.5122085889530383,
          0.6556153490407874,
          0.7858416225681106,
          0.8918573558892736,
          0.9646831073434559,
          0.9981505982602116,
          0.9894251608708176,
          0.9392458322365557,
          0.8518627584436279,
          0.7346772108757457,
          0.5976147048777256,
          0.4522843171208809,
          0.31099540676820836,
          0.18571502331415382,
          0.08705430775830264,
          0.023369738066646835,
          0.000055342656681394646,
          0.019085830818050105,
          0.07884933652987386,
          0.17428394212980192,
          0.2973064183975356,
          0.43749686713491437,
          0.5829812776041394,
          0.7214372450503972,
          0.8411376678133311,
          0.9319440227766019,
          0.9861650895781569,
          0.9992083903764974,
          0.9699691687839436,
          0.9009239617848609,
          0.7979208391778054,
          0.6696840770804957,
          0.5270752192274926,
          0.38217311353391964,
          0.24725084403965447,
          0.13373621122006454,
          0.05124380709022803,
          0.0067606675090922785,
          0.004054476236814617,
          0.043354445352521614,
          0.12133190118788426,
          0.23138222013082296,
          0.3641842345798001,
          0.5084897278427267,
          0.6520761484407648,
          0.7827818497328963,
          0.8895361709529765,
          0.9632971126789321,
          0.9978171864263732,
          0.990172571564002
         ],
         "yaxis": "y"
        }
       ],
       "layout": {
        "legend": {
         "title": {
          "text": "variable"
         },
         "tracegroupgap": 0
        },
        "template": {
         "data": {
          "bar": [
           {
            "error_x": {
             "color": "#2a3f5f"
            },
            "error_y": {
             "color": "#2a3f5f"
            },
            "marker": {
             "line": {
              "color": "#E5ECF6",
              "width": 0.5
             },
             "pattern": {
              "fillmode": "overlay",
              "size": 10,
              "solidity": 0.2
             }
            },
            "type": "bar"
           }
          ],
          "barpolar": [
           {
            "marker": {
             "line": {
              "color": "#E5ECF6",
              "width": 0.5
             },
             "pattern": {
              "fillmode": "overlay",
              "size": 10,
              "solidity": 0.2
             }
            },
            "type": "barpolar"
           }
          ],
          "carpet": [
           {
            "aaxis": {
             "endlinecolor": "#2a3f5f",
             "gridcolor": "white",
             "linecolor": "white",
             "minorgridcolor": "white",
             "startlinecolor": "#2a3f5f"
            },
            "baxis": {
             "endlinecolor": "#2a3f5f",
             "gridcolor": "white",
             "linecolor": "white",
             "minorgridcolor": "white",
             "startlinecolor": "#2a3f5f"
            },
            "type": "carpet"
           }
          ],
          "choropleth": [
           {
            "colorbar": {
             "outlinewidth": 0,
             "ticks": ""
            },
            "type": "choropleth"
           }
          ],
          "contour": [
           {
            "colorbar": {
             "outlinewidth": 0,
             "ticks": ""
            },
            "colorscale": [
             [
              0,
              "#0d0887"
             ],
             [
              0.1111111111111111,
              "#46039f"
             ],
             [
              0.2222222222222222,
              "#7201a8"
             ],
             [
              0.3333333333333333,
              "#9c179e"
             ],
             [
              0.4444444444444444,
              "#bd3786"
             ],
             [
              0.5555555555555556,
              "#d8576b"
             ],
             [
              0.6666666666666666,
              "#ed7953"
             ],
             [
              0.7777777777777778,
              "#fb9f3a"
             ],
             [
              0.8888888888888888,
              "#fdca26"
             ],
             [
              1,
              "#f0f921"
             ]
            ],
            "type": "contour"
           }
          ],
          "contourcarpet": [
           {
            "colorbar": {
             "outlinewidth": 0,
             "ticks": ""
            },
            "type": "contourcarpet"
           }
          ],
          "heatmap": [
           {
            "colorbar": {
             "outlinewidth": 0,
             "ticks": ""
            },
            "colorscale": [
             [
              0,
              "#0d0887"
             ],
             [
              0.1111111111111111,
              "#46039f"
             ],
             [
              0.2222222222222222,
              "#7201a8"
             ],
             [
              0.3333333333333333,
              "#9c179e"
             ],
             [
              0.4444444444444444,
              "#bd3786"
             ],
             [
              0.5555555555555556,
              "#d8576b"
             ],
             [
              0.6666666666666666,
              "#ed7953"
             ],
             [
              0.7777777777777778,
              "#fb9f3a"
             ],
             [
              0.8888888888888888,
              "#fdca26"
             ],
             [
              1,
              "#f0f921"
             ]
            ],
            "type": "heatmap"
           }
          ],
          "heatmapgl": [
           {
            "colorbar": {
             "outlinewidth": 0,
             "ticks": ""
            },
            "colorscale": [
             [
              0,
              "#0d0887"
             ],
             [
              0.1111111111111111,
              "#46039f"
             ],
             [
              0.2222222222222222,
              "#7201a8"
             ],
             [
              0.3333333333333333,
              "#9c179e"
             ],
             [
              0.4444444444444444,
              "#bd3786"
             ],
             [
              0.5555555555555556,
              "#d8576b"
             ],
             [
              0.6666666666666666,
              "#ed7953"
             ],
             [
              0.7777777777777778,
              "#fb9f3a"
             ],
             [
              0.8888888888888888,
              "#fdca26"
             ],
             [
              1,
              "#f0f921"
             ]
            ],
            "type": "heatmapgl"
           }
          ],
          "histogram": [
           {
            "marker": {
             "pattern": {
              "fillmode": "overlay",
              "size": 10,
              "solidity": 0.2
             }
            },
            "type": "histogram"
           }
          ],
          "histogram2d": [
           {
            "colorbar": {
             "outlinewidth": 0,
             "ticks": ""
            },
            "colorscale": [
             [
              0,
              "#0d0887"
             ],
             [
              0.1111111111111111,
              "#46039f"
             ],
             [
              0.2222222222222222,
              "#7201a8"
             ],
             [
              0.3333333333333333,
              "#9c179e"
             ],
             [
              0.4444444444444444,
              "#bd3786"
             ],
             [
              0.5555555555555556,
              "#d8576b"
             ],
             [
              0.6666666666666666,
              "#ed7953"
             ],
             [
              0.7777777777777778,
              "#fb9f3a"
             ],
             [
              0.8888888888888888,
              "#fdca26"
             ],
             [
              1,
              "#f0f921"
             ]
            ],
            "type": "histogram2d"
           }
          ],
          "histogram2dcontour": [
           {
            "colorbar": {
             "outlinewidth": 0,
             "ticks": ""
            },
            "colorscale": [
             [
              0,
              "#0d0887"
             ],
             [
              0.1111111111111111,
              "#46039f"
             ],
             [
              0.2222222222222222,
              "#7201a8"
             ],
             [
              0.3333333333333333,
              "#9c179e"
             ],
             [
              0.4444444444444444,
              "#bd3786"
             ],
             [
              0.5555555555555556,
              "#d8576b"
             ],
             [
              0.6666666666666666,
              "#ed7953"
             ],
             [
              0.7777777777777778,
              "#fb9f3a"
             ],
             [
              0.8888888888888888,
              "#fdca26"
             ],
             [
              1,
              "#f0f921"
             ]
            ],
            "type": "histogram2dcontour"
           }
          ],
          "mesh3d": [
           {
            "colorbar": {
             "outlinewidth": 0,
             "ticks": ""
            },
            "type": "mesh3d"
           }
          ],
          "parcoords": [
           {
            "line": {
             "colorbar": {
              "outlinewidth": 0,
              "ticks": ""
             }
            },
            "type": "parcoords"
           }
          ],
          "pie": [
           {
            "automargin": true,
            "type": "pie"
           }
          ],
          "scatter": [
           {
            "fillpattern": {
             "fillmode": "overlay",
             "size": 10,
             "solidity": 0.2
            },
            "type": "scatter"
           }
          ],
          "scatter3d": [
           {
            "line": {
             "colorbar": {
              "outlinewidth": 0,
              "ticks": ""
             }
            },
            "marker": {
             "colorbar": {
              "outlinewidth": 0,
              "ticks": ""
             }
            },
            "type": "scatter3d"
           }
          ],
          "scattercarpet": [
           {
            "marker": {
             "colorbar": {
              "outlinewidth": 0,
              "ticks": ""
             }
            },
            "type": "scattercarpet"
           }
          ],
          "scattergeo": [
           {
            "marker": {
             "colorbar": {
              "outlinewidth": 0,
              "ticks": ""
             }
            },
            "type": "scattergeo"
           }
          ],
          "scattergl": [
           {
            "marker": {
             "colorbar": {
              "outlinewidth": 0,
              "ticks": ""
             }
            },
            "type": "scattergl"
           }
          ],
          "scattermapbox": [
           {
            "marker": {
             "colorbar": {
              "outlinewidth": 0,
              "ticks": ""
             }
            },
            "type": "scattermapbox"
           }
          ],
          "scatterpolar": [
           {
            "marker": {
             "colorbar": {
              "outlinewidth": 0,
              "ticks": ""
             }
            },
            "type": "scatterpolar"
           }
          ],
          "scatterpolargl": [
           {
            "marker": {
             "colorbar": {
              "outlinewidth": 0,
              "ticks": ""
             }
            },
            "type": "scatterpolargl"
           }
          ],
          "scatterternary": [
           {
            "marker": {
             "colorbar": {
              "outlinewidth": 0,
              "ticks": ""
             }
            },
            "type": "scatterternary"
           }
          ],
          "surface": [
           {
            "colorbar": {
             "outlinewidth": 0,
             "ticks": ""
            },
            "colorscale": [
             [
              0,
              "#0d0887"
             ],
             [
              0.1111111111111111,
              "#46039f"
             ],
             [
              0.2222222222222222,
              "#7201a8"
             ],
             [
              0.3333333333333333,
              "#9c179e"
             ],
             [
              0.4444444444444444,
              "#bd3786"
             ],
             [
              0.5555555555555556,
              "#d8576b"
             ],
             [
              0.6666666666666666,
              "#ed7953"
             ],
             [
              0.7777777777777778,
              "#fb9f3a"
             ],
             [
              0.8888888888888888,
              "#fdca26"
             ],
             [
              1,
              "#f0f921"
             ]
            ],
            "type": "surface"
           }
          ],
          "table": [
           {
            "cells": {
             "fill": {
              "color": "#EBF0F8"
             },
             "line": {
              "color": "white"
             }
            },
            "header": {
             "fill": {
              "color": "#C8D4E3"
             },
             "line": {
              "color": "white"
             }
            },
            "type": "table"
           }
          ]
         },
         "layout": {
          "annotationdefaults": {
           "arrowcolor": "#2a3f5f",
           "arrowhead": 0,
           "arrowwidth": 1
          },
          "autotypenumbers": "strict",
          "coloraxis": {
           "colorbar": {
            "outlinewidth": 0,
            "ticks": ""
           }
          },
          "colorscale": {
           "diverging": [
            [
             0,
             "#8e0152"
            ],
            [
             0.1,
             "#c51b7d"
            ],
            [
             0.2,
             "#de77ae"
            ],
            [
             0.3,
             "#f1b6da"
            ],
            [
             0.4,
             "#fde0ef"
            ],
            [
             0.5,
             "#f7f7f7"
            ],
            [
             0.6,
             "#e6f5d0"
            ],
            [
             0.7,
             "#b8e186"
            ],
            [
             0.8,
             "#7fbc41"
            ],
            [
             0.9,
             "#4d9221"
            ],
            [
             1,
             "#276419"
            ]
           ],
           "sequential": [
            [
             0,
             "#0d0887"
            ],
            [
             0.1111111111111111,
             "#46039f"
            ],
            [
             0.2222222222222222,
             "#7201a8"
            ],
            [
             0.3333333333333333,
             "#9c179e"
            ],
            [
             0.4444444444444444,
             "#bd3786"
            ],
            [
             0.5555555555555556,
             "#d8576b"
            ],
            [
             0.6666666666666666,
             "#ed7953"
            ],
            [
             0.7777777777777778,
             "#fb9f3a"
            ],
            [
             0.8888888888888888,
             "#fdca26"
            ],
            [
             1,
             "#f0f921"
            ]
           ],
           "sequentialminus": [
            [
             0,
             "#0d0887"
            ],
            [
             0.1111111111111111,
             "#46039f"
            ],
            [
             0.2222222222222222,
             "#7201a8"
            ],
            [
             0.3333333333333333,
             "#9c179e"
            ],
            [
             0.4444444444444444,
             "#bd3786"
            ],
            [
             0.5555555555555556,
             "#d8576b"
            ],
            [
             0.6666666666666666,
             "#ed7953"
            ],
            [
             0.7777777777777778,
             "#fb9f3a"
            ],
            [
             0.8888888888888888,
             "#fdca26"
            ],
            [
             1,
             "#f0f921"
            ]
           ]
          },
          "colorway": [
           "#636efa",
           "#EF553B",
           "#00cc96",
           "#ab63fa",
           "#FFA15A",
           "#19d3f3",
           "#FF6692",
           "#B6E880",
           "#FF97FF",
           "#FECB52"
          ],
          "font": {
           "color": "#2a3f5f"
          },
          "geo": {
           "bgcolor": "white",
           "lakecolor": "white",
           "landcolor": "#E5ECF6",
           "showlakes": true,
           "showland": true,
           "subunitcolor": "white"
          },
          "hoverlabel": {
           "align": "left"
          },
          "hovermode": "closest",
          "mapbox": {
           "style": "light"
          },
          "paper_bgcolor": "white",
          "plot_bgcolor": "#E5ECF6",
          "polar": {
           "angularaxis": {
            "gridcolor": "white",
            "linecolor": "white",
            "ticks": ""
           },
           "bgcolor": "#E5ECF6",
           "radialaxis": {
            "gridcolor": "white",
            "linecolor": "white",
            "ticks": ""
           }
          },
          "scene": {
           "xaxis": {
            "backgroundcolor": "#E5ECF6",
            "gridcolor": "white",
            "gridwidth": 2,
            "linecolor": "white",
            "showbackground": true,
            "ticks": "",
            "zerolinecolor": "white"
           },
           "yaxis": {
            "backgroundcolor": "#E5ECF6",
            "gridcolor": "white",
            "gridwidth": 2,
            "linecolor": "white",
            "showbackground": true,
            "ticks": "",
            "zerolinecolor": "white"
           },
           "zaxis": {
            "backgroundcolor": "#E5ECF6",
            "gridcolor": "white",
            "gridwidth": 2,
            "linecolor": "white",
            "showbackground": true,
            "ticks": "",
            "zerolinecolor": "white"
           }
          },
          "shapedefaults": {
           "line": {
            "color": "#2a3f5f"
           }
          },
          "ternary": {
           "aaxis": {
            "gridcolor": "white",
            "linecolor": "white",
            "ticks": ""
           },
           "baxis": {
            "gridcolor": "white",
            "linecolor": "white",
            "ticks": ""
           },
           "bgcolor": "#E5ECF6",
           "caxis": {
            "gridcolor": "white",
            "linecolor": "white",
            "ticks": ""
           }
          },
          "title": {
           "x": 0.05
          },
          "xaxis": {
           "automargin": true,
           "gridcolor": "white",
           "linecolor": "white",
           "ticks": "",
           "title": {
            "standoff": 15
           },
           "zerolinecolor": "white",
           "zerolinewidth": 2
          },
          "yaxis": {
           "automargin": true,
           "gridcolor": "white",
           "linecolor": "white",
           "ticks": "",
           "title": {
            "standoff": 15
           },
           "zerolinecolor": "white",
           "zerolinewidth": 2
          }
         }
        },
        "title": {
         "text": "Grism Efficiency versus Fringe Density"
        },
        "xaxis": {
         "anchor": "y",
         "domain": [
          0,
          1
         ],
         "title": {
          "text": "Fringe Frequency"
         }
        },
        "yaxis": {
         "anchor": "x",
         "domain": [
          0,
          1
         ],
         "title": {
          "text": "value"
         }
        }
       }
      }
     },
     "metadata": {},
     "output_type": "display_data"
    },
    {
     "data": {
      "text/html": [
       "<div>\n",
       "<style scoped>\n",
       "    .dataframe tbody tr th:only-of-type {\n",
       "        vertical-align: middle;\n",
       "    }\n",
       "\n",
       "    .dataframe tbody tr th {\n",
       "        vertical-align: top;\n",
       "    }\n",
       "\n",
       "    .dataframe thead th {\n",
       "        text-align: right;\n",
       "    }\n",
       "</style>\n",
       "<table border=\"1\" class=\"dataframe\">\n",
       "  <thead>\n",
       "    <tr style=\"text-align: right;\">\n",
       "      <th></th>\n",
       "      <th>Fringe Frequency</th>\n",
       "      <th>Grism Efficiency</th>\n",
       "    </tr>\n",
       "  </thead>\n",
       "  <tbody>\n",
       "    <tr>\n",
       "      <th>0</th>\n",
       "      <td>10</td>\n",
       "      <td>0.021175</td>\n",
       "    </tr>\n",
       "    <tr>\n",
       "      <th>1</th>\n",
       "      <td>20</td>\n",
       "      <td>0.082906</td>\n",
       "    </tr>\n",
       "    <tr>\n",
       "      <th>2</th>\n",
       "      <td>30</td>\n",
       "      <td>0.179964</td>\n",
       "    </tr>\n",
       "    <tr>\n",
       "      <th>3</th>\n",
       "      <td>40</td>\n",
       "      <td>0.304129</td>\n",
       "    </tr>\n",
       "    <tr>\n",
       "      <th>4</th>\n",
       "      <td>50</td>\n",
       "      <td>0.444884</td>\n",
       "    </tr>\n",
       "    <tr>\n",
       "      <th>...</th>\n",
       "      <td>...</td>\n",
       "      <td>...</td>\n",
       "    </tr>\n",
       "    <tr>\n",
       "      <th>114</th>\n",
       "      <td>1150</td>\n",
       "      <td>0.782782</td>\n",
       "    </tr>\n",
       "    <tr>\n",
       "      <th>115</th>\n",
       "      <td>1160</td>\n",
       "      <td>0.889536</td>\n",
       "    </tr>\n",
       "    <tr>\n",
       "      <th>116</th>\n",
       "      <td>1170</td>\n",
       "      <td>0.963297</td>\n",
       "    </tr>\n",
       "    <tr>\n",
       "      <th>117</th>\n",
       "      <td>1180</td>\n",
       "      <td>0.997817</td>\n",
       "    </tr>\n",
       "    <tr>\n",
       "      <th>118</th>\n",
       "      <td>1190</td>\n",
       "      <td>0.990173</td>\n",
       "    </tr>\n",
       "  </tbody>\n",
       "</table>\n",
       "<p>119 rows × 2 columns</p>\n",
       "</div>"
      ],
      "text/plain": [
       "     Fringe Frequency  Grism Efficiency\n",
       "0                  10          0.021175\n",
       "1                  20          0.082906\n",
       "2                  30          0.179964\n",
       "3                  40          0.304129\n",
       "4                  50          0.444884\n",
       "..                ...               ...\n",
       "114              1150          0.782782\n",
       "115              1160          0.889536\n",
       "116              1170          0.963297\n",
       "117              1180          0.997817\n",
       "118              1190          0.990173\n",
       "\n",
       "[119 rows x 2 columns]"
      ]
     },
     "metadata": {},
     "output_type": "display_data"
    }
   ],
   "source": [
    "fringe_frequency_label = f\"Fringe Frequency\"\n",
    "grism_efficiency_label = f\"Grism Efficiency\"\n",
    "data = {\n",
    "    fringe_frequency_label: fringe_frequency[:],\n",
    "    grism_efficiency_label: efficiency[:],\n",
    "}\n",
    "\n",
    "df = pd.DataFrame.from_dict(data=data)\n",
    "graph = plot.line(\n",
    "    df=df,\n",
    "    x=fringe_frequency_label,\n",
    "    y=[grism_efficiency_label],\n",
    "    title=\"Grism Efficiency versus Fringe Density\",\n",
    "    dark=False,\n",
    ")\n",
    "graph.show()\n",
    "display(df)"
   ]
  }
 ],
 "metadata": {
  "kernelspec": {
   "display_name": "Python 3.10.2 ('.venv': poetry)",
   "language": "python",
   "name": "python3"
  },
  "language_info": {
   "codemirror_mode": {
    "name": "ipython",
    "version": 3
   },
   "file_extension": ".py",
   "mimetype": "text/x-python",
   "name": "python",
   "nbconvert_exporter": "python",
   "pygments_lexer": "ipython3",
   "version": "3.10.2"
  },
  "orig_nbformat": 4,
  "vscode": {
   "interpreter": {
    "hash": "c7f7db14290ee85b175349f2631bdb05d469f7447c44ef0646cf24ece398b7f0"
   }
  }
 },
 "nbformat": 4,
 "nbformat_minor": 2
}
