{
 "cells": [
  {
   "cell_type": "markdown",
   "metadata": {},
   "source": [
    "# Tradebook Template\n",
    "Use this notebook as a template to create a tradebook."
   ]
  },
  {
   "cell_type": "code",
   "execution_count": 1,
   "metadata": {},
   "outputs": [],
   "source": [
    "# imports\n",
    "import astropy.units as unit\n",
    "import numpy as np\n",
    "import pandas as pd\n",
    "import plot\n",
    "from IPython.display import display\n",
    "from architect import components, systems"
   ]
  },
  {
   "cell_type": "markdown",
   "metadata": {},
   "source": [
    "## Setup\n",
    "Run this section onwards when a parameter is updated."
   ]
  },
  {
   "cell_type": "markdown",
   "metadata": {},
   "source": [
    "### Parameters"
   ]
  },
  {
   "cell_type": "code",
   "execution_count": null,
   "metadata": {},
   "outputs": [],
   "source": [
    "# region constants\n",
    "orbital_altitude = 550 * unit.km\n",
    "# endregion\n",
    "\n",
    "\n",
    "# region variables\n",
    "skew_angle = np.arange(start=0, stop=200, step=0.001) * unit.deg\n",
    "# endregion"
   ]
  },
  {
   "cell_type": "markdown",
   "metadata": {},
   "source": [
    "### Artifact Instantiation"
   ]
  },
  {
   "cell_type": "code",
   "execution_count": 8,
   "metadata": {},
   "outputs": [],
   "source": [
    "# region components\n",
    "\n",
    "# endregion\n",
    "\n",
    "\n",
    "# region systems\n",
    "payload = systems.spectrometers.HyperspectralImager()\n",
    "# endregion"
   ]
  },
  {
   "cell_type": "markdown",
   "metadata": {},
   "source": [
    "## Pipeline\n",
    "The computational graph"
   ]
  },
  {
   "cell_type": "code",
   "execution_count": 15,
   "metadata": {},
   "outputs": [
    {
     "ename": "AttributeError",
     "evalue": "'HyperspectralImager' object has no attribute 'get_ground_target_error'",
     "output_type": "error",
     "traceback": [
      "\u001b[1;31m---------------------------------------------------------------------------\u001b[0m",
      "\u001b[1;31mAttributeError\u001b[0m                            Traceback (most recent call last)",
      "\u001b[1;32mc:\\GitHub\\payload-designer\\tradebooks\\ground_target_error_vs_skew_angle_error.ipynb Cell 9\u001b[0m in \u001b[0;36m<cell line: 1>\u001b[1;34m()\u001b[0m\n\u001b[1;32m----> <a href='vscode-notebook-cell:/c%3A/GitHub/payload-designer/tradebooks/ground_target_error_vs_skew_angle_error.ipynb#X11sZmlsZQ%3D%3D?line=0'>1</a>\u001b[0m ground_error \u001b[39m=\u001b[39m payload\u001b[39m.\u001b[39;49mget_ground_target_error(orbital_altitude, skew_angle)\n",
      "\u001b[1;31mAttributeError\u001b[0m: 'HyperspectralImager' object has no attribute 'get_ground_target_error'"
     ]
    }
   ],
   "source": [
    "ground_error = payload.get_ground_target_error(orbital_altitude, skew_angle)"
   ]
  },
  {
   "cell_type": "markdown",
   "metadata": {},
   "source": [
    "## Plots"
   ]
  },
  {
   "cell_type": "code",
   "execution_count": null,
   "metadata": {},
   "outputs": [],
   "source": []
  }
 ],
 "metadata": {
  "kernelspec": {
   "display_name": "Python 3.10.7 ('.venv': poetry)",
   "language": "python",
   "name": "python3"
  },
  "language_info": {
   "codemirror_mode": {
    "name": "ipython",
    "version": 3
   },
   "file_extension": ".py",
   "mimetype": "text/x-python",
   "name": "python",
   "nbconvert_exporter": "python",
   "pygments_lexer": "ipython3",
   "version": "3.10.7"
  },
  "orig_nbformat": 4,
  "vscode": {
   "interpreter": {
    "hash": "c4b485a9dc540be4f5d287e4eb00fc79125e03014bfc694222ba78c2b10f3405"
   }
  }
 },
 "nbformat": 4,
 "nbformat_minor": 2
}
