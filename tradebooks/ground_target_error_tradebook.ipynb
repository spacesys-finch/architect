{
 "cells": [
  {
   "cell_type": "markdown",
   "metadata": {},
   "source": [
    "# Ground Target Error Tradebook\n",
    "Ground target error vs relative pointing accuracy\n",
    "\n"
   ]
  },
  {
   "cell_type": "code",
   "execution_count": null,
   "metadata": {},
   "outputs": [],
   "source": [
    "# stdlib\n",
    "from pathlib import Path\n",
    "\n",
    "# external\n",
    "import astropy.units as unit\n",
    "import numpy as np\n",
    "import pandas as pd\n",
    "import plot\n",
    "from IPython.display import display\n",
    "\n",
    "# project\n",
    "from architect.systems.optical.spectrometers import HyperspectralImager"
   ]
  },
  {
   "cell_type": "markdown",
   "metadata": {},
   "source": [
    "## Setup"
   ]
  },
  {
   "cell_type": "code",
   "execution_count": null,
   "metadata": {},
   "outputs": [],
   "source": [
    "# region constants\n",
    "orbital_altitude = 500 * unit.km\n",
    "skew_angle = 0 * unit.deg\n",
    "# endregion\n",
    "\n",
    "# region variables\n",
    "pointing_accuracy = np.arange(start=0.0001, stop=0.1, step=0.0010) * unit.deg\n",
    "# endregion"
   ]
  },
  {
   "cell_type": "markdown",
   "metadata": {},
   "source": [
    "### System Instantiation"
   ]
  },
  {
   "cell_type": "code",
   "execution_count": null,
   "metadata": {},
   "outputs": [],
   "source": [
    "system = HyperspectralImager()"
   ]
  },
  {
   "cell_type": "markdown",
   "metadata": {},
   "source": [
    "## Pipeline"
   ]
  },
  {
   "cell_type": "code",
   "execution_count": null,
   "metadata": {},
   "outputs": [],
   "source": [
    "ground_target_error = system.get_ground_target_error(\n",
    "    orbital_altitude=orbital_altitude,\n",
    "    skew_angle=skew_angle,\n",
    "    pointing_accuracy=pointing_accuracy,\n",
    ")"
   ]
  },
  {
   "cell_type": "markdown",
   "metadata": {},
   "source": [
    "## Plot"
   ]
  },
  {
   "cell_type": "code",
   "execution_count": null,
   "metadata": {},
   "outputs": [],
   "source": [
    "pointing_accuracy_label = f\"Pointing Accuracy [{pointing_accuracy.unit}]\"\n",
    "ground_target_error_label = f\"Ground Target Error [{ground_target_error.unit}]\"\n",
    "\n",
    "data = {\n",
    "    pointing_accuracy_label: pointing_accuracy,\n",
    "    ground_target_error_label: ground_target_error,\n",
    "}\n",
    "\n",
    "df = pd.DataFrame.from_dict(data=data)\n",
    "fig = plot.line(\n",
    "    df=df,\n",
    "    x=pointing_accuracy_label,\n",
    "    y=ground_target_error_label,\n",
    "    title=\"Ground Target Error vs Relative Pointing Accuracy\",\n",
    "    dark=True,\n",
    ")\n",
    "\n",
    "fig.show()\n",
    "display(df)"
   ]
  },
  {
   "cell_type": "code",
   "execution_count": null,
   "metadata": {},
   "outputs": [],
   "source": [
    "file_name = \"ground_target_error_tradebook\"\n",
    "output_path = Path(\"output\") / file_name\n",
    "output_path.mkdir(parents=True, exist_ok=True)\n",
    "\n",
    "df.to_csv(output_path / \"data.csv\", index=False)\n",
    "plot.save(fig=fig, name=file_name, path=output_path)"
   ]
  }
 ],
 "metadata": {
  "kernelspec": {
   "display_name": "Python 3.10.4 ('.venv': poetry)",
   "language": "python",
   "name": "python3"
  },
  "language_info": {
   "codemirror_mode": {
    "name": "ipython",
    "version": 3
   },
   "file_extension": ".py",
   "mimetype": "text/x-python",
   "name": "python",
   "nbconvert_exporter": "python",
   "pygments_lexer": "ipython3",
   "version": "3.10.4"
  },
  "orig_nbformat": 4,
  "vscode": {
   "interpreter": {
    "hash": "a051636751d8b8c3fb678ae2c2b84596f57742a247cc1675aae9ee3b371aaacc"
   }
  }
 },
 "nbformat": 4,
 "nbformat_minor": 2
}
