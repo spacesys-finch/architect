{
 "cells": [
  {
   "cell_type": "markdown",
   "metadata": {},
   "source": [
    "# Spatial Resolution & Swath vs Focal Length Trade\n",
    "Tradeoff between spatial resolution and swath width for a given range of foreoptic focal lengths."
   ]
  },
  {
   "cell_type": "code",
   "execution_count": 1,
   "metadata": {},
   "outputs": [],
   "source": [
    "# stdlib\n",
    "from pathlib import Path\n",
    "\n",
    "# external\n",
    "import astropy.units as unit\n",
    "import numpy as np\n",
    "import pandas as pd\n",
    "import plot\n",
    "from IPython.display import display\n",
    "\n",
    "# project\n",
    "from architect.systems.optical.spectrometers import HyperspectralImager\n",
    "from architect.systems.optical.sensors import TauSWIR\n",
    "from architect.systems.optical.foreoptics import Foreoptic\n",
    "from architect.systems.optical.masks import RectSlit\n",
    "from architect.libs import utillib"
   ]
  },
  {
   "cell_type": "markdown",
   "metadata": {},
   "source": [
    "## Setup"
   ]
  },
  {
   "cell_type": "code",
   "execution_count": 2,
   "metadata": {},
   "outputs": [],
   "source": [
    "output_dir = Path(\"output/spatial_resolution_&_swath_vs_focal_length_trade/\")\n",
    "output_dir.mkdir(parents=True, exist_ok=True)"
   ]
  },
  {
   "cell_type": "markdown",
   "metadata": {},
   "source": [
    "### Parameters"
   ]
  },
  {
   "cell_type": "code",
   "execution_count": 4,
   "metadata": {},
   "outputs": [
    {
     "data": {
      "text/plain": [
       "' focal_length = utillib.orient_and_broadcast(\\n    a=focal_length, dim=0, shape=parameter_space_shape\\n) '"
      ]
     },
     "execution_count": 4,
     "metadata": {},
     "output_type": "execute_result"
    }
   ],
   "source": [
    "# constants\n",
    "orbital_altitude = 550 * unit.km\n",
    "foreoptic_diameter = 44 * unit.mm\n",
    "skew_angle = np.array([0, 0]) * unit.deg\n",
    "slit_size = np.array([3, 1]) * unit.mm\n",
    "target_wavelength = 1300 * unit.nm\n",
    "\n",
    "# variables\n",
    "focal_length = np.arange(start=10, stop=300, step=10) * unit.mm\n",
    "\n",
    "# vectorization\n",
    "parameter_space_shape = (focal_length.size, slit_size.size)\n",
    "focal_length = utillib.hypercast(focal_length, slit_size)\n",
    "\n",
    "\"\"\" focal_length = utillib.orient_and_broadcast(\n",
    "    a=focal_length, dim=0, shape=parameter_space_shape\n",
    ") \"\"\""
   ]
  },
  {
   "cell_type": "markdown",
   "metadata": {},
   "source": [
    "### Instantiation"
   ]
  },
  {
   "cell_type": "code",
   "execution_count": 5,
   "metadata": {},
   "outputs": [],
   "source": [
    "# components\n",
    "sensor = TauSWIR()\n",
    "\n",
    "foreoptic = Foreoptic(\n",
    "    diameter=foreoptic_diameter, focal_length=focal_length\n",
    ")\n",
    "\n",
    "slit = RectSlit(size=slit_size)\n",
    "\n",
    "# systems\n",
    "payload = HyperspectralImager(\n",
    "    sensor=sensor, foreoptic=foreoptic, slit=slit\n",
    ")"
   ]
  },
  {
   "cell_type": "markdown",
   "metadata": {},
   "source": [
    "## Pipeline"
   ]
  },
  {
   "cell_type": "code",
   "execution_count": 6,
   "metadata": {},
   "outputs": [
    {
     "ename": "UnitConversionError",
     "evalue": "Can only apply 'maximum' function to quantities with compatible dimensions",
     "output_type": "error",
     "traceback": [
      "\u001b[1;31m---------------------------------------------------------------------------\u001b[0m",
      "\u001b[1;31mUnitConversionError\u001b[0m                       Traceback (most recent call last)",
      "File \u001b[1;32mc:\\Users\\Kevin Yuan\\OneDrive\\Documents\\GitHub\\payload-designer\\.venv\\lib\\site-packages\\astropy\\units\\quantity_helper\\helpers.py:68\u001b[0m, in \u001b[0;36mget_converters_and_unit\u001b[1;34m(f, unit1, unit2)\u001b[0m\n\u001b[0;32m     67\u001b[0m \u001b[39mtry\u001b[39;00m:\n\u001b[1;32m---> 68\u001b[0m     converters[changeable] \u001b[39m=\u001b[39m get_converter(unit2, unit1)\n\u001b[0;32m     69\u001b[0m \u001b[39mexcept\u001b[39;00m UnitsError:\n",
      "File \u001b[1;32mc:\\Users\\Kevin Yuan\\OneDrive\\Documents\\GitHub\\payload-designer\\.venv\\lib\\site-packages\\astropy\\units\\quantity_helper\\helpers.py:32\u001b[0m, in \u001b[0;36mget_converter\u001b[1;34m(from_unit, to_unit)\u001b[0m\n\u001b[0;32m     30\u001b[0m \u001b[39m\"\"\"Like Unit._get_converter, except returns None if no scaling is needed,\u001b[39;00m\n\u001b[0;32m     31\u001b[0m \u001b[39mi.e., if the inferred scale is unity.\"\"\"\u001b[39;00m\n\u001b[1;32m---> 32\u001b[0m converter \u001b[39m=\u001b[39m from_unit\u001b[39m.\u001b[39;49m_get_converter(to_unit)\n\u001b[0;32m     33\u001b[0m \u001b[39mreturn\u001b[39;00m \u001b[39mNone\u001b[39;00m \u001b[39mif\u001b[39;00m converter \u001b[39mis\u001b[39;00m unit_scale_converter \u001b[39melse\u001b[39;00m converter\n",
      "File \u001b[1;32mc:\\Users\\Kevin Yuan\\OneDrive\\Documents\\GitHub\\payload-designer\\.venv\\lib\\site-packages\\astropy\\units\\core.py:1061\u001b[0m, in \u001b[0;36mUnitBase._get_converter\u001b[1;34m(self, other, equivalencies)\u001b[0m\n\u001b[0;32m   1059\u001b[0m                 \u001b[39mpass\u001b[39;00m\n\u001b[1;32m-> 1061\u001b[0m \u001b[39mraise\u001b[39;00m exc\n",
      "File \u001b[1;32mc:\\Users\\Kevin Yuan\\OneDrive\\Documents\\GitHub\\payload-designer\\.venv\\lib\\site-packages\\astropy\\units\\core.py:1046\u001b[0m, in \u001b[0;36mUnitBase._get_converter\u001b[1;34m(self, other, equivalencies)\u001b[0m\n\u001b[0;32m   1045\u001b[0m \u001b[39mtry\u001b[39;00m:\n\u001b[1;32m-> 1046\u001b[0m     \u001b[39mreturn\u001b[39;00m \u001b[39mself\u001b[39;49m\u001b[39m.\u001b[39;49m_apply_equivalencies(\n\u001b[0;32m   1047\u001b[0m         \u001b[39mself\u001b[39;49m, other, \u001b[39mself\u001b[39;49m\u001b[39m.\u001b[39;49m_normalize_equivalencies(equivalencies))\n\u001b[0;32m   1048\u001b[0m \u001b[39mexcept\u001b[39;00m UnitsError \u001b[39mas\u001b[39;00m exc:\n\u001b[0;32m   1049\u001b[0m     \u001b[39m# Last hope: maybe other knows how to do it?\u001b[39;00m\n\u001b[0;32m   1050\u001b[0m     \u001b[39m# We assume the equivalencies have the unit itself as first item.\u001b[39;00m\n\u001b[0;32m   1051\u001b[0m     \u001b[39m# TODO: maybe better for other to have a `_back_converter` method?\u001b[39;00m\n",
      "File \u001b[1;32mc:\\Users\\Kevin Yuan\\OneDrive\\Documents\\GitHub\\payload-designer\\.venv\\lib\\site-packages\\astropy\\units\\core.py:1022\u001b[0m, in \u001b[0;36mUnitBase._apply_equivalencies\u001b[1;34m(self, unit, other, equivalencies)\u001b[0m\n\u001b[0;32m   1020\u001b[0m other_str \u001b[39m=\u001b[39m get_err_str(other)\n\u001b[1;32m-> 1022\u001b[0m \u001b[39mraise\u001b[39;00m UnitConversionError(\n\u001b[0;32m   1023\u001b[0m     \u001b[39mf\u001b[39m\u001b[39m\"\u001b[39m\u001b[39m{\u001b[39;00munit_str\u001b[39m}\u001b[39;00m\u001b[39m and \u001b[39m\u001b[39m{\u001b[39;00mother_str\u001b[39m}\u001b[39;00m\u001b[39m are not convertible\u001b[39m\u001b[39m\"\u001b[39m)\n",
      "\u001b[1;31mUnitConversionError\u001b[0m: 'km nm / mm' (length) and 'km um' (area) are not convertible",
      "\nDuring handling of the above exception, another exception occurred:\n",
      "\u001b[1;31mUnitConversionError\u001b[0m                       Traceback (most recent call last)",
      "\u001b[1;32mc:\\GitHub\\architect\\tradebooks\\spatial_resolution_&_swath_vs_focal_length_trade.ipynb Cell 10\u001b[0m in \u001b[0;36m<cell line: 1>\u001b[1;34m()\u001b[0m\n\u001b[1;32m----> <a href='vscode-notebook-cell:/c%3A/GitHub/architect/tradebooks/spatial_resolution_%26_swath_vs_focal_length_trade.ipynb#X12sZmlsZQ%3D%3D?line=0'>1</a>\u001b[0m sensor_spatial_resolution \u001b[39m=\u001b[39m payload\u001b[39m.\u001b[39;49mget_spatial_resolution(\n\u001b[0;32m      <a href='vscode-notebook-cell:/c%3A/GitHub/architect/tradebooks/spatial_resolution_%26_swath_vs_focal_length_trade.ipynb#X12sZmlsZQ%3D%3D?line=1'>2</a>\u001b[0m     wavelength\u001b[39m=\u001b[39;49mtarget_wavelength,\n\u001b[0;32m      <a href='vscode-notebook-cell:/c%3A/GitHub/architect/tradebooks/spatial_resolution_%26_swath_vs_focal_length_trade.ipynb#X12sZmlsZQ%3D%3D?line=2'>3</a>\u001b[0m     target_distance\u001b[39m=\u001b[39;49morbital_altitude,\n\u001b[0;32m      <a href='vscode-notebook-cell:/c%3A/GitHub/architect/tradebooks/spatial_resolution_%26_swath_vs_focal_length_trade.ipynb#X12sZmlsZQ%3D%3D?line=3'>4</a>\u001b[0m     skew_angle\u001b[39m=\u001b[39;49mskew_angle[\u001b[39m0\u001b[39;49m],\n\u001b[0;32m      <a href='vscode-notebook-cell:/c%3A/GitHub/architect/tradebooks/spatial_resolution_%26_swath_vs_focal_length_trade.ipynb#X12sZmlsZQ%3D%3D?line=4'>5</a>\u001b[0m )\u001b[39m.\u001b[39mto(unit\u001b[39m.\u001b[39mm)\n\u001b[0;32m      <a href='vscode-notebook-cell:/c%3A/GitHub/architect/tradebooks/spatial_resolution_%26_swath_vs_focal_length_trade.ipynb#X12sZmlsZQ%3D%3D?line=6'>7</a>\u001b[0m display(\n\u001b[0;32m      <a href='vscode-notebook-cell:/c%3A/GitHub/architect/tradebooks/spatial_resolution_%26_swath_vs_focal_length_trade.ipynb#X12sZmlsZQ%3D%3D?line=7'>8</a>\u001b[0m     \u001b[39mf\u001b[39m\u001b[39m\"\u001b[39m\u001b[39mSensor-limited spatial resolution test shape: \u001b[39m\u001b[39m{\u001b[39;00msensor_spatial_resolution\u001b[39m.\u001b[39mshape\u001b[39m}\u001b[39;00m\u001b[39m\"\u001b[39m\n\u001b[0;32m      <a href='vscode-notebook-cell:/c%3A/GitHub/architect/tradebooks/spatial_resolution_%26_swath_vs_focal_length_trade.ipynb#X12sZmlsZQ%3D%3D?line=8'>9</a>\u001b[0m )\n\u001b[0;32m     <a href='vscode-notebook-cell:/c%3A/GitHub/architect/tradebooks/spatial_resolution_%26_swath_vs_focal_length_trade.ipynb#X12sZmlsZQ%3D%3D?line=10'>11</a>\u001b[0m swath \u001b[39m=\u001b[39m payload\u001b[39m.\u001b[39mget_swath(altitude\u001b[39m=\u001b[39morbital_altitude, skew_angle\u001b[39m=\u001b[39mskew_angle)\n",
      "File \u001b[1;32mC:\\GitHub\\architect\\architect\\systems\\optical\\spectrometers.py:280\u001b[0m, in \u001b[0;36mHyperspectralImager.get_spatial_resolution\u001b[1;34m(self, wavelength, target_distance, skew_angle)\u001b[0m\n\u001b[0;32m    270\u001b[0m     sensor_spatial_resolution \u001b[39m=\u001b[39m \u001b[39mself\u001b[39m\u001b[39m.\u001b[39mget_sensor_spatial_resolution(\n\u001b[0;32m    271\u001b[0m         target_distance\u001b[39m=\u001b[39mtarget_distance\n\u001b[0;32m    272\u001b[0m     )\n\u001b[0;32m    274\u001b[0m     optical_spatial_resolution \u001b[39m=\u001b[39m \u001b[39mself\u001b[39m\u001b[39m.\u001b[39mget_optical_spatial_resolution(\n\u001b[0;32m    275\u001b[0m         wavelength\u001b[39m=\u001b[39mwavelength,\n\u001b[0;32m    276\u001b[0m         target_distance\u001b[39m=\u001b[39mtarget_distance,\n\u001b[0;32m    277\u001b[0m         skew_angle\u001b[39m=\u001b[39mskew_angle,\n\u001b[0;32m    278\u001b[0m     )\n\u001b[1;32m--> 280\u001b[0m     spatial_resolution \u001b[39m=\u001b[39m np\u001b[39m.\u001b[39;49mmaximum(\n\u001b[0;32m    281\u001b[0m         sensor_spatial_resolution, optical_spatial_resolution\n\u001b[0;32m    282\u001b[0m     )\n\u001b[0;32m    284\u001b[0m \u001b[39mreturn\u001b[39;00m spatial_resolution\n",
      "File \u001b[1;32mc:\\Users\\Kevin Yuan\\OneDrive\\Documents\\GitHub\\payload-designer\\.venv\\lib\\site-packages\\astropy\\units\\quantity.py:591\u001b[0m, in \u001b[0;36mQuantity.__array_ufunc__\u001b[1;34m(self, function, method, *inputs, **kwargs)\u001b[0m\n\u001b[0;32m    569\u001b[0m \u001b[39m\"\"\"Wrap numpy ufuncs, taking care of units.\u001b[39;00m\n\u001b[0;32m    570\u001b[0m \n\u001b[0;32m    571\u001b[0m \u001b[39mParameters\u001b[39;00m\n\u001b[1;32m   (...)\u001b[0m\n\u001b[0;32m    585\u001b[0m \u001b[39m    Results of the ufunc, with the unit set properly.\u001b[39;00m\n\u001b[0;32m    586\u001b[0m \u001b[39m\"\"\"\u001b[39;00m\n\u001b[0;32m    587\u001b[0m \u001b[39m# Determine required conversion functions -- to bring the unit of the\u001b[39;00m\n\u001b[0;32m    588\u001b[0m \u001b[39m# input to that expected (e.g., radian for np.sin), or to get\u001b[39;00m\n\u001b[0;32m    589\u001b[0m \u001b[39m# consistent units between two inputs (e.g., in np.add) --\u001b[39;00m\n\u001b[0;32m    590\u001b[0m \u001b[39m# and the unit of the result (or tuple of units for nout > 1).\u001b[39;00m\n\u001b[1;32m--> 591\u001b[0m converters, unit \u001b[39m=\u001b[39m converters_and_unit(function, method, \u001b[39m*\u001b[39;49minputs)\n\u001b[0;32m    593\u001b[0m out \u001b[39m=\u001b[39m kwargs\u001b[39m.\u001b[39mget(\u001b[39m'\u001b[39m\u001b[39mout\u001b[39m\u001b[39m'\u001b[39m, \u001b[39mNone\u001b[39;00m)\n\u001b[0;32m    594\u001b[0m \u001b[39m# Avoid loop back by turning any Quantity output into array views.\u001b[39;00m\n",
      "File \u001b[1;32mc:\\Users\\Kevin Yuan\\OneDrive\\Documents\\GitHub\\payload-designer\\.venv\\lib\\site-packages\\astropy\\units\\quantity_helper\\converters.py:174\u001b[0m, in \u001b[0;36mconverters_and_unit\u001b[1;34m(function, method, *args)\u001b[0m\n\u001b[0;32m    171\u001b[0m units \u001b[39m=\u001b[39m [\u001b[39mgetattr\u001b[39m(arg, \u001b[39m'\u001b[39m\u001b[39munit\u001b[39m\u001b[39m'\u001b[39m, \u001b[39mNone\u001b[39;00m) \u001b[39mfor\u001b[39;00m arg \u001b[39min\u001b[39;00m args]\n\u001b[0;32m    173\u001b[0m \u001b[39m# Determine possible conversion functions, and the result unit.\u001b[39;00m\n\u001b[1;32m--> 174\u001b[0m converters, result_unit \u001b[39m=\u001b[39m ufunc_helper(function, \u001b[39m*\u001b[39;49munits)\n\u001b[0;32m    176\u001b[0m \u001b[39mif\u001b[39;00m \u001b[39many\u001b[39m(converter \u001b[39mis\u001b[39;00m \u001b[39mFalse\u001b[39;00m \u001b[39mfor\u001b[39;00m converter \u001b[39min\u001b[39;00m converters):\n\u001b[0;32m    177\u001b[0m     \u001b[39m# for multi-argument ufuncs with a quantity and a non-quantity,\u001b[39;00m\n\u001b[0;32m    178\u001b[0m     \u001b[39m# the quantity normally needs to be dimensionless, *except*\u001b[39;00m\n\u001b[1;32m   (...)\u001b[0m\n\u001b[0;32m    181\u001b[0m     \u001b[39m# can just have the unit of the quantity\u001b[39;00m\n\u001b[0;32m    182\u001b[0m     \u001b[39m# (this allows, e.g., `q > 0.` independent of unit)\u001b[39;00m\n\u001b[0;32m    183\u001b[0m     \u001b[39mtry\u001b[39;00m:\n\u001b[0;32m    184\u001b[0m         \u001b[39m# Don't fold this loop in the test above: this rare case\u001b[39;00m\n\u001b[0;32m    185\u001b[0m         \u001b[39m# should not make the common case slower.\u001b[39;00m\n",
      "File \u001b[1;32mc:\\Users\\Kevin Yuan\\OneDrive\\Documents\\GitHub\\payload-designer\\.venv\\lib\\site-packages\\astropy\\units\\quantity_helper\\helpers.py:70\u001b[0m, in \u001b[0;36mget_converters_and_unit\u001b[1;34m(f, unit1, unit2)\u001b[0m\n\u001b[0;32m     68\u001b[0m     converters[changeable] \u001b[39m=\u001b[39m get_converter(unit2, unit1)\n\u001b[0;32m     69\u001b[0m \u001b[39mexcept\u001b[39;00m UnitsError:\n\u001b[1;32m---> 70\u001b[0m     \u001b[39mraise\u001b[39;00m UnitConversionError(\n\u001b[0;32m     71\u001b[0m         \u001b[39m\"\u001b[39m\u001b[39mCan only apply \u001b[39m\u001b[39m'\u001b[39m\u001b[39m{}\u001b[39;00m\u001b[39m'\u001b[39m\u001b[39m function to quantities \u001b[39m\u001b[39m\"\u001b[39m\n\u001b[0;32m     72\u001b[0m         \u001b[39m\"\u001b[39m\u001b[39mwith compatible dimensions\u001b[39m\u001b[39m\"\u001b[39m\n\u001b[0;32m     73\u001b[0m         \u001b[39m.\u001b[39mformat(f\u001b[39m.\u001b[39m\u001b[39m__name__\u001b[39m))\n\u001b[0;32m     75\u001b[0m \u001b[39mreturn\u001b[39;00m converters, unit1\n",
      "\u001b[1;31mUnitConversionError\u001b[0m: Can only apply 'maximum' function to quantities with compatible dimensions"
     ]
    }
   ],
   "source": [
    "sensor_spatial_resolution = payload.get_spatial_resolution(\n",
    "    wavelength=target_wavelength,\n",
    "    target_distance=orbital_altitude,\n",
    "    skew_angle=skew_angle[0],\n",
    ").to(unit.m)\n",
    "\n",
    "display(\n",
    "    f\"Sensor-limited spatial resolution test shape: {sensor_spatial_resolution.shape}\"\n",
    ")\n",
    "\n",
    "swath = payload.get_swath(altitude=orbital_altitude, skew_angle=skew_angle)\n",
    "display(f\"Swath shape: {swath.shape}\")"
   ]
  },
  {
   "cell_type": "markdown",
   "metadata": {},
   "source": [
    "## Plots"
   ]
  },
  {
   "cell_type": "code",
   "execution_count": 7,
   "metadata": {},
   "outputs": [
    {
     "ename": "AttributeError",
     "evalue": "'list' object has no attribute 'unit'",
     "output_type": "error",
     "traceback": [
      "\u001b[1;31m---------------------------------------------------------------------------\u001b[0m",
      "\u001b[1;31mAttributeError\u001b[0m                            Traceback (most recent call last)",
      "\u001b[1;32mc:\\GitHub\\architect\\tradebooks\\spatial_resolution_&_swath_vs_focal_length_trade.ipynb Cell 12\u001b[0m in \u001b[0;36m<cell line: 1>\u001b[1;34m()\u001b[0m\n\u001b[1;32m----> <a href='vscode-notebook-cell:/c%3A/GitHub/architect/tradebooks/spatial_resolution_%26_swath_vs_focal_length_trade.ipynb#X14sZmlsZQ%3D%3D?line=0'>1</a>\u001b[0m focal_length_label \u001b[39m=\u001b[39m \u001b[39mf\u001b[39m\u001b[39m\"\u001b[39m\u001b[39mFocal Length [\u001b[39m\u001b[39m{\u001b[39;00mfocal_length\u001b[39m.\u001b[39munit\u001b[39m}\u001b[39;00m\u001b[39m]\u001b[39m\u001b[39m\"\u001b[39m\n\u001b[0;32m      <a href='vscode-notebook-cell:/c%3A/GitHub/architect/tradebooks/spatial_resolution_%26_swath_vs_focal_length_trade.ipynb#X14sZmlsZQ%3D%3D?line=1'>2</a>\u001b[0m sensor_spatial_resolution_label \u001b[39m=\u001b[39m (\n\u001b[0;32m      <a href='vscode-notebook-cell:/c%3A/GitHub/architect/tradebooks/spatial_resolution_%26_swath_vs_focal_length_trade.ipynb#X14sZmlsZQ%3D%3D?line=2'>3</a>\u001b[0m     \u001b[39mf\u001b[39m\u001b[39m\"\u001b[39m\u001b[39mSpatial Resolution [\u001b[39m\u001b[39m{\u001b[39;00msensor_spatial_resolution\u001b[39m.\u001b[39munit\u001b[39m}\u001b[39;00m\u001b[39m]\u001b[39m\u001b[39m\"\u001b[39m\n\u001b[0;32m      <a href='vscode-notebook-cell:/c%3A/GitHub/architect/tradebooks/spatial_resolution_%26_swath_vs_focal_length_trade.ipynb#X14sZmlsZQ%3D%3D?line=3'>4</a>\u001b[0m )\n\u001b[0;32m      <a href='vscode-notebook-cell:/c%3A/GitHub/architect/tradebooks/spatial_resolution_%26_swath_vs_focal_length_trade.ipynb#X14sZmlsZQ%3D%3D?line=4'>5</a>\u001b[0m swath_label_x \u001b[39m=\u001b[39m \u001b[39mf\u001b[39m\u001b[39m\"\u001b[39m\u001b[39mSwath (across-track) [\u001b[39m\u001b[39m{\u001b[39;00mswath\u001b[39m.\u001b[39munit\u001b[39m}\u001b[39;00m\u001b[39m]\u001b[39m\u001b[39m\"\u001b[39m\n",
      "\u001b[1;31mAttributeError\u001b[0m: 'list' object has no attribute 'unit'"
     ]
    }
   ],
   "source": [
    "focal_length_label = f\"Focal Length [{focal_length.unit}]\"\n",
    "sensor_spatial_resolution_label = (\n",
    "    f\"Spatial Resolution [{sensor_spatial_resolution.unit}]\"\n",
    ")\n",
    "swath_label_x = f\"Swath (across-track) [{swath.unit}]\"\n",
    "swath_label_y = f\"Swath (along-track) [{swath.unit}]\"\n",
    "\n",
    "\n",
    "data = {\n",
    "    focal_length_label: focal_length[:, 0],\n",
    "    sensor_spatial_resolution_label: sensor_spatial_resolution[:, 0],\n",
    "    swath_label_x: swath[:, 0],\n",
    "    swath_label_y: swath[:, 1],\n",
    "}\n",
    "\n",
    "df = pd.DataFrame.from_dict(data=data)\n",
    "fig = plot.line(\n",
    "    df=df,\n",
    "    x=focal_length_label,\n",
    "    y=[\n",
    "        sensor_spatial_resolution_label,\n",
    "        swath_label_x,\n",
    "        swath_label_y,\n",
    "    ],\n",
    "    title=None,\n",
    "    dark=True,\n",
    ")\n",
    "df.to_csv(output_dir / \"data.csv\", index=False)\n",
    "plot.save(\n",
    "    fig=fig, name=\"spatial_resolution_&_swath_vs_focal_length_trade\", path=output_dir\n",
    ")\n",
    "\n",
    "\n",
    "fig.show()\n",
    "display(df)\n",
    "display(payload)"
   ]
  }
 ],
 "metadata": {
  "kernelspec": {
   "display_name": "Python 3.10.7 ('.venv')",
   "language": "python",
   "name": "python3"
  },
  "language_info": {
   "codemirror_mode": {
    "name": "ipython",
    "version": 3
   },
   "file_extension": ".py",
   "mimetype": "text/x-python",
   "name": "python",
   "nbconvert_exporter": "python",
   "pygments_lexer": "ipython3",
   "version": "3.10.7"
  },
  "orig_nbformat": 4,
  "vscode": {
   "interpreter": {
    "hash": "954eb465ef275432acbe88fa8709e5817d929080df70ec253bc44624c4eab7d5"
   }
  }
 },
 "nbformat": 4,
 "nbformat_minor": 2
}
