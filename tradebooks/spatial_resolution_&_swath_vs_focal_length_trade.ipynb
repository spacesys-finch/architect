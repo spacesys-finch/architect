{
 "cells": [
  {
   "cell_type": "markdown",
   "metadata": {},
   "source": [
    "# Spatial Resolution & Swath vs Focal Length Trade\n",
    "Tradeoff between spatial resolution and swath width for a given range of foreoptic focal lengths."
   ]
  },
  {
   "cell_type": "code",
   "execution_count": 7,
   "metadata": {},
   "outputs": [],
   "source": [
    "# stdlib\n",
    "from pathlib import Path\n",
    "\n",
    "# external\n",
    "import astropy.units as unit\n",
    "import numpy as np\n",
    "import pandas as pd\n",
    "import plot\n",
    "from IPython.display import display\n",
    "\n",
    "# project\n",
    "from architect import components, systems\n",
    "from architect.libs import utillib\n",
    "from architect.systems.optical import foreoptics, masks, sensors, spectrometers"
   ]
  },
  {
   "cell_type": "markdown",
   "metadata": {},
   "source": [
    "## Setup"
   ]
  },
  {
   "cell_type": "code",
   "execution_count": 8,
   "metadata": {},
   "outputs": [],
   "source": [
    "output_dir = Path(\"output/spatial_resolution_&_swath_vs_focal_length_trade/\")\n",
    "output_dir.mkdir(parents=True, exist_ok=True)"
   ]
  },
  {
   "cell_type": "markdown",
   "metadata": {},
   "source": [
    "### Parameters"
   ]
  },
  {
   "cell_type": "code",
   "execution_count": 9,
   "metadata": {},
   "outputs": [],
   "source": [
    "# constants\n",
    "orbital_altitude = 550 * unit.km\n",
    "foreoptic_diameter = 44 * unit.mm\n",
    "skew_angle = np.array([40, 40]) * unit.deg\n",
    "slit_size = np.array([3, 1]) * unit.mm\n",
    "target_wavelength = 1300 * unit.nm\n",
    "\n",
    "# variables\n",
    "focal_length = np.arange(start=10, stop=300, step=10) * unit.mm\n",
    "\n",
    "# vectorization\n",
    "parameter_space_shape = (focal_length.size, slit_size.size)\n",
    "focal_length = utillib.orient_and_broadcast(\n",
    "    a=focal_length, dim=0, shape=parameter_space_shape\n",
    ")"
   ]
  },
  {
   "cell_type": "markdown",
   "metadata": {},
   "source": [
    "### Instantiation"
   ]
  },
  {
   "cell_type": "code",
   "execution_count": 10,
   "metadata": {},
   "outputs": [],
   "source": [
    "# components\n",
    "sensor = sensors.TauSWIR()\n",
    "\n",
    "foreoptic = foreoptics.Foreoptic(diameter=foreoptic_diameter, focal_length=focal_length)\n",
    "\n",
    "slit = masks.RectSlit(size=slit_size)\n",
    "\n",
    "# systems\n",
    "payload = spectrometers.HyperspectralImager(\n",
    "    sensor=sensor, foreoptic=foreoptic, slit=slit\n",
    ")"
   ]
  },
  {
   "cell_type": "markdown",
   "metadata": {},
   "source": [
    "## Pipeline"
   ]
  },
  {
   "cell_type": "code",
   "execution_count": 11,
   "metadata": {},
   "outputs": [
    {
     "data": {
      "text/plain": [
       "'Sensor-limited spatial resolution test shape: (29, 2)'"
      ]
     },
     "metadata": {},
     "output_type": "display_data"
    },
    {
     "data": {
      "text/plain": [
       "'Swath shape: (29, 2)'"
      ]
     },
     "metadata": {},
     "output_type": "display_data"
    }
   ],
   "source": [
    "sensor_spatial_resolution = payload.get_spatial_resolution(\n",
    "    wavelength=target_wavelength,\n",
    "    target_distance=orbital_altitude,\n",
    "    skew_angle=skew_angle[0],\n",
    ").to(unit.m)\n",
    "\n",
    "display(\n",
    "    f\"Sensor-limited spatial resolution test shape: {sensor_spatial_resolution.shape}\"\n",
    ")\n",
    "\n",
    "swath = payload.get_swath(altitude=orbital_altitude, skew_angle=skew_angle)\n",
    "display(f\"Swath shape: {swath.shape}\")"
   ]
  },
  {
   "cell_type": "markdown",
   "metadata": {},
   "source": [
    "## Plots"
   ]
  },
  {
   "cell_type": "code",
   "execution_count": 12,
   "metadata": {},
   "outputs": [
    {
     "data": {
      "application/vnd.plotly.v1+json": {
       "config": {
        "plotlyServerURL": "https://plot.ly"
       },
       "data": [
        {
         "hovertemplate": "variable=Spatial Resolution [m]<br>Focal Length [mm]=%{x}<br>value=%{y}<extra></extra>",
         "legendgroup": "Spatial Resolution [m]",
         "line": {
          "color": "#636efa",
          "dash": "solid"
         },
         "marker": {
          "symbol": "circle"
         },
         "mode": "lines",
         "name": "Spatial Resolution [m]",
         "orientation": "v",
         "showlegend": true,
         "type": "scatter",
         "x": [
          10,
          20,
          30,
          40,
          50,
          60,
          70,
          80,
          90,
          100,
          110,
          120,
          130,
          140,
          150,
          160,
          170,
          180,
          190,
          200,
          210,
          220,
          230,
          240,
          250,
          260,
          270,
          280,
          290
         ],
         "xaxis": "x",
         "y": [
          825,
          412.5,
          275,
          206.25000000000003,
          165,
          137.5,
          117.85714285714285,
          103.125,
          91.66666666666667,
          82.5,
          75,
          68.75,
          63.46153846153846,
          58.92857142857143,
          55,
          51.5625,
          48.529411764705884,
          45.833333333333336,
          43.421052631578945,
          41.25,
          39.285714285714285,
          37.5,
          35.869565217391305,
          34.375,
          33,
          31.73076923076923,
          30.555555555555557,
          29.464285714285715,
          28.448275862068964
         ],
         "yaxis": "y"
        },
        {
         "hovertemplate": "variable=Swath (across-track) [km]<br>Focal Length [mm]=%{x}<br>value=%{y}<extra></extra>",
         "legendgroup": "Swath (across-track) [km]",
         "line": {
          "color": "#EF553B",
          "dash": "solid"
         },
         "marker": {
          "symbol": "circle"
         },
         "mode": "lines",
         "name": "Swath (across-track) [km]",
         "orientation": "v",
         "showlegend": true,
         "type": "scatter",
         "x": [
          10,
          20,
          30,
          40,
          50,
          60,
          70,
          80,
          90,
          100,
          110,
          120,
          130,
          140,
          150,
          160,
          170,
          180,
          190,
          200,
          210,
          220,
          230,
          240,
          250,
          260,
          270,
          280,
          290
         ],
         "xaxis": "x",
         "y": [
          285.70061619776493,
          141.1462850689137,
          93.89011781532486,
          70.36330628005588,
          56.27056780244468,
          46.88305638262524,
          40.18078375507527,
          35.155521021675966,
          31.247728268120113,
          28.121910220791985,
          25.564669932567096,
          23.433790666712913,
          21.630839320719623,
          20.08551997856522,
          18.746290005602123,
          17.574497028345448,
          16.540586199236163,
          15.621572234865333,
          14.799310053611386,
          14.059284393501786,
          13.389745356226035,
          12.781079775097087,
          12.225346613899617,
          11.715928541808495,
          11.247267147323376,
          10.814659268094285,
          10.414098588584181,
          10.042151186498366,
          9.695856832041544
         ],
         "yaxis": "y"
        },
        {
         "hovertemplate": "variable=Swath (along-track) [km]<br>Focal Length [mm]=%{x}<br>value=%{y}<extra></extra>",
         "legendgroup": "Swath (along-track) [km]",
         "line": {
          "color": "#00cc96",
          "dash": "solid"
         },
         "marker": {
          "symbol": "circle"
         },
         "mode": "lines",
         "name": "Swath (along-track) [km]",
         "orientation": "v",
         "showlegend": true,
         "type": "scatter",
         "x": [
          10,
          20,
          30,
          40,
          50,
          60,
          70,
          80,
          90,
          100,
          110,
          120,
          130,
          140,
          150,
          160,
          170,
          180,
          190,
          200,
          210,
          220,
          230,
          240,
          250,
          260,
          270,
          280,
          290
         ],
         "xaxis": "x",
         "y": [
          93.89011781532486,
          46.88305638262524,
          31.247728268120113,
          23.433790666712913,
          18.746290005602123,
          15.621572234865333,
          13.389745356226035,
          11.715928541808495,
          10.414098588584181,
          9.372650030035306,
          8.520564906224399,
          7.810499682563171,
          7.209678977630207,
          6.694692302227945,
          6.248372249432394,
          5.85784343442497,
          5.513260080198706,
          5.206964427582683,
          4.932910921466954,
          4.686263147506003,
          4.463105933568773,
          4.260235971312398,
          4.0750070596952455,
          3.9052140385642753,
          3.749004578811493,
          3.6048113290717385,
          3.471299141219503,
          3.3473236048877695,
          3.2318981611951014
         ],
         "yaxis": "y"
        }
       ],
       "layout": {
        "legend": {
         "title": {
          "text": "variable"
         },
         "tracegroupgap": 0
        },
        "margin": {
         "t": 60
        },
        "template": {
         "data": {
          "bar": [
           {
            "error_x": {
             "color": "#f2f5fa"
            },
            "error_y": {
             "color": "#f2f5fa"
            },
            "marker": {
             "line": {
              "color": "rgb(17,17,17)",
              "width": 0.5
             },
             "pattern": {
              "fillmode": "overlay",
              "size": 10,
              "solidity": 0.2
             }
            },
            "type": "bar"
           }
          ],
          "barpolar": [
           {
            "marker": {
             "line": {
              "color": "rgb(17,17,17)",
              "width": 0.5
             },
             "pattern": {
              "fillmode": "overlay",
              "size": 10,
              "solidity": 0.2
             }
            },
            "type": "barpolar"
           }
          ],
          "carpet": [
           {
            "aaxis": {
             "endlinecolor": "#A2B1C6",
             "gridcolor": "#506784",
             "linecolor": "#506784",
             "minorgridcolor": "#506784",
             "startlinecolor": "#A2B1C6"
            },
            "baxis": {
             "endlinecolor": "#A2B1C6",
             "gridcolor": "#506784",
             "linecolor": "#506784",
             "minorgridcolor": "#506784",
             "startlinecolor": "#A2B1C6"
            },
            "type": "carpet"
           }
          ],
          "choropleth": [
           {
            "colorbar": {
             "outlinewidth": 0,
             "ticks": ""
            },
            "type": "choropleth"
           }
          ],
          "contour": [
           {
            "colorbar": {
             "outlinewidth": 0,
             "ticks": ""
            },
            "colorscale": [
             [
              0,
              "#0d0887"
             ],
             [
              0.1111111111111111,
              "#46039f"
             ],
             [
              0.2222222222222222,
              "#7201a8"
             ],
             [
              0.3333333333333333,
              "#9c179e"
             ],
             [
              0.4444444444444444,
              "#bd3786"
             ],
             [
              0.5555555555555556,
              "#d8576b"
             ],
             [
              0.6666666666666666,
              "#ed7953"
             ],
             [
              0.7777777777777778,
              "#fb9f3a"
             ],
             [
              0.8888888888888888,
              "#fdca26"
             ],
             [
              1,
              "#f0f921"
             ]
            ],
            "type": "contour"
           }
          ],
          "contourcarpet": [
           {
            "colorbar": {
             "outlinewidth": 0,
             "ticks": ""
            },
            "type": "contourcarpet"
           }
          ],
          "heatmap": [
           {
            "colorbar": {
             "outlinewidth": 0,
             "ticks": ""
            },
            "colorscale": [
             [
              0,
              "#0d0887"
             ],
             [
              0.1111111111111111,
              "#46039f"
             ],
             [
              0.2222222222222222,
              "#7201a8"
             ],
             [
              0.3333333333333333,
              "#9c179e"
             ],
             [
              0.4444444444444444,
              "#bd3786"
             ],
             [
              0.5555555555555556,
              "#d8576b"
             ],
             [
              0.6666666666666666,
              "#ed7953"
             ],
             [
              0.7777777777777778,
              "#fb9f3a"
             ],
             [
              0.8888888888888888,
              "#fdca26"
             ],
             [
              1,
              "#f0f921"
             ]
            ],
            "type": "heatmap"
           }
          ],
          "heatmapgl": [
           {
            "colorbar": {
             "outlinewidth": 0,
             "ticks": ""
            },
            "colorscale": [
             [
              0,
              "#0d0887"
             ],
             [
              0.1111111111111111,
              "#46039f"
             ],
             [
              0.2222222222222222,
              "#7201a8"
             ],
             [
              0.3333333333333333,
              "#9c179e"
             ],
             [
              0.4444444444444444,
              "#bd3786"
             ],
             [
              0.5555555555555556,
              "#d8576b"
             ],
             [
              0.6666666666666666,
              "#ed7953"
             ],
             [
              0.7777777777777778,
              "#fb9f3a"
             ],
             [
              0.8888888888888888,
              "#fdca26"
             ],
             [
              1,
              "#f0f921"
             ]
            ],
            "type": "heatmapgl"
           }
          ],
          "histogram": [
           {
            "marker": {
             "pattern": {
              "fillmode": "overlay",
              "size": 10,
              "solidity": 0.2
             }
            },
            "type": "histogram"
           }
          ],
          "histogram2d": [
           {
            "colorbar": {
             "outlinewidth": 0,
             "ticks": ""
            },
            "colorscale": [
             [
              0,
              "#0d0887"
             ],
             [
              0.1111111111111111,
              "#46039f"
             ],
             [
              0.2222222222222222,
              "#7201a8"
             ],
             [
              0.3333333333333333,
              "#9c179e"
             ],
             [
              0.4444444444444444,
              "#bd3786"
             ],
             [
              0.5555555555555556,
              "#d8576b"
             ],
             [
              0.6666666666666666,
              "#ed7953"
             ],
             [
              0.7777777777777778,
              "#fb9f3a"
             ],
             [
              0.8888888888888888,
              "#fdca26"
             ],
             [
              1,
              "#f0f921"
             ]
            ],
            "type": "histogram2d"
           }
          ],
          "histogram2dcontour": [
           {
            "colorbar": {
             "outlinewidth": 0,
             "ticks": ""
            },
            "colorscale": [
             [
              0,
              "#0d0887"
             ],
             [
              0.1111111111111111,
              "#46039f"
             ],
             [
              0.2222222222222222,
              "#7201a8"
             ],
             [
              0.3333333333333333,
              "#9c179e"
             ],
             [
              0.4444444444444444,
              "#bd3786"
             ],
             [
              0.5555555555555556,
              "#d8576b"
             ],
             [
              0.6666666666666666,
              "#ed7953"
             ],
             [
              0.7777777777777778,
              "#fb9f3a"
             ],
             [
              0.8888888888888888,
              "#fdca26"
             ],
             [
              1,
              "#f0f921"
             ]
            ],
            "type": "histogram2dcontour"
           }
          ],
          "mesh3d": [
           {
            "colorbar": {
             "outlinewidth": 0,
             "ticks": ""
            },
            "type": "mesh3d"
           }
          ],
          "parcoords": [
           {
            "line": {
             "colorbar": {
              "outlinewidth": 0,
              "ticks": ""
             }
            },
            "type": "parcoords"
           }
          ],
          "pie": [
           {
            "automargin": true,
            "type": "pie"
           }
          ],
          "scatter": [
           {
            "marker": {
             "line": {
              "color": "#283442"
             }
            },
            "type": "scatter"
           }
          ],
          "scatter3d": [
           {
            "line": {
             "colorbar": {
              "outlinewidth": 0,
              "ticks": ""
             }
            },
            "marker": {
             "colorbar": {
              "outlinewidth": 0,
              "ticks": ""
             }
            },
            "type": "scatter3d"
           }
          ],
          "scattercarpet": [
           {
            "marker": {
             "colorbar": {
              "outlinewidth": 0,
              "ticks": ""
             }
            },
            "type": "scattercarpet"
           }
          ],
          "scattergeo": [
           {
            "marker": {
             "colorbar": {
              "outlinewidth": 0,
              "ticks": ""
             }
            },
            "type": "scattergeo"
           }
          ],
          "scattergl": [
           {
            "marker": {
             "line": {
              "color": "#283442"
             }
            },
            "type": "scattergl"
           }
          ],
          "scattermapbox": [
           {
            "marker": {
             "colorbar": {
              "outlinewidth": 0,
              "ticks": ""
             }
            },
            "type": "scattermapbox"
           }
          ],
          "scatterpolar": [
           {
            "marker": {
             "colorbar": {
              "outlinewidth": 0,
              "ticks": ""
             }
            },
            "type": "scatterpolar"
           }
          ],
          "scatterpolargl": [
           {
            "marker": {
             "colorbar": {
              "outlinewidth": 0,
              "ticks": ""
             }
            },
            "type": "scatterpolargl"
           }
          ],
          "scatterternary": [
           {
            "marker": {
             "colorbar": {
              "outlinewidth": 0,
              "ticks": ""
             }
            },
            "type": "scatterternary"
           }
          ],
          "surface": [
           {
            "colorbar": {
             "outlinewidth": 0,
             "ticks": ""
            },
            "colorscale": [
             [
              0,
              "#0d0887"
             ],
             [
              0.1111111111111111,
              "#46039f"
             ],
             [
              0.2222222222222222,
              "#7201a8"
             ],
             [
              0.3333333333333333,
              "#9c179e"
             ],
             [
              0.4444444444444444,
              "#bd3786"
             ],
             [
              0.5555555555555556,
              "#d8576b"
             ],
             [
              0.6666666666666666,
              "#ed7953"
             ],
             [
              0.7777777777777778,
              "#fb9f3a"
             ],
             [
              0.8888888888888888,
              "#fdca26"
             ],
             [
              1,
              "#f0f921"
             ]
            ],
            "type": "surface"
           }
          ],
          "table": [
           {
            "cells": {
             "fill": {
              "color": "#506784"
             },
             "line": {
              "color": "rgb(17,17,17)"
             }
            },
            "header": {
             "fill": {
              "color": "#2a3f5f"
             },
             "line": {
              "color": "rgb(17,17,17)"
             }
            },
            "type": "table"
           }
          ]
         },
         "layout": {
          "annotationdefaults": {
           "arrowcolor": "#f2f5fa",
           "arrowhead": 0,
           "arrowwidth": 1
          },
          "autotypenumbers": "strict",
          "coloraxis": {
           "colorbar": {
            "outlinewidth": 0,
            "ticks": ""
           }
          },
          "colorscale": {
           "diverging": [
            [
             0,
             "#8e0152"
            ],
            [
             0.1,
             "#c51b7d"
            ],
            [
             0.2,
             "#de77ae"
            ],
            [
             0.3,
             "#f1b6da"
            ],
            [
             0.4,
             "#fde0ef"
            ],
            [
             0.5,
             "#f7f7f7"
            ],
            [
             0.6,
             "#e6f5d0"
            ],
            [
             0.7,
             "#b8e186"
            ],
            [
             0.8,
             "#7fbc41"
            ],
            [
             0.9,
             "#4d9221"
            ],
            [
             1,
             "#276419"
            ]
           ],
           "sequential": [
            [
             0,
             "#0d0887"
            ],
            [
             0.1111111111111111,
             "#46039f"
            ],
            [
             0.2222222222222222,
             "#7201a8"
            ],
            [
             0.3333333333333333,
             "#9c179e"
            ],
            [
             0.4444444444444444,
             "#bd3786"
            ],
            [
             0.5555555555555556,
             "#d8576b"
            ],
            [
             0.6666666666666666,
             "#ed7953"
            ],
            [
             0.7777777777777778,
             "#fb9f3a"
            ],
            [
             0.8888888888888888,
             "#fdca26"
            ],
            [
             1,
             "#f0f921"
            ]
           ],
           "sequentialminus": [
            [
             0,
             "#0d0887"
            ],
            [
             0.1111111111111111,
             "#46039f"
            ],
            [
             0.2222222222222222,
             "#7201a8"
            ],
            [
             0.3333333333333333,
             "#9c179e"
            ],
            [
             0.4444444444444444,
             "#bd3786"
            ],
            [
             0.5555555555555556,
             "#d8576b"
            ],
            [
             0.6666666666666666,
             "#ed7953"
            ],
            [
             0.7777777777777778,
             "#fb9f3a"
            ],
            [
             0.8888888888888888,
             "#fdca26"
            ],
            [
             1,
             "#f0f921"
            ]
           ]
          },
          "colorway": [
           "#636efa",
           "#EF553B",
           "#00cc96",
           "#ab63fa",
           "#FFA15A",
           "#19d3f3",
           "#FF6692",
           "#B6E880",
           "#FF97FF",
           "#FECB52"
          ],
          "font": {
           "color": "#f2f5fa"
          },
          "geo": {
           "bgcolor": "rgb(17,17,17)",
           "lakecolor": "rgb(17,17,17)",
           "landcolor": "rgb(17,17,17)",
           "showlakes": true,
           "showland": true,
           "subunitcolor": "#506784"
          },
          "hoverlabel": {
           "align": "left"
          },
          "hovermode": "closest",
          "mapbox": {
           "style": "dark"
          },
          "paper_bgcolor": "rgb(17,17,17)",
          "plot_bgcolor": "rgb(17,17,17)",
          "polar": {
           "angularaxis": {
            "gridcolor": "#506784",
            "linecolor": "#506784",
            "ticks": ""
           },
           "bgcolor": "rgb(17,17,17)",
           "radialaxis": {
            "gridcolor": "#506784",
            "linecolor": "#506784",
            "ticks": ""
           }
          },
          "scene": {
           "xaxis": {
            "backgroundcolor": "rgb(17,17,17)",
            "gridcolor": "#506784",
            "gridwidth": 2,
            "linecolor": "#506784",
            "showbackground": true,
            "ticks": "",
            "zerolinecolor": "#C8D4E3"
           },
           "yaxis": {
            "backgroundcolor": "rgb(17,17,17)",
            "gridcolor": "#506784",
            "gridwidth": 2,
            "linecolor": "#506784",
            "showbackground": true,
            "ticks": "",
            "zerolinecolor": "#C8D4E3"
           },
           "zaxis": {
            "backgroundcolor": "rgb(17,17,17)",
            "gridcolor": "#506784",
            "gridwidth": 2,
            "linecolor": "#506784",
            "showbackground": true,
            "ticks": "",
            "zerolinecolor": "#C8D4E3"
           }
          },
          "shapedefaults": {
           "line": {
            "color": "#f2f5fa"
           }
          },
          "sliderdefaults": {
           "bgcolor": "#C8D4E3",
           "bordercolor": "rgb(17,17,17)",
           "borderwidth": 1,
           "tickwidth": 0
          },
          "ternary": {
           "aaxis": {
            "gridcolor": "#506784",
            "linecolor": "#506784",
            "ticks": ""
           },
           "baxis": {
            "gridcolor": "#506784",
            "linecolor": "#506784",
            "ticks": ""
           },
           "bgcolor": "rgb(17,17,17)",
           "caxis": {
            "gridcolor": "#506784",
            "linecolor": "#506784",
            "ticks": ""
           }
          },
          "title": {
           "x": 0.05
          },
          "updatemenudefaults": {
           "bgcolor": "#506784",
           "borderwidth": 0
          },
          "xaxis": {
           "automargin": true,
           "gridcolor": "#283442",
           "linecolor": "#506784",
           "ticks": "",
           "title": {
            "standoff": 15
           },
           "zerolinecolor": "#283442",
           "zerolinewidth": 2
          },
          "yaxis": {
           "automargin": true,
           "gridcolor": "#283442",
           "linecolor": "#506784",
           "ticks": "",
           "title": {
            "standoff": 15
           },
           "zerolinecolor": "#283442",
           "zerolinewidth": 2
          }
         }
        },
        "xaxis": {
         "anchor": "y",
         "domain": [
          0,
          1
         ],
         "title": {
          "text": "Focal Length [mm]"
         }
        },
        "yaxis": {
         "anchor": "x",
         "domain": [
          0,
          1
         ],
         "title": {
          "text": "value"
         }
        }
       }
      }
     },
     "metadata": {},
     "output_type": "display_data"
    },
    {
     "data": {
      "text/html": [
       "<div>\n",
       "<style scoped>\n",
       "    .dataframe tbody tr th:only-of-type {\n",
       "        vertical-align: middle;\n",
       "    }\n",
       "\n",
       "    .dataframe tbody tr th {\n",
       "        vertical-align: top;\n",
       "    }\n",
       "\n",
       "    .dataframe thead th {\n",
       "        text-align: right;\n",
       "    }\n",
       "</style>\n",
       "<table border=\"1\" class=\"dataframe\">\n",
       "  <thead>\n",
       "    <tr style=\"text-align: right;\">\n",
       "      <th></th>\n",
       "      <th>Focal Length [mm]</th>\n",
       "      <th>Spatial Resolution [m]</th>\n",
       "      <th>Swath (across-track) [km]</th>\n",
       "      <th>Swath (along-track) [km]</th>\n",
       "    </tr>\n",
       "  </thead>\n",
       "  <tbody>\n",
       "    <tr>\n",
       "      <th>0</th>\n",
       "      <td>10.0</td>\n",
       "      <td>825.000000</td>\n",
       "      <td>285.700616</td>\n",
       "      <td>93.890118</td>\n",
       "    </tr>\n",
       "    <tr>\n",
       "      <th>1</th>\n",
       "      <td>20.0</td>\n",
       "      <td>412.500000</td>\n",
       "      <td>141.146285</td>\n",
       "      <td>46.883056</td>\n",
       "    </tr>\n",
       "    <tr>\n",
       "      <th>2</th>\n",
       "      <td>30.0</td>\n",
       "      <td>275.000000</td>\n",
       "      <td>93.890118</td>\n",
       "      <td>31.247728</td>\n",
       "    </tr>\n",
       "    <tr>\n",
       "      <th>3</th>\n",
       "      <td>40.0</td>\n",
       "      <td>206.250000</td>\n",
       "      <td>70.363306</td>\n",
       "      <td>23.433791</td>\n",
       "    </tr>\n",
       "    <tr>\n",
       "      <th>4</th>\n",
       "      <td>50.0</td>\n",
       "      <td>165.000000</td>\n",
       "      <td>56.270568</td>\n",
       "      <td>18.746290</td>\n",
       "    </tr>\n",
       "    <tr>\n",
       "      <th>5</th>\n",
       "      <td>60.0</td>\n",
       "      <td>137.500000</td>\n",
       "      <td>46.883056</td>\n",
       "      <td>15.621572</td>\n",
       "    </tr>\n",
       "    <tr>\n",
       "      <th>6</th>\n",
       "      <td>70.0</td>\n",
       "      <td>117.857143</td>\n",
       "      <td>40.180784</td>\n",
       "      <td>13.389745</td>\n",
       "    </tr>\n",
       "    <tr>\n",
       "      <th>7</th>\n",
       "      <td>80.0</td>\n",
       "      <td>103.125000</td>\n",
       "      <td>35.155521</td>\n",
       "      <td>11.715929</td>\n",
       "    </tr>\n",
       "    <tr>\n",
       "      <th>8</th>\n",
       "      <td>90.0</td>\n",
       "      <td>91.666667</td>\n",
       "      <td>31.247728</td>\n",
       "      <td>10.414099</td>\n",
       "    </tr>\n",
       "    <tr>\n",
       "      <th>9</th>\n",
       "      <td>100.0</td>\n",
       "      <td>82.500000</td>\n",
       "      <td>28.121910</td>\n",
       "      <td>9.372650</td>\n",
       "    </tr>\n",
       "    <tr>\n",
       "      <th>10</th>\n",
       "      <td>110.0</td>\n",
       "      <td>75.000000</td>\n",
       "      <td>25.564670</td>\n",
       "      <td>8.520565</td>\n",
       "    </tr>\n",
       "    <tr>\n",
       "      <th>11</th>\n",
       "      <td>120.0</td>\n",
       "      <td>68.750000</td>\n",
       "      <td>23.433791</td>\n",
       "      <td>7.810500</td>\n",
       "    </tr>\n",
       "    <tr>\n",
       "      <th>12</th>\n",
       "      <td>130.0</td>\n",
       "      <td>63.461538</td>\n",
       "      <td>21.630839</td>\n",
       "      <td>7.209679</td>\n",
       "    </tr>\n",
       "    <tr>\n",
       "      <th>13</th>\n",
       "      <td>140.0</td>\n",
       "      <td>58.928571</td>\n",
       "      <td>20.085520</td>\n",
       "      <td>6.694692</td>\n",
       "    </tr>\n",
       "    <tr>\n",
       "      <th>14</th>\n",
       "      <td>150.0</td>\n",
       "      <td>55.000000</td>\n",
       "      <td>18.746290</td>\n",
       "      <td>6.248372</td>\n",
       "    </tr>\n",
       "    <tr>\n",
       "      <th>15</th>\n",
       "      <td>160.0</td>\n",
       "      <td>51.562500</td>\n",
       "      <td>17.574497</td>\n",
       "      <td>5.857843</td>\n",
       "    </tr>\n",
       "    <tr>\n",
       "      <th>16</th>\n",
       "      <td>170.0</td>\n",
       "      <td>48.529412</td>\n",
       "      <td>16.540586</td>\n",
       "      <td>5.513260</td>\n",
       "    </tr>\n",
       "    <tr>\n",
       "      <th>17</th>\n",
       "      <td>180.0</td>\n",
       "      <td>45.833333</td>\n",
       "      <td>15.621572</td>\n",
       "      <td>5.206964</td>\n",
       "    </tr>\n",
       "    <tr>\n",
       "      <th>18</th>\n",
       "      <td>190.0</td>\n",
       "      <td>43.421053</td>\n",
       "      <td>14.799310</td>\n",
       "      <td>4.932911</td>\n",
       "    </tr>\n",
       "    <tr>\n",
       "      <th>19</th>\n",
       "      <td>200.0</td>\n",
       "      <td>41.250000</td>\n",
       "      <td>14.059284</td>\n",
       "      <td>4.686263</td>\n",
       "    </tr>\n",
       "    <tr>\n",
       "      <th>20</th>\n",
       "      <td>210.0</td>\n",
       "      <td>39.285714</td>\n",
       "      <td>13.389745</td>\n",
       "      <td>4.463106</td>\n",
       "    </tr>\n",
       "    <tr>\n",
       "      <th>21</th>\n",
       "      <td>220.0</td>\n",
       "      <td>37.500000</td>\n",
       "      <td>12.781080</td>\n",
       "      <td>4.260236</td>\n",
       "    </tr>\n",
       "    <tr>\n",
       "      <th>22</th>\n",
       "      <td>230.0</td>\n",
       "      <td>35.869565</td>\n",
       "      <td>12.225347</td>\n",
       "      <td>4.075007</td>\n",
       "    </tr>\n",
       "    <tr>\n",
       "      <th>23</th>\n",
       "      <td>240.0</td>\n",
       "      <td>34.375000</td>\n",
       "      <td>11.715929</td>\n",
       "      <td>3.905214</td>\n",
       "    </tr>\n",
       "    <tr>\n",
       "      <th>24</th>\n",
       "      <td>250.0</td>\n",
       "      <td>33.000000</td>\n",
       "      <td>11.247267</td>\n",
       "      <td>3.749005</td>\n",
       "    </tr>\n",
       "    <tr>\n",
       "      <th>25</th>\n",
       "      <td>260.0</td>\n",
       "      <td>31.730769</td>\n",
       "      <td>10.814659</td>\n",
       "      <td>3.604811</td>\n",
       "    </tr>\n",
       "    <tr>\n",
       "      <th>26</th>\n",
       "      <td>270.0</td>\n",
       "      <td>30.555556</td>\n",
       "      <td>10.414099</td>\n",
       "      <td>3.471299</td>\n",
       "    </tr>\n",
       "    <tr>\n",
       "      <th>27</th>\n",
       "      <td>280.0</td>\n",
       "      <td>29.464286</td>\n",
       "      <td>10.042151</td>\n",
       "      <td>3.347324</td>\n",
       "    </tr>\n",
       "    <tr>\n",
       "      <th>28</th>\n",
       "      <td>290.0</td>\n",
       "      <td>28.448276</td>\n",
       "      <td>9.695857</td>\n",
       "      <td>3.231898</td>\n",
       "    </tr>\n",
       "  </tbody>\n",
       "</table>\n",
       "</div>"
      ],
      "text/plain": [
       "    Focal Length [mm]  Spatial Resolution [m]  Swath (across-track) [km]  \\\n",
       "0                10.0              825.000000                 285.700616   \n",
       "1                20.0              412.500000                 141.146285   \n",
       "2                30.0              275.000000                  93.890118   \n",
       "3                40.0              206.250000                  70.363306   \n",
       "4                50.0              165.000000                  56.270568   \n",
       "5                60.0              137.500000                  46.883056   \n",
       "6                70.0              117.857143                  40.180784   \n",
       "7                80.0              103.125000                  35.155521   \n",
       "8                90.0               91.666667                  31.247728   \n",
       "9               100.0               82.500000                  28.121910   \n",
       "10              110.0               75.000000                  25.564670   \n",
       "11              120.0               68.750000                  23.433791   \n",
       "12              130.0               63.461538                  21.630839   \n",
       "13              140.0               58.928571                  20.085520   \n",
       "14              150.0               55.000000                  18.746290   \n",
       "15              160.0               51.562500                  17.574497   \n",
       "16              170.0               48.529412                  16.540586   \n",
       "17              180.0               45.833333                  15.621572   \n",
       "18              190.0               43.421053                  14.799310   \n",
       "19              200.0               41.250000                  14.059284   \n",
       "20              210.0               39.285714                  13.389745   \n",
       "21              220.0               37.500000                  12.781080   \n",
       "22              230.0               35.869565                  12.225347   \n",
       "23              240.0               34.375000                  11.715929   \n",
       "24              250.0               33.000000                  11.247267   \n",
       "25              260.0               31.730769                  10.814659   \n",
       "26              270.0               30.555556                  10.414099   \n",
       "27              280.0               29.464286                  10.042151   \n",
       "28              290.0               28.448276                   9.695857   \n",
       "\n",
       "    Swath (along-track) [km]  \n",
       "0                  93.890118  \n",
       "1                  46.883056  \n",
       "2                  31.247728  \n",
       "3                  23.433791  \n",
       "4                  18.746290  \n",
       "5                  15.621572  \n",
       "6                  13.389745  \n",
       "7                  11.715929  \n",
       "8                  10.414099  \n",
       "9                   9.372650  \n",
       "10                  8.520565  \n",
       "11                  7.810500  \n",
       "12                  7.209679  \n",
       "13                  6.694692  \n",
       "14                  6.248372  \n",
       "15                  5.857843  \n",
       "16                  5.513260  \n",
       "17                  5.206964  \n",
       "18                  4.932911  \n",
       "19                  4.686263  \n",
       "20                  4.463106  \n",
       "21                  4.260236  \n",
       "22                  4.075007  \n",
       "23                  3.905214  \n",
       "24                  3.749005  \n",
       "25                  3.604811  \n",
       "26                  3.471299  \n",
       "27                  3.347324  \n",
       "28                  3.231898  "
      ]
     },
     "metadata": {},
     "output_type": "display_data"
    },
    {
     "data": {
      "text/html": [
       "HyperspectralImager \n",
       "<table border=\"1\" class=\"dataframe\">\n",
       "  <thead>\n",
       "    <tr style=\"text-align: right;\">\n",
       "      <th></th>\n",
       "      <th>Value</th>\n",
       "      <th>Units</th>\n",
       "    </tr>\n",
       "  </thead>\n",
       "  <tbody>\n",
       "    <tr>\n",
       "      <th>foreoptic</th>\n",
       "      <td>Foreoptic</td>\n",
       "      <td>None</td>\n",
       "    </tr>\n",
       "    <tr>\n",
       "      <th>slit</th>\n",
       "      <td>RectSlit</td>\n",
       "      <td>None</td>\n",
       "    </tr>\n",
       "    <tr>\n",
       "      <th>diffractor</th>\n",
       "      <td>None</td>\n",
       "      <td>None</td>\n",
       "    </tr>\n",
       "    <tr>\n",
       "      <th>sensor</th>\n",
       "      <td>TauSWIR</td>\n",
       "      <td>None</td>\n",
       "    </tr>\n",
       "    <tr>\n",
       "      <th>systems</th>\n",
       "      <td>list [4]</td>\n",
       "      <td>None</td>\n",
       "    </tr>\n",
       "    <tr>\n",
       "      <th>dimensions</th>\n",
       "      <td>None</td>\n",
       "      <td>None</td>\n",
       "    </tr>\n",
       "    <tr>\n",
       "      <th>mass</th>\n",
       "      <td>None</td>\n",
       "      <td>None</td>\n",
       "    </tr>\n",
       "    <tr>\n",
       "      <th>volume</th>\n",
       "      <td>None</td>\n",
       "      <td>None</td>\n",
       "    </tr>\n",
       "    <tr>\n",
       "      <th>density</th>\n",
       "      <td>None</td>\n",
       "      <td>None</td>\n",
       "    </tr>\n",
       "    <tr>\n",
       "      <th>index</th>\n",
       "      <td>None</td>\n",
       "      <td>None</td>\n",
       "    </tr>\n",
       "    <tr>\n",
       "      <th>transmittance</th>\n",
       "      <td>None</td>\n",
       "      <td>None</td>\n",
       "    </tr>\n",
       "    <tr>\n",
       "      <th>spatial_resolution</th>\n",
       "      <td>None</td>\n",
       "      <td>None</td>\n",
       "    </tr>\n",
       "  </tbody>\n",
       "</table>"
      ],
      "text/plain": [
       "<architect.systems.optical.spectrometers.HyperspectralImager at 0x25e6a50d9f0>"
      ]
     },
     "metadata": {},
     "output_type": "display_data"
    }
   ],
   "source": [
    "focal_length_label = f\"Focal Length [{focal_length.unit}]\"\n",
    "sensor_spatial_resolution_label = (\n",
    "    f\"Spatial Resolution [{sensor_spatial_resolution.unit}]\"\n",
    ")\n",
    "swath_label_x = f\"Swath (across-track) [{swath.unit}]\"\n",
    "swath_label_y = f\"Swath (along-track) [{swath.unit}]\"\n",
    "\n",
    "\n",
    "data = {\n",
    "    focal_length_label: focal_length[:, 0],\n",
    "    sensor_spatial_resolution_label: sensor_spatial_resolution[:, 0],\n",
    "    swath_label_x: swath[:, 0],\n",
    "    swath_label_y: swath[:, 1],\n",
    "}\n",
    "\n",
    "df = pd.DataFrame.from_dict(data=data)\n",
    "fig = plot.line(\n",
    "    df=df,\n",
    "    x=focal_length_label,\n",
    "    y=[\n",
    "        sensor_spatial_resolution_label,\n",
    "        swath_label_x,\n",
    "        swath_label_y,\n",
    "    ],\n",
    "    title=None,\n",
    "    dark=True,\n",
    ")\n",
    "\n",
    "fig.show()\n",
    "display(df)\n",
    "display(payload)"
   ]
  }
 ],
 "metadata": {
  "kernelspec": {
   "display_name": ".venv",
   "language": "python",
   "name": "python3"
  },
  "language_info": {
   "codemirror_mode": {
    "name": "ipython",
    "version": 3
   },
   "file_extension": ".py",
   "mimetype": "text/x-python",
   "name": "python",
   "nbconvert_exporter": "python",
   "pygments_lexer": "ipython3",
   "version": "3.10.4"
  },
  "orig_nbformat": 4,
  "vscode": {
   "interpreter": {
    "hash": "ea94d1563ba72b5e193eb78e1e2e2e544545c1141b798a67bf34f1cf62a0fed5"
   }
  }
 },
 "nbformat": 4,
 "nbformat_minor": 2
}
