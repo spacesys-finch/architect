{
 "cells": [
  {
   "cell_type": "markdown",
   "metadata": {},
   "source": [
    "# Spatial Resolution & Swath vs Focal Length Trade\n",
    "Tradeoff between spatial resolution and swath width for a given range of foreoptic focal lengths."
   ]
  },
  {
   "cell_type": "code",
   "execution_count": 1,
   "metadata": {},
   "outputs": [],
   "source": [
    "# stdlib\n",
    "from pathlib import Path\n",
    "\n",
    "# external\n",
    "import astropy.units as unit\n",
    "import numpy as np\n",
    "import pandas as pd\n",
    "import plot\n",
    "from IPython.display import display\n",
    "\n",
    "# project\n",
    "from architect import components, systems\n",
    "from architect.libs import utillib"
   ]
  },
  {
   "cell_type": "markdown",
   "metadata": {},
   "source": [
    "## Setup\n",
    "Run this section onwards when a parameter is updated."
   ]
  },
  {
   "cell_type": "code",
   "execution_count": 2,
   "metadata": {},
   "outputs": [],
   "source": [
    "output_dir = Path(\"output/spatial_resolution_&_swath_vs_focal_length_trade/\")\n",
    "output_dir.mkdir(parents=True, exist_ok=True)"
   ]
  },
  {
   "cell_type": "markdown",
   "metadata": {},
   "source": [
    "### Parameters"
   ]
  },
  {
   "cell_type": "code",
   "execution_count": 3,
   "metadata": {},
   "outputs": [],
   "source": [
    "# region constants\n",
    "orbital_altitude = 550 * unit.km\n",
    "foreoptic_diameter = 44 * unit.mm\n",
    "skew_angle = np.array([0, 0]) * unit.deg\n",
    "slit_size = np.array([3, 1]) * unit.mm\n",
    "target_wavelength = 1300 * unit.nm\n",
    "# endregion\n",
    "\n",
    "# region variables\n",
    "focal_length = np.arange(start=10, stop=300, step=10) * unit.mm\n",
    "# endregion\n",
    "\n",
    "# region vectorization\n",
    "parameter_space_shape = (focal_length.size, slit_size.size)\n",
    "focal_length = utillib.orient_and_broadcast(\n",
    "    a=focal_length, dim=0, shape=parameter_space_shape\n",
    ")\n",
    "# endregion"
   ]
  },
  {
   "cell_type": "markdown",
   "metadata": {},
   "source": [
    "### Instantiation"
   ]
  },
  {
   "cell_type": "code",
   "execution_count": 4,
   "metadata": {},
   "outputs": [],
   "source": [
    "# region components\n",
    "sensor = components.sensors.TauSWIR()\n",
    "foreoptic = components.foreoptics.Foreoptic(\n",
    "    diameter=foreoptic_diameter, focal_length=focal_length\n",
    ")\n",
    "slit = components.masks.RectSlit(size=slit_size)\n",
    "# endregion\n",
    "\n",
    "# region systems\n",
    "payload = systems.spectrometers.HyperspectralImager(\n",
    "    sensor=sensor, foreoptic=foreoptic, slit=slit\n",
    ")\n",
    "# endregion"
   ]
  },
  {
   "cell_type": "markdown",
   "metadata": {},
   "source": [
    "## Pipeline"
   ]
  },
  {
   "cell_type": "code",
   "execution_count": 5,
   "metadata": {},
   "outputs": [
    {
     "data": {
      "text/plain": [
       "'Sensor-limited spatial resolution test shape: (29, 2)'"
      ]
     },
     "metadata": {},
     "output_type": "display_data"
    },
    {
     "name": "stderr",
     "output_type": "stream",
     "text": [
      "WARNING: AstropyDeprecationWarning: The truth value of a Quantity is ambiguous. In the future this will raise a ValueError. [astropy.units.quantity]\n"
     ]
    },
    {
     "data": {
      "text/plain": [
       "'Swath shape: (29, 2)'"
      ]
     },
     "metadata": {},
     "output_type": "display_data"
    }
   ],
   "source": [
    "sensor_spatial_resolution = payload.get_spatial_resolution(\n",
    "    wavelength=target_wavelength,\n",
    "    target_distance=orbital_altitude,\n",
    "    skew_angle=skew_angle[0],\n",
    ").to(unit.m)\n",
    "\n",
    "display(\n",
    "    f\"Sensor-limited spatial resolution test shape: {sensor_spatial_resolution.shape}\"\n",
    ")\n",
    "\n",
    "swath = payload.get_swath(altitude=orbital_altitude, skew_angle=skew_angle)\n",
    "display(f\"Swath shape: {swath.shape}\")"
   ]
  },
  {
   "cell_type": "markdown",
   "metadata": {},
   "source": [
    "## Plots"
   ]
  },
  {
   "cell_type": "code",
   "execution_count": 6,
   "metadata": {},
   "outputs": [
    {
     "data": {
      "application/vnd.plotly.v1+json": {
       "config": {
        "plotlyServerURL": "https://plot.ly"
       },
       "data": [
        {
         "hovertemplate": "variable=Spatial Resolution [m]<br>Focal Length [mm]=%{x}<br>value=%{y}<extra></extra>",
         "legendgroup": "Spatial Resolution [m]",
         "line": {
          "color": "#636efa",
          "dash": "solid"
         },
         "marker": {
          "symbol": "circle"
         },
         "mode": "lines",
         "name": "Spatial Resolution [m]",
         "orientation": "v",
         "showlegend": true,
         "type": "scatter",
         "x": [
          10,
          20,
          30,
          40,
          50,
          60,
          70,
          80,
          90,
          100,
          110,
          120,
          130,
          140,
          150,
          160,
          170,
          180,
          190,
          200,
          210,
          220,
          230,
          240,
          250,
          260,
          270,
          280,
          290
         ],
         "xaxis": "x",
         "y": [
          825,
          412.5,
          275,
          206.25,
          165,
          137.5,
          117.85714285714286,
          103.125,
          91.66666666666667,
          82.5,
          75,
          68.75,
          63.46153846153846,
          58.92857142857143,
          55,
          51.5625,
          48.529411764705884,
          45.833333333333336,
          43.421052631578945,
          41.25,
          39.285714285714285,
          37.5,
          35.869565217391305,
          34.375,
          33,
          31.73076923076923,
          30.555555555555557,
          29.464285714285715,
          28.448275862068964
         ],
         "yaxis": "y"
        },
        {
         "hovertemplate": "variable=Swath (across-track) [km]<br>Focal Length [mm]=%{x}<br>value=%{y}<extra></extra>",
         "legendgroup": "Swath (across-track) [km]",
         "line": {
          "color": "#EF553B",
          "dash": "solid"
         },
         "marker": {
          "symbol": "circle"
         },
         "mode": "lines",
         "name": "Swath (across-track) [km]",
         "orientation": "v",
         "showlegend": true,
         "type": "scatter",
         "x": [
          10,
          20,
          30,
          40,
          50,
          60,
          70,
          80,
          90,
          100,
          110,
          120,
          130,
          140,
          150,
          160,
          170,
          180,
          190,
          200,
          210,
          220,
          230,
          240,
          250,
          260,
          270,
          280,
          290
         ],
         "xaxis": "x",
         "y": [
          165,
          82.5,
          55,
          41.25,
          33,
          27.5,
          23.571428571428573,
          20.625,
          18.333333333333332,
          16.5,
          15,
          13.75,
          12.692307692307695,
          11.785714285714286,
          11,
          10.3125,
          9.705882352941176,
          9.166666666666666,
          8.68421052631579,
          8.25,
          7.857142857142858,
          7.5,
          7.173913043478261,
          6.875,
          6.6000000000000005,
          6.346153846153847,
          6.111111111111112,
          5.892857142857143,
          5.689655172413793
         ],
         "yaxis": "y"
        },
        {
         "hovertemplate": "variable=Swath (along-track) [km]<br>Focal Length [mm]=%{x}<br>value=%{y}<extra></extra>",
         "legendgroup": "Swath (along-track) [km]",
         "line": {
          "color": "#00cc96",
          "dash": "solid"
         },
         "marker": {
          "symbol": "circle"
         },
         "mode": "lines",
         "name": "Swath (along-track) [km]",
         "orientation": "v",
         "showlegend": true,
         "type": "scatter",
         "x": [
          10,
          20,
          30,
          40,
          50,
          60,
          70,
          80,
          90,
          100,
          110,
          120,
          130,
          140,
          150,
          160,
          170,
          180,
          190,
          200,
          210,
          220,
          230,
          240,
          250,
          260,
          270,
          280,
          290
         ],
         "xaxis": "x",
         "y": [
          55,
          27.5,
          18.333333333333332,
          13.75,
          11,
          9.166666666666666,
          7.857142857142858,
          6.875,
          6.111111111111112,
          5.5,
          5,
          4.583333333333333,
          4.230769230769231,
          3.9285714285714284,
          3.666666666666667,
          3.4375,
          3.235294117647059,
          3.055555555555556,
          2.8947368421052633,
          2.75,
          2.619047619047619,
          2.5,
          2.391304347826087,
          2.2916666666666665,
          2.2,
          2.1153846153846154,
          2.037037037037037,
          1.9642857142857142,
          1.896551724137931
         ],
         "yaxis": "y"
        }
       ],
       "layout": {
        "legend": {
         "title": {
          "text": "variable"
         },
         "tracegroupgap": 0
        },
        "margin": {
         "t": 60
        },
        "template": {
         "data": {
          "bar": [
           {
            "error_x": {
             "color": "#f2f5fa"
            },
            "error_y": {
             "color": "#f2f5fa"
            },
            "marker": {
             "line": {
              "color": "rgb(17,17,17)",
              "width": 0.5
             },
             "pattern": {
              "fillmode": "overlay",
              "size": 10,
              "solidity": 0.2
             }
            },
            "type": "bar"
           }
          ],
          "barpolar": [
           {
            "marker": {
             "line": {
              "color": "rgb(17,17,17)",
              "width": 0.5
             },
             "pattern": {
              "fillmode": "overlay",
              "size": 10,
              "solidity": 0.2
             }
            },
            "type": "barpolar"
           }
          ],
          "carpet": [
           {
            "aaxis": {
             "endlinecolor": "#A2B1C6",
             "gridcolor": "#506784",
             "linecolor": "#506784",
             "minorgridcolor": "#506784",
             "startlinecolor": "#A2B1C6"
            },
            "baxis": {
             "endlinecolor": "#A2B1C6",
             "gridcolor": "#506784",
             "linecolor": "#506784",
             "minorgridcolor": "#506784",
             "startlinecolor": "#A2B1C6"
            },
            "type": "carpet"
           }
          ],
          "choropleth": [
           {
            "colorbar": {
             "outlinewidth": 0,
             "ticks": ""
            },
            "type": "choropleth"
           }
          ],
          "contour": [
           {
            "colorbar": {
             "outlinewidth": 0,
             "ticks": ""
            },
            "colorscale": [
             [
              0,
              "#0d0887"
             ],
             [
              0.1111111111111111,
              "#46039f"
             ],
             [
              0.2222222222222222,
              "#7201a8"
             ],
             [
              0.3333333333333333,
              "#9c179e"
             ],
             [
              0.4444444444444444,
              "#bd3786"
             ],
             [
              0.5555555555555556,
              "#d8576b"
             ],
             [
              0.6666666666666666,
              "#ed7953"
             ],
             [
              0.7777777777777778,
              "#fb9f3a"
             ],
             [
              0.8888888888888888,
              "#fdca26"
             ],
             [
              1,
              "#f0f921"
             ]
            ],
            "type": "contour"
           }
          ],
          "contourcarpet": [
           {
            "colorbar": {
             "outlinewidth": 0,
             "ticks": ""
            },
            "type": "contourcarpet"
           }
          ],
          "heatmap": [
           {
            "colorbar": {
             "outlinewidth": 0,
             "ticks": ""
            },
            "colorscale": [
             [
              0,
              "#0d0887"
             ],
             [
              0.1111111111111111,
              "#46039f"
             ],
             [
              0.2222222222222222,
              "#7201a8"
             ],
             [
              0.3333333333333333,
              "#9c179e"
             ],
             [
              0.4444444444444444,
              "#bd3786"
             ],
             [
              0.5555555555555556,
              "#d8576b"
             ],
             [
              0.6666666666666666,
              "#ed7953"
             ],
             [
              0.7777777777777778,
              "#fb9f3a"
             ],
             [
              0.8888888888888888,
              "#fdca26"
             ],
             [
              1,
              "#f0f921"
             ]
            ],
            "type": "heatmap"
           }
          ],
          "heatmapgl": [
           {
            "colorbar": {
             "outlinewidth": 0,
             "ticks": ""
            },
            "colorscale": [
             [
              0,
              "#0d0887"
             ],
             [
              0.1111111111111111,
              "#46039f"
             ],
             [
              0.2222222222222222,
              "#7201a8"
             ],
             [
              0.3333333333333333,
              "#9c179e"
             ],
             [
              0.4444444444444444,
              "#bd3786"
             ],
             [
              0.5555555555555556,
              "#d8576b"
             ],
             [
              0.6666666666666666,
              "#ed7953"
             ],
             [
              0.7777777777777778,
              "#fb9f3a"
             ],
             [
              0.8888888888888888,
              "#fdca26"
             ],
             [
              1,
              "#f0f921"
             ]
            ],
            "type": "heatmapgl"
           }
          ],
          "histogram": [
           {
            "marker": {
             "pattern": {
              "fillmode": "overlay",
              "size": 10,
              "solidity": 0.2
             }
            },
            "type": "histogram"
           }
          ],
          "histogram2d": [
           {
            "colorbar": {
             "outlinewidth": 0,
             "ticks": ""
            },
            "colorscale": [
             [
              0,
              "#0d0887"
             ],
             [
              0.1111111111111111,
              "#46039f"
             ],
             [
              0.2222222222222222,
              "#7201a8"
             ],
             [
              0.3333333333333333,
              "#9c179e"
             ],
             [
              0.4444444444444444,
              "#bd3786"
             ],
             [
              0.5555555555555556,
              "#d8576b"
             ],
             [
              0.6666666666666666,
              "#ed7953"
             ],
             [
              0.7777777777777778,
              "#fb9f3a"
             ],
             [
              0.8888888888888888,
              "#fdca26"
             ],
             [
              1,
              "#f0f921"
             ]
            ],
            "type": "histogram2d"
           }
          ],
          "histogram2dcontour": [
           {
            "colorbar": {
             "outlinewidth": 0,
             "ticks": ""
            },
            "colorscale": [
             [
              0,
              "#0d0887"
             ],
             [
              0.1111111111111111,
              "#46039f"
             ],
             [
              0.2222222222222222,
              "#7201a8"
             ],
             [
              0.3333333333333333,
              "#9c179e"
             ],
             [
              0.4444444444444444,
              "#bd3786"
             ],
             [
              0.5555555555555556,
              "#d8576b"
             ],
             [
              0.6666666666666666,
              "#ed7953"
             ],
             [
              0.7777777777777778,
              "#fb9f3a"
             ],
             [
              0.8888888888888888,
              "#fdca26"
             ],
             [
              1,
              "#f0f921"
             ]
            ],
            "type": "histogram2dcontour"
           }
          ],
          "mesh3d": [
           {
            "colorbar": {
             "outlinewidth": 0,
             "ticks": ""
            },
            "type": "mesh3d"
           }
          ],
          "parcoords": [
           {
            "line": {
             "colorbar": {
              "outlinewidth": 0,
              "ticks": ""
             }
            },
            "type": "parcoords"
           }
          ],
          "pie": [
           {
            "automargin": true,
            "type": "pie"
           }
          ],
          "scatter": [
           {
            "marker": {
             "line": {
              "color": "#283442"
             }
            },
            "type": "scatter"
           }
          ],
          "scatter3d": [
           {
            "line": {
             "colorbar": {
              "outlinewidth": 0,
              "ticks": ""
             }
            },
            "marker": {
             "colorbar": {
              "outlinewidth": 0,
              "ticks": ""
             }
            },
            "type": "scatter3d"
           }
          ],
          "scattercarpet": [
           {
            "marker": {
             "colorbar": {
              "outlinewidth": 0,
              "ticks": ""
             }
            },
            "type": "scattercarpet"
           }
          ],
          "scattergeo": [
           {
            "marker": {
             "colorbar": {
              "outlinewidth": 0,
              "ticks": ""
             }
            },
            "type": "scattergeo"
           }
          ],
          "scattergl": [
           {
            "marker": {
             "line": {
              "color": "#283442"
             }
            },
            "type": "scattergl"
           }
          ],
          "scattermapbox": [
           {
            "marker": {
             "colorbar": {
              "outlinewidth": 0,
              "ticks": ""
             }
            },
            "type": "scattermapbox"
           }
          ],
          "scatterpolar": [
           {
            "marker": {
             "colorbar": {
              "outlinewidth": 0,
              "ticks": ""
             }
            },
            "type": "scatterpolar"
           }
          ],
          "scatterpolargl": [
           {
            "marker": {
             "colorbar": {
              "outlinewidth": 0,
              "ticks": ""
             }
            },
            "type": "scatterpolargl"
           }
          ],
          "scatterternary": [
           {
            "marker": {
             "colorbar": {
              "outlinewidth": 0,
              "ticks": ""
             }
            },
            "type": "scatterternary"
           }
          ],
          "surface": [
           {
            "colorbar": {
             "outlinewidth": 0,
             "ticks": ""
            },
            "colorscale": [
             [
              0,
              "#0d0887"
             ],
             [
              0.1111111111111111,
              "#46039f"
             ],
             [
              0.2222222222222222,
              "#7201a8"
             ],
             [
              0.3333333333333333,
              "#9c179e"
             ],
             [
              0.4444444444444444,
              "#bd3786"
             ],
             [
              0.5555555555555556,
              "#d8576b"
             ],
             [
              0.6666666666666666,
              "#ed7953"
             ],
             [
              0.7777777777777778,
              "#fb9f3a"
             ],
             [
              0.8888888888888888,
              "#fdca26"
             ],
             [
              1,
              "#f0f921"
             ]
            ],
            "type": "surface"
           }
          ],
          "table": [
           {
            "cells": {
             "fill": {
              "color": "#506784"
             },
             "line": {
              "color": "rgb(17,17,17)"
             }
            },
            "header": {
             "fill": {
              "color": "#2a3f5f"
             },
             "line": {
              "color": "rgb(17,17,17)"
             }
            },
            "type": "table"
           }
          ]
         },
         "layout": {
          "annotationdefaults": {
           "arrowcolor": "#f2f5fa",
           "arrowhead": 0,
           "arrowwidth": 1
          },
          "autotypenumbers": "strict",
          "coloraxis": {
           "colorbar": {
            "outlinewidth": 0,
            "ticks": ""
           }
          },
          "colorscale": {
           "diverging": [
            [
             0,
             "#8e0152"
            ],
            [
             0.1,
             "#c51b7d"
            ],
            [
             0.2,
             "#de77ae"
            ],
            [
             0.3,
             "#f1b6da"
            ],
            [
             0.4,
             "#fde0ef"
            ],
            [
             0.5,
             "#f7f7f7"
            ],
            [
             0.6,
             "#e6f5d0"
            ],
            [
             0.7,
             "#b8e186"
            ],
            [
             0.8,
             "#7fbc41"
            ],
            [
             0.9,
             "#4d9221"
            ],
            [
             1,
             "#276419"
            ]
           ],
           "sequential": [
            [
             0,
             "#0d0887"
            ],
            [
             0.1111111111111111,
             "#46039f"
            ],
            [
             0.2222222222222222,
             "#7201a8"
            ],
            [
             0.3333333333333333,
             "#9c179e"
            ],
            [
             0.4444444444444444,
             "#bd3786"
            ],
            [
             0.5555555555555556,
             "#d8576b"
            ],
            [
             0.6666666666666666,
             "#ed7953"
            ],
            [
             0.7777777777777778,
             "#fb9f3a"
            ],
            [
             0.8888888888888888,
             "#fdca26"
            ],
            [
             1,
             "#f0f921"
            ]
           ],
           "sequentialminus": [
            [
             0,
             "#0d0887"
            ],
            [
             0.1111111111111111,
             "#46039f"
            ],
            [
             0.2222222222222222,
             "#7201a8"
            ],
            [
             0.3333333333333333,
             "#9c179e"
            ],
            [
             0.4444444444444444,
             "#bd3786"
            ],
            [
             0.5555555555555556,
             "#d8576b"
            ],
            [
             0.6666666666666666,
             "#ed7953"
            ],
            [
             0.7777777777777778,
             "#fb9f3a"
            ],
            [
             0.8888888888888888,
             "#fdca26"
            ],
            [
             1,
             "#f0f921"
            ]
           ]
          },
          "colorway": [
           "#636efa",
           "#EF553B",
           "#00cc96",
           "#ab63fa",
           "#FFA15A",
           "#19d3f3",
           "#FF6692",
           "#B6E880",
           "#FF97FF",
           "#FECB52"
          ],
          "font": {
           "color": "#f2f5fa"
          },
          "geo": {
           "bgcolor": "rgb(17,17,17)",
           "lakecolor": "rgb(17,17,17)",
           "landcolor": "rgb(17,17,17)",
           "showlakes": true,
           "showland": true,
           "subunitcolor": "#506784"
          },
          "hoverlabel": {
           "align": "left"
          },
          "hovermode": "closest",
          "mapbox": {
           "style": "dark"
          },
          "paper_bgcolor": "rgb(17,17,17)",
          "plot_bgcolor": "rgb(17,17,17)",
          "polar": {
           "angularaxis": {
            "gridcolor": "#506784",
            "linecolor": "#506784",
            "ticks": ""
           },
           "bgcolor": "rgb(17,17,17)",
           "radialaxis": {
            "gridcolor": "#506784",
            "linecolor": "#506784",
            "ticks": ""
           }
          },
          "scene": {
           "xaxis": {
            "backgroundcolor": "rgb(17,17,17)",
            "gridcolor": "#506784",
            "gridwidth": 2,
            "linecolor": "#506784",
            "showbackground": true,
            "ticks": "",
            "zerolinecolor": "#C8D4E3"
           },
           "yaxis": {
            "backgroundcolor": "rgb(17,17,17)",
            "gridcolor": "#506784",
            "gridwidth": 2,
            "linecolor": "#506784",
            "showbackground": true,
            "ticks": "",
            "zerolinecolor": "#C8D4E3"
           },
           "zaxis": {
            "backgroundcolor": "rgb(17,17,17)",
            "gridcolor": "#506784",
            "gridwidth": 2,
            "linecolor": "#506784",
            "showbackground": true,
            "ticks": "",
            "zerolinecolor": "#C8D4E3"
           }
          },
          "shapedefaults": {
           "line": {
            "color": "#f2f5fa"
           }
          },
          "sliderdefaults": {
           "bgcolor": "#C8D4E3",
           "bordercolor": "rgb(17,17,17)",
           "borderwidth": 1,
           "tickwidth": 0
          },
          "ternary": {
           "aaxis": {
            "gridcolor": "#506784",
            "linecolor": "#506784",
            "ticks": ""
           },
           "baxis": {
            "gridcolor": "#506784",
            "linecolor": "#506784",
            "ticks": ""
           },
           "bgcolor": "rgb(17,17,17)",
           "caxis": {
            "gridcolor": "#506784",
            "linecolor": "#506784",
            "ticks": ""
           }
          },
          "title": {
           "x": 0.05
          },
          "updatemenudefaults": {
           "bgcolor": "#506784",
           "borderwidth": 0
          },
          "xaxis": {
           "automargin": true,
           "gridcolor": "#283442",
           "linecolor": "#506784",
           "ticks": "",
           "title": {
            "standoff": 15
           },
           "zerolinecolor": "#283442",
           "zerolinewidth": 2
          },
          "yaxis": {
           "automargin": true,
           "gridcolor": "#283442",
           "linecolor": "#506784",
           "ticks": "",
           "title": {
            "standoff": 15
           },
           "zerolinecolor": "#283442",
           "zerolinewidth": 2
          }
         }
        },
        "xaxis": {
         "anchor": "y",
         "domain": [
          0,
          1
         ],
         "title": {
          "text": "Focal Length [mm]"
         }
        },
        "yaxis": {
         "anchor": "x",
         "domain": [
          0,
          1
         ],
         "title": {
          "text": "value"
         }
        }
       }
      }
     },
     "metadata": {},
     "output_type": "display_data"
    },
    {
     "data": {
      "text/html": [
       "<div>\n",
       "<style scoped>\n",
       "    .dataframe tbody tr th:only-of-type {\n",
       "        vertical-align: middle;\n",
       "    }\n",
       "\n",
       "    .dataframe tbody tr th {\n",
       "        vertical-align: top;\n",
       "    }\n",
       "\n",
       "    .dataframe thead th {\n",
       "        text-align: right;\n",
       "    }\n",
       "</style>\n",
       "<table border=\"1\" class=\"dataframe\">\n",
       "  <thead>\n",
       "    <tr style=\"text-align: right;\">\n",
       "      <th></th>\n",
       "      <th>Focal Length [mm]</th>\n",
       "      <th>Spatial Resolution [m]</th>\n",
       "      <th>Swath (across-track) [km]</th>\n",
       "      <th>Swath (along-track) [km]</th>\n",
       "    </tr>\n",
       "  </thead>\n",
       "  <tbody>\n",
       "    <tr>\n",
       "      <th>0</th>\n",
       "      <td>10.0</td>\n",
       "      <td>825.000000</td>\n",
       "      <td>165.000000</td>\n",
       "      <td>55.000000</td>\n",
       "    </tr>\n",
       "    <tr>\n",
       "      <th>1</th>\n",
       "      <td>20.0</td>\n",
       "      <td>412.500000</td>\n",
       "      <td>82.500000</td>\n",
       "      <td>27.500000</td>\n",
       "    </tr>\n",
       "    <tr>\n",
       "      <th>2</th>\n",
       "      <td>30.0</td>\n",
       "      <td>275.000000</td>\n",
       "      <td>55.000000</td>\n",
       "      <td>18.333333</td>\n",
       "    </tr>\n",
       "    <tr>\n",
       "      <th>3</th>\n",
       "      <td>40.0</td>\n",
       "      <td>206.250000</td>\n",
       "      <td>41.250000</td>\n",
       "      <td>13.750000</td>\n",
       "    </tr>\n",
       "    <tr>\n",
       "      <th>4</th>\n",
       "      <td>50.0</td>\n",
       "      <td>165.000000</td>\n",
       "      <td>33.000000</td>\n",
       "      <td>11.000000</td>\n",
       "    </tr>\n",
       "    <tr>\n",
       "      <th>5</th>\n",
       "      <td>60.0</td>\n",
       "      <td>137.500000</td>\n",
       "      <td>27.500000</td>\n",
       "      <td>9.166667</td>\n",
       "    </tr>\n",
       "    <tr>\n",
       "      <th>6</th>\n",
       "      <td>70.0</td>\n",
       "      <td>117.857143</td>\n",
       "      <td>23.571429</td>\n",
       "      <td>7.857143</td>\n",
       "    </tr>\n",
       "    <tr>\n",
       "      <th>7</th>\n",
       "      <td>80.0</td>\n",
       "      <td>103.125000</td>\n",
       "      <td>20.625000</td>\n",
       "      <td>6.875000</td>\n",
       "    </tr>\n",
       "    <tr>\n",
       "      <th>8</th>\n",
       "      <td>90.0</td>\n",
       "      <td>91.666667</td>\n",
       "      <td>18.333333</td>\n",
       "      <td>6.111111</td>\n",
       "    </tr>\n",
       "    <tr>\n",
       "      <th>9</th>\n",
       "      <td>100.0</td>\n",
       "      <td>82.500000</td>\n",
       "      <td>16.500000</td>\n",
       "      <td>5.500000</td>\n",
       "    </tr>\n",
       "    <tr>\n",
       "      <th>10</th>\n",
       "      <td>110.0</td>\n",
       "      <td>75.000000</td>\n",
       "      <td>15.000000</td>\n",
       "      <td>5.000000</td>\n",
       "    </tr>\n",
       "    <tr>\n",
       "      <th>11</th>\n",
       "      <td>120.0</td>\n",
       "      <td>68.750000</td>\n",
       "      <td>13.750000</td>\n",
       "      <td>4.583333</td>\n",
       "    </tr>\n",
       "    <tr>\n",
       "      <th>12</th>\n",
       "      <td>130.0</td>\n",
       "      <td>63.461538</td>\n",
       "      <td>12.692308</td>\n",
       "      <td>4.230769</td>\n",
       "    </tr>\n",
       "    <tr>\n",
       "      <th>13</th>\n",
       "      <td>140.0</td>\n",
       "      <td>58.928571</td>\n",
       "      <td>11.785714</td>\n",
       "      <td>3.928571</td>\n",
       "    </tr>\n",
       "    <tr>\n",
       "      <th>14</th>\n",
       "      <td>150.0</td>\n",
       "      <td>55.000000</td>\n",
       "      <td>11.000000</td>\n",
       "      <td>3.666667</td>\n",
       "    </tr>\n",
       "    <tr>\n",
       "      <th>15</th>\n",
       "      <td>160.0</td>\n",
       "      <td>51.562500</td>\n",
       "      <td>10.312500</td>\n",
       "      <td>3.437500</td>\n",
       "    </tr>\n",
       "    <tr>\n",
       "      <th>16</th>\n",
       "      <td>170.0</td>\n",
       "      <td>48.529412</td>\n",
       "      <td>9.705882</td>\n",
       "      <td>3.235294</td>\n",
       "    </tr>\n",
       "    <tr>\n",
       "      <th>17</th>\n",
       "      <td>180.0</td>\n",
       "      <td>45.833333</td>\n",
       "      <td>9.166667</td>\n",
       "      <td>3.055556</td>\n",
       "    </tr>\n",
       "    <tr>\n",
       "      <th>18</th>\n",
       "      <td>190.0</td>\n",
       "      <td>43.421053</td>\n",
       "      <td>8.684211</td>\n",
       "      <td>2.894737</td>\n",
       "    </tr>\n",
       "    <tr>\n",
       "      <th>19</th>\n",
       "      <td>200.0</td>\n",
       "      <td>41.250000</td>\n",
       "      <td>8.250000</td>\n",
       "      <td>2.750000</td>\n",
       "    </tr>\n",
       "    <tr>\n",
       "      <th>20</th>\n",
       "      <td>210.0</td>\n",
       "      <td>39.285714</td>\n",
       "      <td>7.857143</td>\n",
       "      <td>2.619048</td>\n",
       "    </tr>\n",
       "    <tr>\n",
       "      <th>21</th>\n",
       "      <td>220.0</td>\n",
       "      <td>37.500000</td>\n",
       "      <td>7.500000</td>\n",
       "      <td>2.500000</td>\n",
       "    </tr>\n",
       "    <tr>\n",
       "      <th>22</th>\n",
       "      <td>230.0</td>\n",
       "      <td>35.869565</td>\n",
       "      <td>7.173913</td>\n",
       "      <td>2.391304</td>\n",
       "    </tr>\n",
       "    <tr>\n",
       "      <th>23</th>\n",
       "      <td>240.0</td>\n",
       "      <td>34.375000</td>\n",
       "      <td>6.875000</td>\n",
       "      <td>2.291667</td>\n",
       "    </tr>\n",
       "    <tr>\n",
       "      <th>24</th>\n",
       "      <td>250.0</td>\n",
       "      <td>33.000000</td>\n",
       "      <td>6.600000</td>\n",
       "      <td>2.200000</td>\n",
       "    </tr>\n",
       "    <tr>\n",
       "      <th>25</th>\n",
       "      <td>260.0</td>\n",
       "      <td>31.730769</td>\n",
       "      <td>6.346154</td>\n",
       "      <td>2.115385</td>\n",
       "    </tr>\n",
       "    <tr>\n",
       "      <th>26</th>\n",
       "      <td>270.0</td>\n",
       "      <td>30.555556</td>\n",
       "      <td>6.111111</td>\n",
       "      <td>2.037037</td>\n",
       "    </tr>\n",
       "    <tr>\n",
       "      <th>27</th>\n",
       "      <td>280.0</td>\n",
       "      <td>29.464286</td>\n",
       "      <td>5.892857</td>\n",
       "      <td>1.964286</td>\n",
       "    </tr>\n",
       "    <tr>\n",
       "      <th>28</th>\n",
       "      <td>290.0</td>\n",
       "      <td>28.448276</td>\n",
       "      <td>5.689655</td>\n",
       "      <td>1.896552</td>\n",
       "    </tr>\n",
       "  </tbody>\n",
       "</table>\n",
       "</div>"
      ],
      "text/plain": [
       "    Focal Length [mm]  Spatial Resolution [m]  Swath (across-track) [km]  \\\n",
       "0                10.0              825.000000                 165.000000   \n",
       "1                20.0              412.500000                  82.500000   \n",
       "2                30.0              275.000000                  55.000000   \n",
       "3                40.0              206.250000                  41.250000   \n",
       "4                50.0              165.000000                  33.000000   \n",
       "5                60.0              137.500000                  27.500000   \n",
       "6                70.0              117.857143                  23.571429   \n",
       "7                80.0              103.125000                  20.625000   \n",
       "8                90.0               91.666667                  18.333333   \n",
       "9               100.0               82.500000                  16.500000   \n",
       "10              110.0               75.000000                  15.000000   \n",
       "11              120.0               68.750000                  13.750000   \n",
       "12              130.0               63.461538                  12.692308   \n",
       "13              140.0               58.928571                  11.785714   \n",
       "14              150.0               55.000000                  11.000000   \n",
       "15              160.0               51.562500                  10.312500   \n",
       "16              170.0               48.529412                   9.705882   \n",
       "17              180.0               45.833333                   9.166667   \n",
       "18              190.0               43.421053                   8.684211   \n",
       "19              200.0               41.250000                   8.250000   \n",
       "20              210.0               39.285714                   7.857143   \n",
       "21              220.0               37.500000                   7.500000   \n",
       "22              230.0               35.869565                   7.173913   \n",
       "23              240.0               34.375000                   6.875000   \n",
       "24              250.0               33.000000                   6.600000   \n",
       "25              260.0               31.730769                   6.346154   \n",
       "26              270.0               30.555556                   6.111111   \n",
       "27              280.0               29.464286                   5.892857   \n",
       "28              290.0               28.448276                   5.689655   \n",
       "\n",
       "    Swath (along-track) [km]  \n",
       "0                  55.000000  \n",
       "1                  27.500000  \n",
       "2                  18.333333  \n",
       "3                  13.750000  \n",
       "4                  11.000000  \n",
       "5                   9.166667  \n",
       "6                   7.857143  \n",
       "7                   6.875000  \n",
       "8                   6.111111  \n",
       "9                   5.500000  \n",
       "10                  5.000000  \n",
       "11                  4.583333  \n",
       "12                  4.230769  \n",
       "13                  3.928571  \n",
       "14                  3.666667  \n",
       "15                  3.437500  \n",
       "16                  3.235294  \n",
       "17                  3.055556  \n",
       "18                  2.894737  \n",
       "19                  2.750000  \n",
       "20                  2.619048  \n",
       "21                  2.500000  \n",
       "22                  2.391304  \n",
       "23                  2.291667  \n",
       "24                  2.200000  \n",
       "25                  2.115385  \n",
       "26                  2.037037  \n",
       "27                  1.964286  \n",
       "28                  1.896552  "
      ]
     },
     "metadata": {},
     "output_type": "display_data"
    },
    {
     "data": {
      "text/html": [
       "HyperspectralImager \n",
       "<table border=\"1\" class=\"dataframe\">\n",
       "  <thead>\n",
       "    <tr style=\"text-align: right;\">\n",
       "      <th></th>\n",
       "      <th>Value</th>\n",
       "      <th>Units</th>\n",
       "    </tr>\n",
       "  </thead>\n",
       "  <tbody>\n",
       "    <tr>\n",
       "      <th>foreoptic</th>\n",
       "      <td>Foreoptic</td>\n",
       "      <td>None</td>\n",
       "    </tr>\n",
       "    <tr>\n",
       "      <th>slit</th>\n",
       "      <td>RectSlit</td>\n",
       "      <td>None</td>\n",
       "    </tr>\n",
       "    <tr>\n",
       "      <th>diffractor</th>\n",
       "      <td>None</td>\n",
       "      <td>None</td>\n",
       "    </tr>\n",
       "    <tr>\n",
       "      <th>sensor</th>\n",
       "      <td>TauSWIR</td>\n",
       "      <td>None</td>\n",
       "    </tr>\n",
       "    <tr>\n",
       "      <th>components</th>\n",
       "      <td>list [4]</td>\n",
       "      <td>None</td>\n",
       "    </tr>\n",
       "  </tbody>\n",
       "</table>"
      ],
      "text/plain": [
       "<architect.systems.spectrometers.HyperspectralImager at 0x21e5db122f0>"
      ]
     },
     "metadata": {},
     "output_type": "display_data"
    }
   ],
   "source": [
    "focal_length_label = f\"Focal Length [{focal_length.unit}]\"\n",
    "sensor_spatial_resolution_label = (\n",
    "    f\"Spatial Resolution [{sensor_spatial_resolution.unit}]\"\n",
    ")\n",
    "swath_label_x = f\"Swath (across-track) [{swath.unit}]\"\n",
    "swath_label_y = f\"Swath (along-track) [{swath.unit}]\"\n",
    "\n",
    "\n",
    "data = {\n",
    "    focal_length_label: focal_length[:, 0],\n",
    "    sensor_spatial_resolution_label: sensor_spatial_resolution[:, 0],\n",
    "    swath_label_x: swath[:, 0],\n",
    "    swath_label_y: swath[:, 1],\n",
    "}\n",
    "\n",
    "df = pd.DataFrame.from_dict(data=data)\n",
    "\n",
    "fig = plot.line(\n",
    "    df=df,\n",
    "    x=focal_length_label,\n",
    "    y=[\n",
    "        sensor_spatial_resolution_label,\n",
    "        swath_label_x,\n",
    "        swath_label_y,\n",
    "    ],\n",
    "    title=None,\n",
    "    dark=True,\n",
    ")\n",
    "\n",
    "df.to_csv(output_dir / \"data.csv\", index=False)\n",
    "plot.save(\n",
    "    fig=fig, name=\"spatial_resolution_&_swath_vs_focal_length_trade\", path=output_dir\n",
    ")\n",
    "\n",
    "fig.show()\n",
    "display(df)\n",
    "display(payload)"
   ]
  }
 ],
 "metadata": {
  "kernelspec": {
   "display_name": "Python 3.10.7 ('.venv': poetry)",
   "language": "python",
   "name": "python3"
  },
  "language_info": {
   "codemirror_mode": {
    "name": "ipython",
    "version": 3
   },
   "file_extension": ".py",
   "mimetype": "text/x-python",
   "name": "python",
   "nbconvert_exporter": "python",
   "pygments_lexer": "ipython3",
   "version": "3.10.7"
  },
  "orig_nbformat": 4,
  "vscode": {
   "interpreter": {
    "hash": "c4b485a9dc540be4f5d287e4eb00fc79125e03014bfc694222ba78c2b10f3405"
   }
  }
 },
 "nbformat": 4,
 "nbformat_minor": 2
}
