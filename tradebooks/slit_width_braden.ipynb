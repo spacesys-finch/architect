{
 "cells": [
  {
   "cell_type": "markdown",
   "metadata": {},
   "source": [
    "# Slit Width Trade Book\n",
    "### Bandpass vs. SNR vs. Along-Track Spatial Resolution"
   ]
  },
  {
   "cell_type": "code",
   "execution_count": 2,
   "metadata": {},
   "outputs": [],
   "source": [
    "# stdlib\n",
    "import math\n",
    "from pathlib import Path\n",
    "\n",
    "# external\n",
    "import astropy.units as unit\n",
    "import numpy as np\n",
    "import pandas as pd\n",
    "import plot\n",
    "from IPython.display import display\n",
    "\n",
    "# project\n",
    "from architect import luts\n",
    "from architect.libs import utillib\n",
    "from architect.systems.optical import (\n",
    "    diffractors,\n",
    "    foreoptics,\n",
    "    lenses,\n",
    "    masks,\n",
    "    sensors,\n",
    "    spectrometers,\n",
    ")"
   ]
  },
  {
   "cell_type": "markdown",
   "metadata": {},
   "source": [
    "## Setup\n",
    "Run this section onwards when a parameter is updated."
   ]
  },
  {
   "cell_type": "markdown",
   "metadata": {},
   "source": [
    "### Parameters"
   ]
  },
  {
   "cell_type": "code",
   "execution_count": 3,
   "metadata": {},
   "outputs": [],
   "source": [
    "# constants\n",
    "target_wavelength = 1300 * unit.nm\n",
    "lower_wavelength = 900 * unit.nm\n",
    "upper_wavelength = 1700 * unit.nm\n",
    "beam_diameter = 12 * unit.mm\n",
    "fringe_frequency = 400 / unit.mm\n",
    "skew_angle = np.array([0, 0]) * unit.deg\n",
    "orbital_altitude = 505 * unit.km\n",
    "incident_angle = 0 * unit.deg\n",
    "spectral_order = 1\n",
    "\n",
    "# variables\n",
    "widths = np.arange(start=10, stop=100, step=1) * unit.micrometer"
   ]
  },
  {
   "cell_type": "markdown",
   "metadata": {},
   "source": [
    "### Instantiation"
   ]
  },
  {
   "cell_type": "code",
   "execution_count": 4,
   "metadata": {},
   "outputs": [],
   "source": [
    "# components\n",
    "sensor = sensors.TauSWIR()\n",
    "foreoptic = foreoptics.Foreoptic(\n",
    "    focal_length=50 * unit.mm, diameter=35 * unit.mm, image_diameter=10 * unit.mm\n",
    ")\n",
    "diffractor = diffractors.TransmissiveDiffractor(fringe_frequency=fringe_frequency)\n",
    "collimator = lenses.Lens(focal_length=13 * unit.mm)\n",
    "radiance = luts.load(\"atmosphere/radiance_min\")"
   ]
  },
  {
   "cell_type": "markdown",
   "metadata": {},
   "source": [
    "## Pipeline\n",
    "The computational graph"
   ]
  },
  {
   "cell_type": "code",
   "execution_count": 7,
   "metadata": {},
   "outputs": [
    {
     "ename": "UnitConversionError",
     "evalue": "'um / mm2' (wavenumber) and 'nm' (length) are not convertible",
     "output_type": "error",
     "traceback": [
      "\u001b[1;31m---------------------------------------------------------------------------\u001b[0m",
      "\u001b[1;31mUnitConversionError\u001b[0m                       Traceback (most recent call last)",
      "Input \u001b[1;32mIn [7]\u001b[0m, in \u001b[0;36m<cell line: 5>\u001b[1;34m()\u001b[0m\n\u001b[0;32m      8\u001b[0m payload \u001b[38;5;241m=\u001b[39m spectrometers\u001b[38;5;241m.\u001b[39mHyperspectralImager(\n\u001b[0;32m      9\u001b[0m     sensor\u001b[38;5;241m=\u001b[39msensor,\n\u001b[0;32m     10\u001b[0m     foreoptic\u001b[38;5;241m=\u001b[39mforeoptic,\n\u001b[1;32m   (...)\u001b[0m\n\u001b[0;32m     13\u001b[0m     collimator\u001b[38;5;241m=\u001b[39mcollimator,\n\u001b[0;32m     14\u001b[0m )\n\u001b[0;32m     16\u001b[0m \u001b[38;5;66;03m# Determine the bandpass with the new slit width\u001b[39;00m\n\u001b[0;32m     17\u001b[0m bandpass_measurement \u001b[38;5;241m=\u001b[39m \u001b[43mpayload\u001b[49m\u001b[38;5;241;43m.\u001b[39;49m\u001b[43mget_bandpass\u001b[49m\u001b[43m(\u001b[49m\n\u001b[0;32m     18\u001b[0m \u001b[43m    \u001b[49m\u001b[43mwidth\u001b[49m\u001b[43m,\u001b[49m\u001b[43m \u001b[49m\u001b[43mincident_angle\u001b[49m\u001b[43m,\u001b[49m\u001b[43m \u001b[49m\u001b[43mspectral_order\u001b[49m\n\u001b[1;32m---> 19\u001b[0m \u001b[43m\u001b[49m\u001b[43m)\u001b[49m\u001b[38;5;241;43m.\u001b[39;49m\u001b[43mto\u001b[49m\u001b[43m(\u001b[49m\u001b[43munit\u001b[49m\u001b[38;5;241;43m.\u001b[39;49m\u001b[43mnm\u001b[49m\u001b[43m)\u001b[49m\n\u001b[0;32m     20\u001b[0m bandpass\u001b[38;5;241m.\u001b[39mappend(bandpass_measurement\u001b[38;5;241m.\u001b[39mvalue)\n\u001b[0;32m     22\u001b[0m \u001b[38;5;66;03m# Determine the SNR for the new slit width\u001b[39;00m\n",
      "File \u001b[1;32mc:\\Users\\Optics\\Documents\\GitHub\\architect\\.venv\\lib\\site-packages\\astropy\\units\\quantity.py:846\u001b[0m, in \u001b[0;36mQuantity.to\u001b[1;34m(self, unit, equivalencies, copy)\u001b[0m\n\u001b[0;32m    842\u001b[0m unit \u001b[38;5;241m=\u001b[39m Unit(unit)\n\u001b[0;32m    843\u001b[0m \u001b[38;5;28;01mif\u001b[39;00m copy:\n\u001b[0;32m    844\u001b[0m     \u001b[38;5;66;03m# Avoid using to_value to ensure that we make a copy. We also\u001b[39;00m\n\u001b[0;32m    845\u001b[0m     \u001b[38;5;66;03m# don't want to slow down this method (esp. the scalar case).\u001b[39;00m\n\u001b[1;32m--> 846\u001b[0m     value \u001b[38;5;241m=\u001b[39m \u001b[38;5;28;43mself\u001b[39;49m\u001b[38;5;241;43m.\u001b[39;49m\u001b[43m_to_value\u001b[49m\u001b[43m(\u001b[49m\u001b[43munit\u001b[49m\u001b[43m,\u001b[49m\u001b[43m \u001b[49m\u001b[43mequivalencies\u001b[49m\u001b[43m)\u001b[49m\n\u001b[0;32m    847\u001b[0m \u001b[38;5;28;01melse\u001b[39;00m:\n\u001b[0;32m    848\u001b[0m     \u001b[38;5;66;03m# to_value only copies if necessary\u001b[39;00m\n\u001b[0;32m    849\u001b[0m     value \u001b[38;5;241m=\u001b[39m \u001b[38;5;28mself\u001b[39m\u001b[38;5;241m.\u001b[39mto_value(unit, equivalencies)\n",
      "File \u001b[1;32mc:\\Users\\Optics\\Documents\\GitHub\\architect\\.venv\\lib\\site-packages\\astropy\\units\\quantity.py:800\u001b[0m, in \u001b[0;36mQuantity._to_value\u001b[1;34m(self, unit, equivalencies)\u001b[0m\n\u001b[0;32m    797\u001b[0m     equivalencies \u001b[38;5;241m=\u001b[39m \u001b[38;5;28mself\u001b[39m\u001b[38;5;241m.\u001b[39m_equivalencies\n\u001b[0;32m    798\u001b[0m \u001b[38;5;28;01mif\u001b[39;00m \u001b[38;5;129;01mnot\u001b[39;00m \u001b[38;5;28mself\u001b[39m\u001b[38;5;241m.\u001b[39mdtype\u001b[38;5;241m.\u001b[39mnames \u001b[38;5;129;01mor\u001b[39;00m \u001b[38;5;28misinstance\u001b[39m(\u001b[38;5;28mself\u001b[39m\u001b[38;5;241m.\u001b[39munit, StructuredUnit):\n\u001b[0;32m    799\u001b[0m     \u001b[38;5;66;03m# Standard path, let unit to do work.\u001b[39;00m\n\u001b[1;32m--> 800\u001b[0m     \u001b[38;5;28;01mreturn\u001b[39;00m \u001b[38;5;28;43mself\u001b[39;49m\u001b[38;5;241;43m.\u001b[39;49m\u001b[43munit\u001b[49m\u001b[38;5;241;43m.\u001b[39;49m\u001b[43mto\u001b[49m\u001b[43m(\u001b[49m\u001b[43munit\u001b[49m\u001b[43m,\u001b[49m\u001b[43m \u001b[49m\u001b[38;5;28;43mself\u001b[39;49m\u001b[38;5;241;43m.\u001b[39;49m\u001b[43mview\u001b[49m\u001b[43m(\u001b[49m\u001b[43mnp\u001b[49m\u001b[38;5;241;43m.\u001b[39;49m\u001b[43mndarray\u001b[49m\u001b[43m)\u001b[49m\u001b[43m,\u001b[49m\n\u001b[0;32m    801\u001b[0m \u001b[43m                        \u001b[49m\u001b[43mequivalencies\u001b[49m\u001b[38;5;241;43m=\u001b[39;49m\u001b[43mequivalencies\u001b[49m\u001b[43m)\u001b[49m\n\u001b[0;32m    803\u001b[0m \u001b[38;5;28;01melse\u001b[39;00m:\n\u001b[0;32m    804\u001b[0m     \u001b[38;5;66;03m# The .to() method of a simple unit cannot convert a structured\u001b[39;00m\n\u001b[0;32m    805\u001b[0m     \u001b[38;5;66;03m# dtype, so we work around it, by recursing.\u001b[39;00m\n\u001b[0;32m    806\u001b[0m     \u001b[38;5;66;03m# TODO: deprecate this?\u001b[39;00m\n\u001b[0;32m    807\u001b[0m     \u001b[38;5;66;03m# Convert simple to Structured on initialization?\u001b[39;00m\n\u001b[0;32m    808\u001b[0m     result \u001b[38;5;241m=\u001b[39m np\u001b[38;5;241m.\u001b[39mempty_like(\u001b[38;5;28mself\u001b[39m\u001b[38;5;241m.\u001b[39mview(np\u001b[38;5;241m.\u001b[39mndarray))\n",
      "File \u001b[1;32mc:\\Users\\Optics\\Documents\\GitHub\\architect\\.venv\\lib\\site-packages\\astropy\\units\\core.py:1130\u001b[0m, in \u001b[0;36mUnitBase.to\u001b[1;34m(self, other, value, equivalencies)\u001b[0m\n\u001b[0;32m   1128\u001b[0m     \u001b[38;5;28;01mreturn\u001b[39;00m UNITY\n\u001b[0;32m   1129\u001b[0m \u001b[38;5;28;01melse\u001b[39;00m:\n\u001b[1;32m-> 1130\u001b[0m     \u001b[38;5;28;01mreturn\u001b[39;00m \u001b[38;5;28;43mself\u001b[39;49m\u001b[38;5;241;43m.\u001b[39;49m\u001b[43m_get_converter\u001b[49m\u001b[43m(\u001b[49m\u001b[43mUnit\u001b[49m\u001b[43m(\u001b[49m\u001b[43mother\u001b[49m\u001b[43m)\u001b[49m\u001b[43m,\u001b[49m\n\u001b[0;32m   1131\u001b[0m \u001b[43m                               \u001b[49m\u001b[43mequivalencies\u001b[49m\u001b[38;5;241;43m=\u001b[39;49m\u001b[43mequivalencies\u001b[49m\u001b[43m)\u001b[49m(value)\n",
      "File \u001b[1;32mc:\\Users\\Optics\\Documents\\GitHub\\architect\\.venv\\lib\\site-packages\\astropy\\units\\core.py:1061\u001b[0m, in \u001b[0;36mUnitBase._get_converter\u001b[1;34m(self, other, equivalencies)\u001b[0m\n\u001b[0;32m   1058\u001b[0m             \u001b[38;5;28;01mexcept\u001b[39;00m \u001b[38;5;167;01mException\u001b[39;00m:\n\u001b[0;32m   1059\u001b[0m                 \u001b[38;5;28;01mpass\u001b[39;00m\n\u001b[1;32m-> 1061\u001b[0m \u001b[38;5;28;01mraise\u001b[39;00m exc\n",
      "File \u001b[1;32mc:\\Users\\Optics\\Documents\\GitHub\\architect\\.venv\\lib\\site-packages\\astropy\\units\\core.py:1046\u001b[0m, in \u001b[0;36mUnitBase._get_converter\u001b[1;34m(self, other, equivalencies)\u001b[0m\n\u001b[0;32m   1044\u001b[0m \u001b[38;5;66;03m# if that doesn't work, maybe we can do it with equivalencies?\u001b[39;00m\n\u001b[0;32m   1045\u001b[0m \u001b[38;5;28;01mtry\u001b[39;00m:\n\u001b[1;32m-> 1046\u001b[0m     \u001b[38;5;28;01mreturn\u001b[39;00m \u001b[38;5;28;43mself\u001b[39;49m\u001b[38;5;241;43m.\u001b[39;49m\u001b[43m_apply_equivalencies\u001b[49m\u001b[43m(\u001b[49m\n\u001b[0;32m   1047\u001b[0m \u001b[43m        \u001b[49m\u001b[38;5;28;43mself\u001b[39;49m\u001b[43m,\u001b[49m\u001b[43m \u001b[49m\u001b[43mother\u001b[49m\u001b[43m,\u001b[49m\u001b[43m \u001b[49m\u001b[38;5;28;43mself\u001b[39;49m\u001b[38;5;241;43m.\u001b[39;49m\u001b[43m_normalize_equivalencies\u001b[49m\u001b[43m(\u001b[49m\u001b[43mequivalencies\u001b[49m\u001b[43m)\u001b[49m\u001b[43m)\u001b[49m\n\u001b[0;32m   1048\u001b[0m \u001b[38;5;28;01mexcept\u001b[39;00m UnitsError \u001b[38;5;28;01mas\u001b[39;00m exc:\n\u001b[0;32m   1049\u001b[0m     \u001b[38;5;66;03m# Last hope: maybe other knows how to do it?\u001b[39;00m\n\u001b[0;32m   1050\u001b[0m     \u001b[38;5;66;03m# We assume the equivalencies have the unit itself as first item.\u001b[39;00m\n\u001b[0;32m   1051\u001b[0m     \u001b[38;5;66;03m# TODO: maybe better for other to have a `_back_converter` method?\u001b[39;00m\n\u001b[0;32m   1052\u001b[0m     \u001b[38;5;28;01mif\u001b[39;00m \u001b[38;5;28mhasattr\u001b[39m(other, \u001b[38;5;124m'\u001b[39m\u001b[38;5;124mequivalencies\u001b[39m\u001b[38;5;124m'\u001b[39m):\n",
      "File \u001b[1;32mc:\\Users\\Optics\\Documents\\GitHub\\architect\\.venv\\lib\\site-packages\\astropy\\units\\core.py:1022\u001b[0m, in \u001b[0;36mUnitBase._apply_equivalencies\u001b[1;34m(self, unit, other, equivalencies)\u001b[0m\n\u001b[0;32m   1019\u001b[0m unit_str \u001b[38;5;241m=\u001b[39m get_err_str(unit)\n\u001b[0;32m   1020\u001b[0m other_str \u001b[38;5;241m=\u001b[39m get_err_str(other)\n\u001b[1;32m-> 1022\u001b[0m \u001b[38;5;28;01mraise\u001b[39;00m UnitConversionError(\n\u001b[0;32m   1023\u001b[0m     \u001b[38;5;124mf\u001b[39m\u001b[38;5;124m\"\u001b[39m\u001b[38;5;132;01m{\u001b[39;00munit_str\u001b[38;5;132;01m}\u001b[39;00m\u001b[38;5;124m and \u001b[39m\u001b[38;5;132;01m{\u001b[39;00mother_str\u001b[38;5;132;01m}\u001b[39;00m\u001b[38;5;124m are not convertible\u001b[39m\u001b[38;5;124m\"\u001b[39m)\n",
      "\u001b[1;31mUnitConversionError\u001b[0m: 'um / mm2' (wavenumber) and 'nm' (length) are not convertible"
     ]
    }
   ],
   "source": [
    "bandpass = []\n",
    "snr = []\n",
    "spatial_resolution = []\n",
    "\n",
    "for width in widths:\n",
    "    # Modify the slit width and then reinstantiate the HyperspectralImager\n",
    "    slit = masks.RectSlit(size=(width, 7.68 * unit.mm))\n",
    "    payload = spectrometers.HyperspectralImager(\n",
    "        sensor=sensor,\n",
    "        foreoptic=foreoptic,\n",
    "        slit=slit,\n",
    "        diffractor=diffractor,\n",
    "        collimator=collimator,\n",
    "    )\n",
    "\n",
    "    # Determine the bandpass with the new slit width\n",
    "    bandpass_measurement = payload.get_bandpass(\n",
    "        width, incident_angle, spectral_order\n",
    "    ).to(unit.nm)\n",
    "    bandpass.append(bandpass_measurement.value)\n",
    "\n",
    "    # Determine the SNR for the new slit width\n",
    "    snr_measurment = payload.get_signal_to_noise(\n",
    "        radiance=radiance, wavelength=target_wavelength\n",
    "    )\n",
    "    snr.append(snr_measurment.value)\n",
    "\n",
    "    # Determine the Spatial Resolution for the new slit\n",
    "    spatial_resolution_measurment = payload.get_spatial_resolution(\n",
    "        wavelength=target_wavelength,\n",
    "        target_distance=orbital_altitude,\n",
    "        skew_angle=skew_angle[0],\n",
    "    )\n",
    "    spatial_resolution.append(spatial_resolution_measurment.to(unit.km).value)"
   ]
  },
  {
   "cell_type": "markdown",
   "metadata": {},
   "source": [
    "## Plots"
   ]
  },
  {
   "cell_type": "code",
   "execution_count": 6,
   "metadata": {},
   "outputs": [
    {
     "name": "stdout",
     "output_type": "stream",
     "text": [
      "[0.1515, 0.1515, 0.1515, 0.1515, 0.1515, 0.1515, 0.1515, 0.1515, 0.1515, 0.1515, 0.1515, 0.1515, 0.1515, 0.1515, 0.1515, 0.1515, 0.1515, 0.1515, 0.1515, 0.1515, 0.1515, 0.1515, 0.1515, 0.1515, 0.1515, 0.1515, 0.1515, 0.1515, 0.1515, 0.1515, 0.1515, 0.1515, 0.1515, 0.1515, 0.1515, 0.1515, 0.1515, 0.1515, 0.1515, 0.1515, 0.1515, 0.1515, 0.1515, 0.1515, 0.1515, 0.1515, 0.1515, 0.1515, 0.1515, 0.1515, 0.1515, 0.1515, 0.1515, 0.1515, 0.1515, 0.1515, 0.1515, 0.1515, 0.1515, 0.1515, 0.1515, 0.1515, 0.1515, 0.1515, 0.1515, 0.1515, 0.1515, 0.1515, 0.1515, 0.1515, 0.1515, 0.1515, 0.1515, 0.1515, 0.1515, 0.1515, 0.1515, 0.1515, 0.1515, 0.1515, 0.1515, 0.1515, 0.1515, 0.1515, 0.1515, 0.1515, 0.1515, 0.1515, 0.1515, 0.1515]\n"
     ]
    },
    {
     "data": {
      "application/vnd.plotly.v1+json": {
       "config": {
        "plotlyServerURL": "https://plot.ly"
       },
       "data": [
        {
         "hovertemplate": "variable=Spectral Bandpass (nm)<br>Slit Width (microns)=%{x}<br>value=%{y}<extra></extra>",
         "legendgroup": "Spectral Bandpass (nm)",
         "line": {
          "color": "#636efa",
          "dash": "solid"
         },
         "marker": {
          "symbol": "circle"
         },
         "mode": "lines",
         "name": "Spectral Bandpass (nm)",
         "orientation": "v",
         "showlegend": true,
         "type": "scatter",
         "x": [
          10,
          11,
          12,
          13,
          14,
          15,
          16,
          17,
          18,
          19,
          20,
          21,
          22,
          23,
          24,
          25,
          26,
          27,
          28,
          29,
          30,
          31,
          32,
          33,
          34,
          35,
          36,
          37,
          38,
          39,
          40,
          41,
          42,
          43,
          44,
          45,
          46,
          47,
          48,
          49,
          50,
          51,
          52,
          53,
          54,
          55,
          56,
          57,
          58,
          59,
          60,
          61,
          62,
          63,
          64,
          65,
          66,
          67,
          68,
          69,
          70,
          71,
          72,
          73,
          74,
          75,
          76,
          77,
          78,
          79,
          80,
          81,
          82,
          83,
          84,
          85,
          86,
          87,
          88,
          89,
          90,
          91,
          92,
          93,
          94,
          95,
          96,
          97,
          98,
          99
         ],
         "xaxis": "x",
         "y": [
          80,
          88,
          96,
          104,
          112,
          120,
          128,
          136,
          144,
          152,
          160,
          168,
          176,
          184,
          192,
          200,
          208,
          216,
          224,
          232,
          240,
          248,
          256,
          264,
          272,
          280,
          288,
          296,
          304,
          312,
          320,
          328,
          336,
          344,
          352,
          360,
          368,
          376,
          384,
          392,
          400,
          408,
          416,
          424,
          432,
          440,
          448,
          456,
          464,
          472,
          480,
          488,
          496,
          504,
          512,
          520,
          528,
          536,
          544,
          552,
          560,
          568,
          576,
          584,
          592,
          600,
          608,
          616,
          624,
          632,
          640,
          648,
          656,
          664,
          672,
          680,
          688,
          696,
          704,
          712,
          720,
          728,
          736,
          744,
          752,
          760,
          768,
          776,
          784,
          792
         ],
         "yaxis": "y"
        },
        {
         "hovertemplate": "variable=SNR<br>Slit Width (microns)=%{x}<br>value=%{y}<extra></extra>",
         "legendgroup": "SNR",
         "line": {
          "color": "#EF553B",
          "dash": "solid"
         },
         "marker": {
          "symbol": "circle"
         },
         "mode": "lines",
         "name": "SNR",
         "orientation": "v",
         "showlegend": true,
         "type": "scatter",
         "x": [
          10,
          11,
          12,
          13,
          14,
          15,
          16,
          17,
          18,
          19,
          20,
          21,
          22,
          23,
          24,
          25,
          26,
          27,
          28,
          29,
          30,
          31,
          32,
          33,
          34,
          35,
          36,
          37,
          38,
          39,
          40,
          41,
          42,
          43,
          44,
          45,
          46,
          47,
          48,
          49,
          50,
          51,
          52,
          53,
          54,
          55,
          56,
          57,
          58,
          59,
          60,
          61,
          62,
          63,
          64,
          65,
          66,
          67,
          68,
          69,
          70,
          71,
          72,
          73,
          74,
          75,
          76,
          77,
          78,
          79,
          80,
          81,
          82,
          83,
          84,
          85,
          86,
          87,
          88,
          89,
          90,
          91,
          92,
          93,
          94,
          95,
          96,
          97,
          98,
          99
         ],
         "xaxis": "x",
         "y": [
          2.011971985041411,
          2.213159646326856,
          2.4143455737070427,
          2.6155297672155933,
          2.8167122268861293,
          3.0178929527522724,
          3.219071944847641,
          3.420249203205856,
          3.6214247278605347,
          3.8225985188452936,
          4.023770576193749,
          4.224940899939518,
          4.42610949011621,
          4.627276346757443,
          4.828441469896828,
          5.029604859567974,
          5.230766515804494,
          5.431926438639995,
          5.633084628108088,
          5.83424108424238,
          6.035395807076474,
          6.236548796643977,
          6.437700052978499,
          6.638849576113636,
          6.839997366082993,
          7.0411434229201735,
          7.242287746658777,
          7.443430337332399,
          7.644571194974647,
          7.845710319619111,
          8.04684771129939,
          8.247983370049084,
          8.44911729590178,
          8.65024948889108,
          8.851379949050568,
          9.052508676413845,
          9.253635671014498,
          9.454760932886117,
          9.655884462062287,
          9.857006258576604,
          10.05812632246265,
          10.259244653754013,
          10.46036125248428,
          10.661476118687027,
          10.862589252395848,
          11.063700653644318,
          11.26481032246602,
          11.465918258894536,
          11.667024462963447,
          11.868128934706327,
          12.069231674156757,
          12.270332681348307,
          12.47143195631456,
          12.672529499089089,
          12.873625309705472,
          13.07471938819727,
          13.27581173459806,
          13.476902348941413,
          13.677991231260908,
          13.879078381590098,
          14.080163799962563,
          14.28124748641186,
          14.482329440971567,
          14.68340966367524,
          14.884488154556438,
          15.085564913648737,
          15.286639940985692,
          15.487713236600868,
          15.688784800527815,
          15.889854632800107,
          16.090922733451286,
          16.291989102514922,
          16.493053740024575,
          16.694116646013782,
          16.895177820516118,
          17.096237263565115,
          17.297294975194344,
          17.498350955437342,
          17.69940520432767,
          17.90045772189888,
          18.101508508184512,
          18.302557563218116,
          18.503604887033237,
          18.704650479663425,
          18.90569434114222,
          19.10673647150317,
          19.30777687077981,
          19.508815539005692,
          19.70985247621436,
          19.91088768243933
         ],
         "yaxis": "y"
        },
        {
         "hovertemplate": "variable=Spatial Resolution (km)<br>Slit Width (microns)=%{x}<br>value=%{y}<extra></extra>",
         "legendgroup": "Spatial Resolution (km)",
         "line": {
          "color": "#00cc96",
          "dash": "solid"
         },
         "marker": {
          "symbol": "circle"
         },
         "mode": "lines",
         "name": "Spatial Resolution (km)",
         "orientation": "v",
         "showlegend": true,
         "type": "scatter",
         "x": [
          10,
          11,
          12,
          13,
          14,
          15,
          16,
          17,
          18,
          19,
          20,
          21,
          22,
          23,
          24,
          25,
          26,
          27,
          28,
          29,
          30,
          31,
          32,
          33,
          34,
          35,
          36,
          37,
          38,
          39,
          40,
          41,
          42,
          43,
          44,
          45,
          46,
          47,
          48,
          49,
          50,
          51,
          52,
          53,
          54,
          55,
          56,
          57,
          58,
          59,
          60,
          61,
          62,
          63,
          64,
          65,
          66,
          67,
          68,
          69,
          70,
          71,
          72,
          73,
          74,
          75,
          76,
          77,
          78,
          79,
          80,
          81,
          82,
          83,
          84,
          85,
          86,
          87,
          88,
          89,
          90,
          91,
          92,
          93,
          94,
          95,
          96,
          97,
          98,
          99
         ],
         "xaxis": "x",
         "y": [
          0.1515,
          0.1515,
          0.1515,
          0.1515,
          0.1515,
          0.1515,
          0.1515,
          0.1515,
          0.1515,
          0.1515,
          0.1515,
          0.1515,
          0.1515,
          0.1515,
          0.1515,
          0.1515,
          0.1515,
          0.1515,
          0.1515,
          0.1515,
          0.1515,
          0.1515,
          0.1515,
          0.1515,
          0.1515,
          0.1515,
          0.1515,
          0.1515,
          0.1515,
          0.1515,
          0.1515,
          0.1515,
          0.1515,
          0.1515,
          0.1515,
          0.1515,
          0.1515,
          0.1515,
          0.1515,
          0.1515,
          0.1515,
          0.1515,
          0.1515,
          0.1515,
          0.1515,
          0.1515,
          0.1515,
          0.1515,
          0.1515,
          0.1515,
          0.1515,
          0.1515,
          0.1515,
          0.1515,
          0.1515,
          0.1515,
          0.1515,
          0.1515,
          0.1515,
          0.1515,
          0.1515,
          0.1515,
          0.1515,
          0.1515,
          0.1515,
          0.1515,
          0.1515,
          0.1515,
          0.1515,
          0.1515,
          0.1515,
          0.1515,
          0.1515,
          0.1515,
          0.1515,
          0.1515,
          0.1515,
          0.1515,
          0.1515,
          0.1515,
          0.1515,
          0.1515,
          0.1515,
          0.1515,
          0.1515,
          0.1515,
          0.1515,
          0.1515,
          0.1515,
          0.1515
         ],
         "yaxis": "y"
        }
       ],
       "layout": {
        "legend": {
         "title": {
          "text": "variable"
         },
         "tracegroupgap": 0
        },
        "template": {
         "data": {
          "bar": [
           {
            "error_x": {
             "color": "#f2f5fa"
            },
            "error_y": {
             "color": "#f2f5fa"
            },
            "marker": {
             "line": {
              "color": "rgb(17,17,17)",
              "width": 0.5
             },
             "pattern": {
              "fillmode": "overlay",
              "size": 10,
              "solidity": 0.2
             }
            },
            "type": "bar"
           }
          ],
          "barpolar": [
           {
            "marker": {
             "line": {
              "color": "rgb(17,17,17)",
              "width": 0.5
             },
             "pattern": {
              "fillmode": "overlay",
              "size": 10,
              "solidity": 0.2
             }
            },
            "type": "barpolar"
           }
          ],
          "carpet": [
           {
            "aaxis": {
             "endlinecolor": "#A2B1C6",
             "gridcolor": "#506784",
             "linecolor": "#506784",
             "minorgridcolor": "#506784",
             "startlinecolor": "#A2B1C6"
            },
            "baxis": {
             "endlinecolor": "#A2B1C6",
             "gridcolor": "#506784",
             "linecolor": "#506784",
             "minorgridcolor": "#506784",
             "startlinecolor": "#A2B1C6"
            },
            "type": "carpet"
           }
          ],
          "choropleth": [
           {
            "colorbar": {
             "outlinewidth": 0,
             "ticks": ""
            },
            "type": "choropleth"
           }
          ],
          "contour": [
           {
            "colorbar": {
             "outlinewidth": 0,
             "ticks": ""
            },
            "colorscale": [
             [
              0,
              "#0d0887"
             ],
             [
              0.1111111111111111,
              "#46039f"
             ],
             [
              0.2222222222222222,
              "#7201a8"
             ],
             [
              0.3333333333333333,
              "#9c179e"
             ],
             [
              0.4444444444444444,
              "#bd3786"
             ],
             [
              0.5555555555555556,
              "#d8576b"
             ],
             [
              0.6666666666666666,
              "#ed7953"
             ],
             [
              0.7777777777777778,
              "#fb9f3a"
             ],
             [
              0.8888888888888888,
              "#fdca26"
             ],
             [
              1,
              "#f0f921"
             ]
            ],
            "type": "contour"
           }
          ],
          "contourcarpet": [
           {
            "colorbar": {
             "outlinewidth": 0,
             "ticks": ""
            },
            "type": "contourcarpet"
           }
          ],
          "heatmap": [
           {
            "colorbar": {
             "outlinewidth": 0,
             "ticks": ""
            },
            "colorscale": [
             [
              0,
              "#0d0887"
             ],
             [
              0.1111111111111111,
              "#46039f"
             ],
             [
              0.2222222222222222,
              "#7201a8"
             ],
             [
              0.3333333333333333,
              "#9c179e"
             ],
             [
              0.4444444444444444,
              "#bd3786"
             ],
             [
              0.5555555555555556,
              "#d8576b"
             ],
             [
              0.6666666666666666,
              "#ed7953"
             ],
             [
              0.7777777777777778,
              "#fb9f3a"
             ],
             [
              0.8888888888888888,
              "#fdca26"
             ],
             [
              1,
              "#f0f921"
             ]
            ],
            "type": "heatmap"
           }
          ],
          "heatmapgl": [
           {
            "colorbar": {
             "outlinewidth": 0,
             "ticks": ""
            },
            "colorscale": [
             [
              0,
              "#0d0887"
             ],
             [
              0.1111111111111111,
              "#46039f"
             ],
             [
              0.2222222222222222,
              "#7201a8"
             ],
             [
              0.3333333333333333,
              "#9c179e"
             ],
             [
              0.4444444444444444,
              "#bd3786"
             ],
             [
              0.5555555555555556,
              "#d8576b"
             ],
             [
              0.6666666666666666,
              "#ed7953"
             ],
             [
              0.7777777777777778,
              "#fb9f3a"
             ],
             [
              0.8888888888888888,
              "#fdca26"
             ],
             [
              1,
              "#f0f921"
             ]
            ],
            "type": "heatmapgl"
           }
          ],
          "histogram": [
           {
            "marker": {
             "pattern": {
              "fillmode": "overlay",
              "size": 10,
              "solidity": 0.2
             }
            },
            "type": "histogram"
           }
          ],
          "histogram2d": [
           {
            "colorbar": {
             "outlinewidth": 0,
             "ticks": ""
            },
            "colorscale": [
             [
              0,
              "#0d0887"
             ],
             [
              0.1111111111111111,
              "#46039f"
             ],
             [
              0.2222222222222222,
              "#7201a8"
             ],
             [
              0.3333333333333333,
              "#9c179e"
             ],
             [
              0.4444444444444444,
              "#bd3786"
             ],
             [
              0.5555555555555556,
              "#d8576b"
             ],
             [
              0.6666666666666666,
              "#ed7953"
             ],
             [
              0.7777777777777778,
              "#fb9f3a"
             ],
             [
              0.8888888888888888,
              "#fdca26"
             ],
             [
              1,
              "#f0f921"
             ]
            ],
            "type": "histogram2d"
           }
          ],
          "histogram2dcontour": [
           {
            "colorbar": {
             "outlinewidth": 0,
             "ticks": ""
            },
            "colorscale": [
             [
              0,
              "#0d0887"
             ],
             [
              0.1111111111111111,
              "#46039f"
             ],
             [
              0.2222222222222222,
              "#7201a8"
             ],
             [
              0.3333333333333333,
              "#9c179e"
             ],
             [
              0.4444444444444444,
              "#bd3786"
             ],
             [
              0.5555555555555556,
              "#d8576b"
             ],
             [
              0.6666666666666666,
              "#ed7953"
             ],
             [
              0.7777777777777778,
              "#fb9f3a"
             ],
             [
              0.8888888888888888,
              "#fdca26"
             ],
             [
              1,
              "#f0f921"
             ]
            ],
            "type": "histogram2dcontour"
           }
          ],
          "mesh3d": [
           {
            "colorbar": {
             "outlinewidth": 0,
             "ticks": ""
            },
            "type": "mesh3d"
           }
          ],
          "parcoords": [
           {
            "line": {
             "colorbar": {
              "outlinewidth": 0,
              "ticks": ""
             }
            },
            "type": "parcoords"
           }
          ],
          "pie": [
           {
            "automargin": true,
            "type": "pie"
           }
          ],
          "scatter": [
           {
            "marker": {
             "line": {
              "color": "#283442"
             }
            },
            "type": "scatter"
           }
          ],
          "scatter3d": [
           {
            "line": {
             "colorbar": {
              "outlinewidth": 0,
              "ticks": ""
             }
            },
            "marker": {
             "colorbar": {
              "outlinewidth": 0,
              "ticks": ""
             }
            },
            "type": "scatter3d"
           }
          ],
          "scattercarpet": [
           {
            "marker": {
             "colorbar": {
              "outlinewidth": 0,
              "ticks": ""
             }
            },
            "type": "scattercarpet"
           }
          ],
          "scattergeo": [
           {
            "marker": {
             "colorbar": {
              "outlinewidth": 0,
              "ticks": ""
             }
            },
            "type": "scattergeo"
           }
          ],
          "scattergl": [
           {
            "marker": {
             "line": {
              "color": "#283442"
             }
            },
            "type": "scattergl"
           }
          ],
          "scattermapbox": [
           {
            "marker": {
             "colorbar": {
              "outlinewidth": 0,
              "ticks": ""
             }
            },
            "type": "scattermapbox"
           }
          ],
          "scatterpolar": [
           {
            "marker": {
             "colorbar": {
              "outlinewidth": 0,
              "ticks": ""
             }
            },
            "type": "scatterpolar"
           }
          ],
          "scatterpolargl": [
           {
            "marker": {
             "colorbar": {
              "outlinewidth": 0,
              "ticks": ""
             }
            },
            "type": "scatterpolargl"
           }
          ],
          "scatterternary": [
           {
            "marker": {
             "colorbar": {
              "outlinewidth": 0,
              "ticks": ""
             }
            },
            "type": "scatterternary"
           }
          ],
          "surface": [
           {
            "colorbar": {
             "outlinewidth": 0,
             "ticks": ""
            },
            "colorscale": [
             [
              0,
              "#0d0887"
             ],
             [
              0.1111111111111111,
              "#46039f"
             ],
             [
              0.2222222222222222,
              "#7201a8"
             ],
             [
              0.3333333333333333,
              "#9c179e"
             ],
             [
              0.4444444444444444,
              "#bd3786"
             ],
             [
              0.5555555555555556,
              "#d8576b"
             ],
             [
              0.6666666666666666,
              "#ed7953"
             ],
             [
              0.7777777777777778,
              "#fb9f3a"
             ],
             [
              0.8888888888888888,
              "#fdca26"
             ],
             [
              1,
              "#f0f921"
             ]
            ],
            "type": "surface"
           }
          ],
          "table": [
           {
            "cells": {
             "fill": {
              "color": "#506784"
             },
             "line": {
              "color": "rgb(17,17,17)"
             }
            },
            "header": {
             "fill": {
              "color": "#2a3f5f"
             },
             "line": {
              "color": "rgb(17,17,17)"
             }
            },
            "type": "table"
           }
          ]
         },
         "layout": {
          "annotationdefaults": {
           "arrowcolor": "#f2f5fa",
           "arrowhead": 0,
           "arrowwidth": 1
          },
          "autotypenumbers": "strict",
          "coloraxis": {
           "colorbar": {
            "outlinewidth": 0,
            "ticks": ""
           }
          },
          "colorscale": {
           "diverging": [
            [
             0,
             "#8e0152"
            ],
            [
             0.1,
             "#c51b7d"
            ],
            [
             0.2,
             "#de77ae"
            ],
            [
             0.3,
             "#f1b6da"
            ],
            [
             0.4,
             "#fde0ef"
            ],
            [
             0.5,
             "#f7f7f7"
            ],
            [
             0.6,
             "#e6f5d0"
            ],
            [
             0.7,
             "#b8e186"
            ],
            [
             0.8,
             "#7fbc41"
            ],
            [
             0.9,
             "#4d9221"
            ],
            [
             1,
             "#276419"
            ]
           ],
           "sequential": [
            [
             0,
             "#0d0887"
            ],
            [
             0.1111111111111111,
             "#46039f"
            ],
            [
             0.2222222222222222,
             "#7201a8"
            ],
            [
             0.3333333333333333,
             "#9c179e"
            ],
            [
             0.4444444444444444,
             "#bd3786"
            ],
            [
             0.5555555555555556,
             "#d8576b"
            ],
            [
             0.6666666666666666,
             "#ed7953"
            ],
            [
             0.7777777777777778,
             "#fb9f3a"
            ],
            [
             0.8888888888888888,
             "#fdca26"
            ],
            [
             1,
             "#f0f921"
            ]
           ],
           "sequentialminus": [
            [
             0,
             "#0d0887"
            ],
            [
             0.1111111111111111,
             "#46039f"
            ],
            [
             0.2222222222222222,
             "#7201a8"
            ],
            [
             0.3333333333333333,
             "#9c179e"
            ],
            [
             0.4444444444444444,
             "#bd3786"
            ],
            [
             0.5555555555555556,
             "#d8576b"
            ],
            [
             0.6666666666666666,
             "#ed7953"
            ],
            [
             0.7777777777777778,
             "#fb9f3a"
            ],
            [
             0.8888888888888888,
             "#fdca26"
            ],
            [
             1,
             "#f0f921"
            ]
           ]
          },
          "colorway": [
           "#636efa",
           "#EF553B",
           "#00cc96",
           "#ab63fa",
           "#FFA15A",
           "#19d3f3",
           "#FF6692",
           "#B6E880",
           "#FF97FF",
           "#FECB52"
          ],
          "font": {
           "color": "#f2f5fa"
          },
          "geo": {
           "bgcolor": "rgb(17,17,17)",
           "lakecolor": "rgb(17,17,17)",
           "landcolor": "rgb(17,17,17)",
           "showlakes": true,
           "showland": true,
           "subunitcolor": "#506784"
          },
          "hoverlabel": {
           "align": "left"
          },
          "hovermode": "closest",
          "mapbox": {
           "style": "dark"
          },
          "paper_bgcolor": "rgb(17,17,17)",
          "plot_bgcolor": "rgb(17,17,17)",
          "polar": {
           "angularaxis": {
            "gridcolor": "#506784",
            "linecolor": "#506784",
            "ticks": ""
           },
           "bgcolor": "rgb(17,17,17)",
           "radialaxis": {
            "gridcolor": "#506784",
            "linecolor": "#506784",
            "ticks": ""
           }
          },
          "scene": {
           "xaxis": {
            "backgroundcolor": "rgb(17,17,17)",
            "gridcolor": "#506784",
            "gridwidth": 2,
            "linecolor": "#506784",
            "showbackground": true,
            "ticks": "",
            "zerolinecolor": "#C8D4E3"
           },
           "yaxis": {
            "backgroundcolor": "rgb(17,17,17)",
            "gridcolor": "#506784",
            "gridwidth": 2,
            "linecolor": "#506784",
            "showbackground": true,
            "ticks": "",
            "zerolinecolor": "#C8D4E3"
           },
           "zaxis": {
            "backgroundcolor": "rgb(17,17,17)",
            "gridcolor": "#506784",
            "gridwidth": 2,
            "linecolor": "#506784",
            "showbackground": true,
            "ticks": "",
            "zerolinecolor": "#C8D4E3"
           }
          },
          "shapedefaults": {
           "line": {
            "color": "#f2f5fa"
           }
          },
          "sliderdefaults": {
           "bgcolor": "#C8D4E3",
           "bordercolor": "rgb(17,17,17)",
           "borderwidth": 1,
           "tickwidth": 0
          },
          "ternary": {
           "aaxis": {
            "gridcolor": "#506784",
            "linecolor": "#506784",
            "ticks": ""
           },
           "baxis": {
            "gridcolor": "#506784",
            "linecolor": "#506784",
            "ticks": ""
           },
           "bgcolor": "rgb(17,17,17)",
           "caxis": {
            "gridcolor": "#506784",
            "linecolor": "#506784",
            "ticks": ""
           }
          },
          "title": {
           "x": 0.05
          },
          "updatemenudefaults": {
           "bgcolor": "#506784",
           "borderwidth": 0
          },
          "xaxis": {
           "automargin": true,
           "gridcolor": "#283442",
           "linecolor": "#506784",
           "ticks": "",
           "title": {
            "standoff": 15
           },
           "zerolinecolor": "#283442",
           "zerolinewidth": 2
          },
          "yaxis": {
           "automargin": true,
           "gridcolor": "#283442",
           "linecolor": "#506784",
           "ticks": "",
           "title": {
            "standoff": 15
           },
           "zerolinecolor": "#283442",
           "zerolinewidth": 2
          }
         }
        },
        "title": {
         "text": "Slit Width Trade Off"
        },
        "xaxis": {
         "anchor": "y",
         "domain": [
          0,
          1
         ],
         "title": {
          "text": "Slit Width (microns)"
         }
        },
        "yaxis": {
         "anchor": "x",
         "domain": [
          0,
          1
         ],
         "title": {
          "text": "value"
         }
        }
       }
      }
     },
     "metadata": {},
     "output_type": "display_data"
    },
    {
     "data": {
      "text/html": [
       "<div>\n",
       "<style scoped>\n",
       "    .dataframe tbody tr th:only-of-type {\n",
       "        vertical-align: middle;\n",
       "    }\n",
       "\n",
       "    .dataframe tbody tr th {\n",
       "        vertical-align: top;\n",
       "    }\n",
       "\n",
       "    .dataframe thead th {\n",
       "        text-align: right;\n",
       "    }\n",
       "</style>\n",
       "<table border=\"1\" class=\"dataframe\">\n",
       "  <thead>\n",
       "    <tr style=\"text-align: right;\">\n",
       "      <th></th>\n",
       "      <th>Slit Width (microns)</th>\n",
       "      <th>Spectral Bandpass (nm)</th>\n",
       "      <th>SNR</th>\n",
       "      <th>Spatial Resolution (km)</th>\n",
       "    </tr>\n",
       "  </thead>\n",
       "  <tbody>\n",
       "    <tr>\n",
       "      <th>0</th>\n",
       "      <td>10.0</td>\n",
       "      <td>80.0</td>\n",
       "      <td>2.011972</td>\n",
       "      <td>0.1515</td>\n",
       "    </tr>\n",
       "    <tr>\n",
       "      <th>1</th>\n",
       "      <td>11.0</td>\n",
       "      <td>88.0</td>\n",
       "      <td>2.213160</td>\n",
       "      <td>0.1515</td>\n",
       "    </tr>\n",
       "    <tr>\n",
       "      <th>2</th>\n",
       "      <td>12.0</td>\n",
       "      <td>96.0</td>\n",
       "      <td>2.414346</td>\n",
       "      <td>0.1515</td>\n",
       "    </tr>\n",
       "    <tr>\n",
       "      <th>3</th>\n",
       "      <td>13.0</td>\n",
       "      <td>104.0</td>\n",
       "      <td>2.615530</td>\n",
       "      <td>0.1515</td>\n",
       "    </tr>\n",
       "    <tr>\n",
       "      <th>4</th>\n",
       "      <td>14.0</td>\n",
       "      <td>112.0</td>\n",
       "      <td>2.816712</td>\n",
       "      <td>0.1515</td>\n",
       "    </tr>\n",
       "    <tr>\n",
       "      <th>...</th>\n",
       "      <td>...</td>\n",
       "      <td>...</td>\n",
       "      <td>...</td>\n",
       "      <td>...</td>\n",
       "    </tr>\n",
       "    <tr>\n",
       "      <th>85</th>\n",
       "      <td>95.0</td>\n",
       "      <td>760.0</td>\n",
       "      <td>19.106736</td>\n",
       "      <td>0.1515</td>\n",
       "    </tr>\n",
       "    <tr>\n",
       "      <th>86</th>\n",
       "      <td>96.0</td>\n",
       "      <td>768.0</td>\n",
       "      <td>19.307777</td>\n",
       "      <td>0.1515</td>\n",
       "    </tr>\n",
       "    <tr>\n",
       "      <th>87</th>\n",
       "      <td>97.0</td>\n",
       "      <td>776.0</td>\n",
       "      <td>19.508816</td>\n",
       "      <td>0.1515</td>\n",
       "    </tr>\n",
       "    <tr>\n",
       "      <th>88</th>\n",
       "      <td>98.0</td>\n",
       "      <td>784.0</td>\n",
       "      <td>19.709852</td>\n",
       "      <td>0.1515</td>\n",
       "    </tr>\n",
       "    <tr>\n",
       "      <th>89</th>\n",
       "      <td>99.0</td>\n",
       "      <td>792.0</td>\n",
       "      <td>19.910888</td>\n",
       "      <td>0.1515</td>\n",
       "    </tr>\n",
       "  </tbody>\n",
       "</table>\n",
       "<p>90 rows × 4 columns</p>\n",
       "</div>"
      ],
      "text/plain": [
       "    Slit Width (microns)  Spectral Bandpass (nm)        SNR  \\\n",
       "0                   10.0                    80.0   2.011972   \n",
       "1                   11.0                    88.0   2.213160   \n",
       "2                   12.0                    96.0   2.414346   \n",
       "3                   13.0                   104.0   2.615530   \n",
       "4                   14.0                   112.0   2.816712   \n",
       "..                   ...                     ...        ...   \n",
       "85                  95.0                   760.0  19.106736   \n",
       "86                  96.0                   768.0  19.307777   \n",
       "87                  97.0                   776.0  19.508816   \n",
       "88                  98.0                   784.0  19.709852   \n",
       "89                  99.0                   792.0  19.910888   \n",
       "\n",
       "    Spatial Resolution (km)  \n",
       "0                    0.1515  \n",
       "1                    0.1515  \n",
       "2                    0.1515  \n",
       "3                    0.1515  \n",
       "4                    0.1515  \n",
       "..                      ...  \n",
       "85                   0.1515  \n",
       "86                   0.1515  \n",
       "87                   0.1515  \n",
       "88                   0.1515  \n",
       "89                   0.1515  \n",
       "\n",
       "[90 rows x 4 columns]"
      ]
     },
     "metadata": {},
     "output_type": "display_data"
    }
   ],
   "source": [
    "print(spatial_resolution)\n",
    "widths_label = \"Slit Width (microns)\"\n",
    "bandpass_label = \"Spectral Bandpass (nm)\"\n",
    "snr_label = \"SNR\"\n",
    "spatial_resolution_label = \"Spatial Resolution (km)\"\n",
    "data = {\n",
    "    widths_label: widths[:],\n",
    "    bandpass_label: bandpass[:],\n",
    "    snr_label: snr[:],\n",
    "    spatial_resolution_label: spatial_resolution[:],\n",
    "}\n",
    "\n",
    "df = pd.DataFrame.from_dict(data=data)\n",
    "fig = plot.line(\n",
    "    df=df,\n",
    "    x=widths_label,\n",
    "    y=[bandpass_label, snr_label, spatial_resolution_label],\n",
    "    title=\"Slit Width Trade Off\",\n",
    "    dark=True,\n",
    ")\n",
    "fig.show()\n",
    "display(df)"
   ]
  }
 ],
 "metadata": {
  "interpreter": {
   "hash": "a051636751d8b8c3fb678ae2c2b84596f57742a247cc1675aae9ee3b371aaacc"
  },
  "kernelspec": {
   "display_name": "Python 3 (ipykernel)",
   "language": "python",
   "name": "python3"
  },
  "language_info": {
   "codemirror_mode": {
    "name": "ipython",
    "version": 3
   },
   "file_extension": ".py",
   "mimetype": "text/x-python",
   "name": "python",
   "nbconvert_exporter": "python",
   "pygments_lexer": "ipython3",
   "version": "3.10.2"
  },
  "orig_nbformat": 4
 },
 "nbformat": 4,
 "nbformat_minor": 2
}
