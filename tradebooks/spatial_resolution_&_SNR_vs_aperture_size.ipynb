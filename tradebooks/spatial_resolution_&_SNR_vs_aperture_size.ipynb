{
 "cells": [
  {
   "cell_type": "markdown",
   "metadata": {},
   "source": [
    "# Aperture Size Tradebook"
   ]
  },
  {
   "cell_type": "code",
   "execution_count": 6,
   "metadata": {},
   "outputs": [],
   "source": [
    "# stdlib\n",
    "import math\n",
    "from pathlib import Path\n",
    "\n",
    "# external\n",
    "import astropy.units as unit\n",
    "import numpy as np\n",
    "import pandas as pd\n",
    "import plot\n",
    "from IPython.display import display\n",
    "\n",
    "# project\n",
    "from architect import luts\n",
    "from architect.libs import utillib\n",
    "from architect.systems.optical import foreoptics, masks, sensors, spectrometers"
   ]
  },
  {
   "cell_type": "markdown",
   "metadata": {},
   "source": [
    "## Setup\n",
    "Run this section onwards when a parameter is updated."
   ]
  },
  {
   "cell_type": "markdown",
   "metadata": {},
   "source": [
    "### Parameters"
   ]
  },
  {
   "cell_type": "code",
   "execution_count": 7,
   "metadata": {},
   "outputs": [],
   "source": [
    "# constants\n",
    "target_wavelength = 1300 * unit.nm\n",
    "orbital_altitude = 505 * unit.km\n",
    "skew_angle = np.array([0, 0]) * unit.deg\n",
    "slit_size = np.array([0.03, 38.]) * unit.mm         # width, height\n",
    "focal_length = 50 * unit.mm\n",
    "\n",
    "# variables\n",
    "aperture_size = np.arange(start=1, stop=100, step=1) * unit.mm"
   ]
  },
  {
   "cell_type": "markdown",
   "metadata": {},
   "source": [
    "### System Instantiation"
   ]
  },
  {
   "cell_type": "code",
   "execution_count": 8,
   "metadata": {},
   "outputs": [],
   "source": [
    "# components\n",
    "sensor = sensors.TauSWIR()\n",
    "foreoptic = foreoptics.Foreoptic(\n",
    "    focal_length=focal_length, diameter=aperture_size, image_diameter=10 * unit.mm\n",
    ")\n",
    "slit = masks.RectSlit(size=slit_size)\n",
    "\n",
    "# systems\n",
    "payload = spectrometers.HyperspectralImager(\n",
    "    sensor=sensor, foreoptic=foreoptic, slit=slit\n",
    ")"
   ]
  },
  {
   "cell_type": "markdown",
   "metadata": {},
   "source": [
    "## Pipeline\n",
    "The computational graph"
   ]
  },
  {
   "cell_type": "code",
   "execution_count": 9,
   "metadata": {},
   "outputs": [
    {
     "data": {
      "text/latex": [
       "$[0.012190403,~0.048761576,~0.1097134,~0.19504569,~0.30475818,~0.43885051,~0.59732228,~0.78017299,~0.98740205,~1.2190088,~1.4749926,~1.7553526,~2.0600878,~2.3891974,~2.7426804,~3.1205355,~3.5227617,~3.9493576,~4.400322,~4.8756534,~5.3753504,~5.8994113,~6.4478345,~7.0206184,~7.6177611,~8.2392607,~8.8851153,~9.5553229,~10.249881,~10.968789,~11.712042,~12.47964,~13.27158,~14.087858,~14.928474,~15.793423,~16.682704,~17.596314,~18.534249,~19.496507,~20.483085,~21.493979,~22.529188,~23.588706,~24.672531,~25.78066,~26.913089,~28.069815,~29.250834,~30.456142,~31.685736,~32.939611,~34.217764,~35.520191,~36.846888,~38.19785,~39.573074,~40.972554,~42.396288,~43.84427,~45.316495,~46.81296,~48.333659,~49.878588,~51.447742,~53.041117,~54.658706,~56.300505,~57.96651,~59.656714,~61.371113,~63.1097,~64.872472,~66.659422,~68.470545,~70.305835,~72.165286,~74.048893,~75.95665,~77.888551,~79.844589,~81.82476,~83.829056,~85.857471,~87.91,~89.986635,~92.087371,~94.2122,~96.361117,~98.534114,~100.73119,~102.95232,~105.19752,~107.46677,~109.76007,~112.07741,~114.41878,~116.78417,~119.17358] \\; \\mathrm{}$"
      ],
      "text/plain": [
       "<Quantity [1.21904034e-02, 4.87615756e-02, 1.09713402e-01, 1.95045691e-01,\n",
       "           3.04758176e-01, 4.38850513e-01, 5.97322282e-01, 7.80172986e-01,\n",
       "           9.87402053e-01, 1.21900883e+00, 1.47499260e+00, 1.75535255e+00,\n",
       "           2.06008781e+00, 2.38919743e+00, 2.74268036e+00, 3.12053551e+00,\n",
       "           3.52276169e+00, 3.94935764e+00, 4.40032203e+00, 4.87565344e+00,\n",
       "           5.37535039e+00, 5.89941130e+00, 6.44783454e+00, 7.02061839e+00,\n",
       "           7.61776107e+00, 8.23926069e+00, 8.88511531e+00, 9.55532291e+00,\n",
       "           1.02498814e+01, 1.09687886e+01, 1.17120423e+01, 1.24796401e+01,\n",
       "           1.32715796e+01, 1.40878584e+01, 1.49284738e+01, 1.57934234e+01,\n",
       "           1.66827043e+01, 1.75963138e+01, 1.85342491e+01, 1.94965071e+01,\n",
       "           2.04830849e+01, 2.14939794e+01, 2.25291875e+01, 2.35887059e+01,\n",
       "           2.46725313e+01, 2.57806603e+01, 2.69130894e+01, 2.80698152e+01,\n",
       "           2.92508339e+01, 3.04561420e+01, 3.16857356e+01, 3.29396109e+01,\n",
       "           3.42177640e+01, 3.55201910e+01, 3.68468876e+01, 3.81978499e+01,\n",
       "           3.95730736e+01, 4.09725543e+01, 4.23962878e+01, 4.38442696e+01,\n",
       "           4.53164952e+01, 4.68129600e+01, 4.83336593e+01, 4.98785884e+01,\n",
       "           5.14477424e+01, 5.30411166e+01, 5.46587059e+01, 5.63005053e+01,\n",
       "           5.79665097e+01, 5.96567138e+01, 6.13711126e+01, 6.31097005e+01,\n",
       "           6.48724722e+01, 6.66594222e+01, 6.84705450e+01, 7.03058349e+01,\n",
       "           7.21652862e+01, 7.40488932e+01, 7.59566500e+01, 7.78885507e+01,\n",
       "           7.98445892e+01, 8.18247595e+01, 8.38290555e+01, 8.58574709e+01,\n",
       "           8.79099995e+01, 8.99866348e+01, 9.20873705e+01, 9.42122000e+01,\n",
       "           9.63611168e+01, 9.85341141e+01, 1.00731185e+02, 1.02952324e+02,\n",
       "           1.05197522e+02, 1.07466774e+02, 1.09760071e+02, 1.12077408e+02,\n",
       "           1.14418777e+02, 1.16784171e+02, 1.19173582e+02]>"
      ]
     },
     "metadata": {},
     "output_type": "display_data"
    },
    {
     "data": {
      "text/latex": [
       "$[800.93,~400.465,~266.97667,~200.2325,~160.186,~151.5,~151.5,~151.5,~151.5,~151.5,~151.5,~151.5,~151.5,~151.5,~151.5,~151.5,~151.5,~151.5,~151.5,~151.5,~151.5,~151.5,~151.5,~151.5,~151.5,~151.5,~151.5,~151.5,~151.5,~151.5,~151.5,~151.5,~151.5,~151.5,~151.5,~151.5,~151.5,~151.5,~151.5,~151.5,~151.5,~151.5,~151.5,~151.5,~151.5,~151.5,~151.5,~151.5,~151.5,~151.5,~151.5,~151.5,~151.5,~151.5,~151.5,~151.5,~151.5,~151.5,~151.5,~151.5,~151.5,~151.5,~151.5,~151.5,~151.5,~151.5,~151.5,~151.5,~151.5,~151.5,~151.5,~151.5,~151.5,~151.5,~151.5,~151.5,~151.5,~151.5,~151.5,~151.5,~151.5,~151.5,~151.5,~151.5,~151.5,~151.5,~151.5,~151.5,~151.5,~151.5,~151.5,~151.5,~151.5,~151.5,~151.5,~151.5,~151.5,~151.5,~151.5] \\; \\mathrm{m}$"
      ],
      "text/plain": [
       "<Quantity [800.93      , 400.465     , 266.97666667, 200.2325    ,\n",
       "           160.186     , 151.5       , 151.5       , 151.5       ,\n",
       "           151.5       , 151.5       , 151.5       , 151.5       ,\n",
       "           151.5       , 151.5       , 151.5       , 151.5       ,\n",
       "           151.5       , 151.5       , 151.5       , 151.5       ,\n",
       "           151.5       , 151.5       , 151.5       , 151.5       ,\n",
       "           151.5       , 151.5       , 151.5       , 151.5       ,\n",
       "           151.5       , 151.5       , 151.5       , 151.5       ,\n",
       "           151.5       , 151.5       , 151.5       , 151.5       ,\n",
       "           151.5       , 151.5       , 151.5       , 151.5       ,\n",
       "           151.5       , 151.5       , 151.5       , 151.5       ,\n",
       "           151.5       , 151.5       , 151.5       , 151.5       ,\n",
       "           151.5       , 151.5       , 151.5       , 151.5       ,\n",
       "           151.5       , 151.5       , 151.5       , 151.5       ,\n",
       "           151.5       , 151.5       , 151.5       , 151.5       ,\n",
       "           151.5       , 151.5       , 151.5       , 151.5       ,\n",
       "           151.5       , 151.5       , 151.5       , 151.5       ,\n",
       "           151.5       , 151.5       , 151.5       , 151.5       ,\n",
       "           151.5       , 151.5       , 151.5       , 151.5       ,\n",
       "           151.5       , 151.5       , 151.5       , 151.5       ,\n",
       "           151.5       , 151.5       , 151.5       , 151.5       ,\n",
       "           151.5       , 151.5       , 151.5       , 151.5       ,\n",
       "           151.5       , 151.5       , 151.5       , 151.5       ,\n",
       "           151.5       , 151.5       , 151.5       , 151.5       ,\n",
       "           151.5       , 151.5       , 151.5       ] m>"
      ]
     },
     "metadata": {},
     "output_type": "display_data"
    }
   ],
   "source": [
    "radiance = luts.load(\"atmosphere/radiance_min\")\n",
    "snr = payload.get_signal_to_noise(radiance=radiance, wavelength=target_wavelength)\n",
    "display(snr)\n",
    "\n",
    "sensor_spatial_resolution = payload.get_spatial_resolution(\n",
    "    wavelength=target_wavelength,\n",
    "    target_distance=orbital_altitude,\n",
    "    skew_angle=skew_angle[0],\n",
    ").to(unit.m)\n",
    "display(sensor_spatial_resolution)\n",
    "\n",
    "#swath = payload.get_swath(altitude=orbital_altitude, skew_angle=skew_angle)\n",
    "#display(swath)"
   ]
  },
  {
   "cell_type": "markdown",
   "metadata": {},
   "source": [
    "## Plots"
   ]
  },
  {
   "cell_type": "code",
   "execution_count": 10,
   "metadata": {},
   "outputs": [
    {
     "data": {
      "application/vnd.plotly.v1+json": {
       "config": {
        "plotlyServerURL": "https://plot.ly"
       },
       "data": [
        {
         "hovertemplate": "variable=SNR<br>Aperture Size [mm]=%{x}<br>value=%{y}<extra></extra>",
         "legendgroup": "SNR",
         "line": {
          "color": "#636efa",
          "dash": "solid"
         },
         "marker": {
          "symbol": "circle"
         },
         "mode": "lines",
         "name": "SNR",
         "orientation": "v",
         "showlegend": true,
         "type": "scatter",
         "x": [
          1,
          2,
          3,
          4,
          5,
          6,
          7,
          8,
          9,
          10,
          11,
          12,
          13,
          14,
          15,
          16,
          17,
          18,
          19,
          20,
          21,
          22,
          23,
          24,
          25,
          26,
          27,
          28,
          29,
          30,
          31,
          32,
          33,
          34,
          35,
          36,
          37,
          38,
          39,
          40,
          41,
          42,
          43,
          44,
          45,
          46,
          47,
          48,
          49,
          50,
          51,
          52,
          53,
          54,
          55,
          56,
          57,
          58,
          59,
          60,
          61,
          62,
          63,
          64,
          65,
          66,
          67,
          68,
          69,
          70,
          71,
          72,
          73,
          74,
          75,
          76,
          77,
          78,
          79,
          80,
          81,
          82,
          83,
          84,
          85,
          86,
          87,
          88,
          89,
          90,
          91,
          92,
          93,
          94,
          95,
          96,
          97,
          98,
          99
         ],
         "xaxis": "x",
         "y": [
          0.012190403440264485,
          0.04876157556456398,
          0.10971340178386538,
          0.19504569111794307,
          0.30475817619762235,
          0.43885051326792157,
          0.5973222821920909,
          0.7801729864565483,
          0.9874020531767128,
          1.2190088331037365,
          1.4749926006321294,
          1.7553525538082873,
          2.060087814339909,
          2.3891974276063146,
          2.7426803626696596,
          3.1205355122870424,
          3.522761692923509,
          3.9493576447659513,
          4.400322031737905,
          4.875653441515236,
          5.3753503855427205,
          5.899411299051522,
          6.447834541077572,
          7.0206183944808105,
          7.61776106596537,
          8.23926068610059,
          8.885115309342979,
          9.555322914059035,
          10.249881402548965,
          10.96878860107129,
          11.712042259868348,
          12.479640053192687,
          13.271579579334313,
          14.08785836064888,
          14.928473843586728,
          15.793423398722801,
          16.682704320787504,
          17.596313828698342,
          18.534249065592583,
          19.496507098860675,
          20.4830849201806,
          21.493979445553116,
          22.52918751533788,
          23.58870589429042,
          24.672531271600032,
          25.78066026092847,
          26.91308940044965,
          28.069815152890058,
          29.250833905570243,
          30.45614197044692,
          31.685735584156212,
          32.93961090805759,
          34.21776402827874,
          35.52019095576126,
          36.84688762630736,
          38.1978499006272,
          39.57307356438736,
          40.97255432825987,
          42.39628782797247,
          43.84426962435937,
          45.31649520341314,
          46.81295997633726,
          48.33365927959974,
          49.878588374987345,
          51.447742449660964,
          53.04111661621157,
          54.65870591271719,
          56.300505302800694,
          57.96650967568834,
          59.65671384626942,
          61.371112555156394,
          63.10970046874617,
          64.8724721792822,
          66.65942220491706,
          68.4705449897765,
          70.30583490402377,
          72.16528624392505,
          74.04889323191564,
          75.95665001666714,
          77.88855067315517,
          79.84458920272819,
          81.82475953317699,
          83.82905551880516,
          85.85747094050038,
          87.90999950580601,
          89.98663484899458,
          92.08737053114096,
          94.21220004019706,
          96.36111679106735,
          98.53411412568448,
          100.73118531308677,
          102.95232354949574,
          105.19752195839459,
          107.46677359060773,
          109.76007142438095,
          112.07740836546238,
          114.41877724718447,
          116.78417083054613,
          119.17358180429676
         ],
         "yaxis": "y"
        },
        {
         "hovertemplate": "variable=Spatial Resolution [m]<br>Aperture Size [mm]=%{x}<br>value=%{y}<extra></extra>",
         "legendgroup": "Spatial Resolution [m]",
         "line": {
          "color": "#EF553B",
          "dash": "solid"
         },
         "marker": {
          "symbol": "circle"
         },
         "mode": "lines",
         "name": "Spatial Resolution [m]",
         "orientation": "v",
         "showlegend": true,
         "type": "scatter",
         "x": [
          1,
          2,
          3,
          4,
          5,
          6,
          7,
          8,
          9,
          10,
          11,
          12,
          13,
          14,
          15,
          16,
          17,
          18,
          19,
          20,
          21,
          22,
          23,
          24,
          25,
          26,
          27,
          28,
          29,
          30,
          31,
          32,
          33,
          34,
          35,
          36,
          37,
          38,
          39,
          40,
          41,
          42,
          43,
          44,
          45,
          46,
          47,
          48,
          49,
          50,
          51,
          52,
          53,
          54,
          55,
          56,
          57,
          58,
          59,
          60,
          61,
          62,
          63,
          64,
          65,
          66,
          67,
          68,
          69,
          70,
          71,
          72,
          73,
          74,
          75,
          76,
          77,
          78,
          79,
          80,
          81,
          82,
          83,
          84,
          85,
          86,
          87,
          88,
          89,
          90,
          91,
          92,
          93,
          94,
          95,
          96,
          97,
          98,
          99
         ],
         "xaxis": "x",
         "y": [
          800.9300000000002,
          400.4650000000001,
          266.97666666666674,
          200.23250000000004,
          160.18600000000004,
          151.5,
          151.5,
          151.5,
          151.5,
          151.5,
          151.5,
          151.5,
          151.5,
          151.5,
          151.5,
          151.5,
          151.5,
          151.5,
          151.5,
          151.5,
          151.5,
          151.5,
          151.5,
          151.5,
          151.5,
          151.5,
          151.5,
          151.5,
          151.5,
          151.5,
          151.5,
          151.5,
          151.5,
          151.5,
          151.5,
          151.5,
          151.5,
          151.5,
          151.5,
          151.5,
          151.5,
          151.5,
          151.5,
          151.5,
          151.5,
          151.5,
          151.5,
          151.5,
          151.5,
          151.5,
          151.5,
          151.5,
          151.5,
          151.5,
          151.5,
          151.5,
          151.5,
          151.5,
          151.5,
          151.5,
          151.5,
          151.5,
          151.5,
          151.5,
          151.5,
          151.5,
          151.5,
          151.5,
          151.5,
          151.5,
          151.5,
          151.5,
          151.5,
          151.5,
          151.5,
          151.5,
          151.5,
          151.5,
          151.5,
          151.5,
          151.5,
          151.5,
          151.5,
          151.5,
          151.5,
          151.5,
          151.5,
          151.5,
          151.5,
          151.5,
          151.5,
          151.5,
          151.5,
          151.5,
          151.5,
          151.5,
          151.5,
          151.5,
          151.5
         ],
         "yaxis": "y"
        }
       ],
       "layout": {
        "legend": {
         "title": {
          "text": "variable"
         },
         "tracegroupgap": 0
        },
        "margin": {
         "t": 60
        },
        "template": {
         "data": {
          "bar": [
           {
            "error_x": {
             "color": "#f2f5fa"
            },
            "error_y": {
             "color": "#f2f5fa"
            },
            "marker": {
             "line": {
              "color": "rgb(17,17,17)",
              "width": 0.5
             },
             "pattern": {
              "fillmode": "overlay",
              "size": 10,
              "solidity": 0.2
             }
            },
            "type": "bar"
           }
          ],
          "barpolar": [
           {
            "marker": {
             "line": {
              "color": "rgb(17,17,17)",
              "width": 0.5
             },
             "pattern": {
              "fillmode": "overlay",
              "size": 10,
              "solidity": 0.2
             }
            },
            "type": "barpolar"
           }
          ],
          "carpet": [
           {
            "aaxis": {
             "endlinecolor": "#A2B1C6",
             "gridcolor": "#506784",
             "linecolor": "#506784",
             "minorgridcolor": "#506784",
             "startlinecolor": "#A2B1C6"
            },
            "baxis": {
             "endlinecolor": "#A2B1C6",
             "gridcolor": "#506784",
             "linecolor": "#506784",
             "minorgridcolor": "#506784",
             "startlinecolor": "#A2B1C6"
            },
            "type": "carpet"
           }
          ],
          "choropleth": [
           {
            "colorbar": {
             "outlinewidth": 0,
             "ticks": ""
            },
            "type": "choropleth"
           }
          ],
          "contour": [
           {
            "colorbar": {
             "outlinewidth": 0,
             "ticks": ""
            },
            "colorscale": [
             [
              0,
              "#0d0887"
             ],
             [
              0.1111111111111111,
              "#46039f"
             ],
             [
              0.2222222222222222,
              "#7201a8"
             ],
             [
              0.3333333333333333,
              "#9c179e"
             ],
             [
              0.4444444444444444,
              "#bd3786"
             ],
             [
              0.5555555555555556,
              "#d8576b"
             ],
             [
              0.6666666666666666,
              "#ed7953"
             ],
             [
              0.7777777777777778,
              "#fb9f3a"
             ],
             [
              0.8888888888888888,
              "#fdca26"
             ],
             [
              1,
              "#f0f921"
             ]
            ],
            "type": "contour"
           }
          ],
          "contourcarpet": [
           {
            "colorbar": {
             "outlinewidth": 0,
             "ticks": ""
            },
            "type": "contourcarpet"
           }
          ],
          "heatmap": [
           {
            "colorbar": {
             "outlinewidth": 0,
             "ticks": ""
            },
            "colorscale": [
             [
              0,
              "#0d0887"
             ],
             [
              0.1111111111111111,
              "#46039f"
             ],
             [
              0.2222222222222222,
              "#7201a8"
             ],
             [
              0.3333333333333333,
              "#9c179e"
             ],
             [
              0.4444444444444444,
              "#bd3786"
             ],
             [
              0.5555555555555556,
              "#d8576b"
             ],
             [
              0.6666666666666666,
              "#ed7953"
             ],
             [
              0.7777777777777778,
              "#fb9f3a"
             ],
             [
              0.8888888888888888,
              "#fdca26"
             ],
             [
              1,
              "#f0f921"
             ]
            ],
            "type": "heatmap"
           }
          ],
          "heatmapgl": [
           {
            "colorbar": {
             "outlinewidth": 0,
             "ticks": ""
            },
            "colorscale": [
             [
              0,
              "#0d0887"
             ],
             [
              0.1111111111111111,
              "#46039f"
             ],
             [
              0.2222222222222222,
              "#7201a8"
             ],
             [
              0.3333333333333333,
              "#9c179e"
             ],
             [
              0.4444444444444444,
              "#bd3786"
             ],
             [
              0.5555555555555556,
              "#d8576b"
             ],
             [
              0.6666666666666666,
              "#ed7953"
             ],
             [
              0.7777777777777778,
              "#fb9f3a"
             ],
             [
              0.8888888888888888,
              "#fdca26"
             ],
             [
              1,
              "#f0f921"
             ]
            ],
            "type": "heatmapgl"
           }
          ],
          "histogram": [
           {
            "marker": {
             "pattern": {
              "fillmode": "overlay",
              "size": 10,
              "solidity": 0.2
             }
            },
            "type": "histogram"
           }
          ],
          "histogram2d": [
           {
            "colorbar": {
             "outlinewidth": 0,
             "ticks": ""
            },
            "colorscale": [
             [
              0,
              "#0d0887"
             ],
             [
              0.1111111111111111,
              "#46039f"
             ],
             [
              0.2222222222222222,
              "#7201a8"
             ],
             [
              0.3333333333333333,
              "#9c179e"
             ],
             [
              0.4444444444444444,
              "#bd3786"
             ],
             [
              0.5555555555555556,
              "#d8576b"
             ],
             [
              0.6666666666666666,
              "#ed7953"
             ],
             [
              0.7777777777777778,
              "#fb9f3a"
             ],
             [
              0.8888888888888888,
              "#fdca26"
             ],
             [
              1,
              "#f0f921"
             ]
            ],
            "type": "histogram2d"
           }
          ],
          "histogram2dcontour": [
           {
            "colorbar": {
             "outlinewidth": 0,
             "ticks": ""
            },
            "colorscale": [
             [
              0,
              "#0d0887"
             ],
             [
              0.1111111111111111,
              "#46039f"
             ],
             [
              0.2222222222222222,
              "#7201a8"
             ],
             [
              0.3333333333333333,
              "#9c179e"
             ],
             [
              0.4444444444444444,
              "#bd3786"
             ],
             [
              0.5555555555555556,
              "#d8576b"
             ],
             [
              0.6666666666666666,
              "#ed7953"
             ],
             [
              0.7777777777777778,
              "#fb9f3a"
             ],
             [
              0.8888888888888888,
              "#fdca26"
             ],
             [
              1,
              "#f0f921"
             ]
            ],
            "type": "histogram2dcontour"
           }
          ],
          "mesh3d": [
           {
            "colorbar": {
             "outlinewidth": 0,
             "ticks": ""
            },
            "type": "mesh3d"
           }
          ],
          "parcoords": [
           {
            "line": {
             "colorbar": {
              "outlinewidth": 0,
              "ticks": ""
             }
            },
            "type": "parcoords"
           }
          ],
          "pie": [
           {
            "automargin": true,
            "type": "pie"
           }
          ],
          "scatter": [
           {
            "marker": {
             "line": {
              "color": "#283442"
             }
            },
            "type": "scatter"
           }
          ],
          "scatter3d": [
           {
            "line": {
             "colorbar": {
              "outlinewidth": 0,
              "ticks": ""
             }
            },
            "marker": {
             "colorbar": {
              "outlinewidth": 0,
              "ticks": ""
             }
            },
            "type": "scatter3d"
           }
          ],
          "scattercarpet": [
           {
            "marker": {
             "colorbar": {
              "outlinewidth": 0,
              "ticks": ""
             }
            },
            "type": "scattercarpet"
           }
          ],
          "scattergeo": [
           {
            "marker": {
             "colorbar": {
              "outlinewidth": 0,
              "ticks": ""
             }
            },
            "type": "scattergeo"
           }
          ],
          "scattergl": [
           {
            "marker": {
             "line": {
              "color": "#283442"
             }
            },
            "type": "scattergl"
           }
          ],
          "scattermapbox": [
           {
            "marker": {
             "colorbar": {
              "outlinewidth": 0,
              "ticks": ""
             }
            },
            "type": "scattermapbox"
           }
          ],
          "scatterpolar": [
           {
            "marker": {
             "colorbar": {
              "outlinewidth": 0,
              "ticks": ""
             }
            },
            "type": "scatterpolar"
           }
          ],
          "scatterpolargl": [
           {
            "marker": {
             "colorbar": {
              "outlinewidth": 0,
              "ticks": ""
             }
            },
            "type": "scatterpolargl"
           }
          ],
          "scatterternary": [
           {
            "marker": {
             "colorbar": {
              "outlinewidth": 0,
              "ticks": ""
             }
            },
            "type": "scatterternary"
           }
          ],
          "surface": [
           {
            "colorbar": {
             "outlinewidth": 0,
             "ticks": ""
            },
            "colorscale": [
             [
              0,
              "#0d0887"
             ],
             [
              0.1111111111111111,
              "#46039f"
             ],
             [
              0.2222222222222222,
              "#7201a8"
             ],
             [
              0.3333333333333333,
              "#9c179e"
             ],
             [
              0.4444444444444444,
              "#bd3786"
             ],
             [
              0.5555555555555556,
              "#d8576b"
             ],
             [
              0.6666666666666666,
              "#ed7953"
             ],
             [
              0.7777777777777778,
              "#fb9f3a"
             ],
             [
              0.8888888888888888,
              "#fdca26"
             ],
             [
              1,
              "#f0f921"
             ]
            ],
            "type": "surface"
           }
          ],
          "table": [
           {
            "cells": {
             "fill": {
              "color": "#506784"
             },
             "line": {
              "color": "rgb(17,17,17)"
             }
            },
            "header": {
             "fill": {
              "color": "#2a3f5f"
             },
             "line": {
              "color": "rgb(17,17,17)"
             }
            },
            "type": "table"
           }
          ]
         },
         "layout": {
          "annotationdefaults": {
           "arrowcolor": "#f2f5fa",
           "arrowhead": 0,
           "arrowwidth": 1
          },
          "autotypenumbers": "strict",
          "coloraxis": {
           "colorbar": {
            "outlinewidth": 0,
            "ticks": ""
           }
          },
          "colorscale": {
           "diverging": [
            [
             0,
             "#8e0152"
            ],
            [
             0.1,
             "#c51b7d"
            ],
            [
             0.2,
             "#de77ae"
            ],
            [
             0.3,
             "#f1b6da"
            ],
            [
             0.4,
             "#fde0ef"
            ],
            [
             0.5,
             "#f7f7f7"
            ],
            [
             0.6,
             "#e6f5d0"
            ],
            [
             0.7,
             "#b8e186"
            ],
            [
             0.8,
             "#7fbc41"
            ],
            [
             0.9,
             "#4d9221"
            ],
            [
             1,
             "#276419"
            ]
           ],
           "sequential": [
            [
             0,
             "#0d0887"
            ],
            [
             0.1111111111111111,
             "#46039f"
            ],
            [
             0.2222222222222222,
             "#7201a8"
            ],
            [
             0.3333333333333333,
             "#9c179e"
            ],
            [
             0.4444444444444444,
             "#bd3786"
            ],
            [
             0.5555555555555556,
             "#d8576b"
            ],
            [
             0.6666666666666666,
             "#ed7953"
            ],
            [
             0.7777777777777778,
             "#fb9f3a"
            ],
            [
             0.8888888888888888,
             "#fdca26"
            ],
            [
             1,
             "#f0f921"
            ]
           ],
           "sequentialminus": [
            [
             0,
             "#0d0887"
            ],
            [
             0.1111111111111111,
             "#46039f"
            ],
            [
             0.2222222222222222,
             "#7201a8"
            ],
            [
             0.3333333333333333,
             "#9c179e"
            ],
            [
             0.4444444444444444,
             "#bd3786"
            ],
            [
             0.5555555555555556,
             "#d8576b"
            ],
            [
             0.6666666666666666,
             "#ed7953"
            ],
            [
             0.7777777777777778,
             "#fb9f3a"
            ],
            [
             0.8888888888888888,
             "#fdca26"
            ],
            [
             1,
             "#f0f921"
            ]
           ]
          },
          "colorway": [
           "#636efa",
           "#EF553B",
           "#00cc96",
           "#ab63fa",
           "#FFA15A",
           "#19d3f3",
           "#FF6692",
           "#B6E880",
           "#FF97FF",
           "#FECB52"
          ],
          "font": {
           "color": "#f2f5fa"
          },
          "geo": {
           "bgcolor": "rgb(17,17,17)",
           "lakecolor": "rgb(17,17,17)",
           "landcolor": "rgb(17,17,17)",
           "showlakes": true,
           "showland": true,
           "subunitcolor": "#506784"
          },
          "hoverlabel": {
           "align": "left"
          },
          "hovermode": "closest",
          "mapbox": {
           "style": "dark"
          },
          "paper_bgcolor": "rgb(17,17,17)",
          "plot_bgcolor": "rgb(17,17,17)",
          "polar": {
           "angularaxis": {
            "gridcolor": "#506784",
            "linecolor": "#506784",
            "ticks": ""
           },
           "bgcolor": "rgb(17,17,17)",
           "radialaxis": {
            "gridcolor": "#506784",
            "linecolor": "#506784",
            "ticks": ""
           }
          },
          "scene": {
           "xaxis": {
            "backgroundcolor": "rgb(17,17,17)",
            "gridcolor": "#506784",
            "gridwidth": 2,
            "linecolor": "#506784",
            "showbackground": true,
            "ticks": "",
            "zerolinecolor": "#C8D4E3"
           },
           "yaxis": {
            "backgroundcolor": "rgb(17,17,17)",
            "gridcolor": "#506784",
            "gridwidth": 2,
            "linecolor": "#506784",
            "showbackground": true,
            "ticks": "",
            "zerolinecolor": "#C8D4E3"
           },
           "zaxis": {
            "backgroundcolor": "rgb(17,17,17)",
            "gridcolor": "#506784",
            "gridwidth": 2,
            "linecolor": "#506784",
            "showbackground": true,
            "ticks": "",
            "zerolinecolor": "#C8D4E3"
           }
          },
          "shapedefaults": {
           "line": {
            "color": "#f2f5fa"
           }
          },
          "sliderdefaults": {
           "bgcolor": "#C8D4E3",
           "bordercolor": "rgb(17,17,17)",
           "borderwidth": 1,
           "tickwidth": 0
          },
          "ternary": {
           "aaxis": {
            "gridcolor": "#506784",
            "linecolor": "#506784",
            "ticks": ""
           },
           "baxis": {
            "gridcolor": "#506784",
            "linecolor": "#506784",
            "ticks": ""
           },
           "bgcolor": "rgb(17,17,17)",
           "caxis": {
            "gridcolor": "#506784",
            "linecolor": "#506784",
            "ticks": ""
           }
          },
          "title": {
           "x": 0.05
          },
          "updatemenudefaults": {
           "bgcolor": "#506784",
           "borderwidth": 0
          },
          "xaxis": {
           "automargin": true,
           "gridcolor": "#283442",
           "linecolor": "#506784",
           "ticks": "",
           "title": {
            "standoff": 15
           },
           "zerolinecolor": "#283442",
           "zerolinewidth": 2
          },
          "yaxis": {
           "automargin": true,
           "gridcolor": "#283442",
           "linecolor": "#506784",
           "ticks": "",
           "title": {
            "standoff": 15
           },
           "zerolinecolor": "#283442",
           "zerolinewidth": 2
          }
         }
        },
        "xaxis": {
         "anchor": "y",
         "domain": [
          0,
          1
         ],
         "title": {
          "text": "Aperture Size [mm]"
         }
        },
        "yaxis": {
         "anchor": "x",
         "domain": [
          0,
          1
         ],
         "title": {
          "text": "value"
         }
        }
       }
      }
     },
     "metadata": {},
     "output_type": "display_data"
    },
    {
     "data": {
      "text/html": [
       "<div>\n",
       "<style scoped>\n",
       "    .dataframe tbody tr th:only-of-type {\n",
       "        vertical-align: middle;\n",
       "    }\n",
       "\n",
       "    .dataframe tbody tr th {\n",
       "        vertical-align: top;\n",
       "    }\n",
       "\n",
       "    .dataframe thead th {\n",
       "        text-align: right;\n",
       "    }\n",
       "</style>\n",
       "<table border=\"1\" class=\"dataframe\">\n",
       "  <thead>\n",
       "    <tr style=\"text-align: right;\">\n",
       "      <th></th>\n",
       "      <th>Aperture Size [mm]</th>\n",
       "      <th>SNR</th>\n",
       "      <th>Spatial Resolution [m]</th>\n",
       "    </tr>\n",
       "  </thead>\n",
       "  <tbody>\n",
       "    <tr>\n",
       "      <th>0</th>\n",
       "      <td>1.0</td>\n",
       "      <td>0.012190</td>\n",
       "      <td>800.930000</td>\n",
       "    </tr>\n",
       "    <tr>\n",
       "      <th>1</th>\n",
       "      <td>2.0</td>\n",
       "      <td>0.048762</td>\n",
       "      <td>400.465000</td>\n",
       "    </tr>\n",
       "    <tr>\n",
       "      <th>2</th>\n",
       "      <td>3.0</td>\n",
       "      <td>0.109713</td>\n",
       "      <td>266.976667</td>\n",
       "    </tr>\n",
       "    <tr>\n",
       "      <th>3</th>\n",
       "      <td>4.0</td>\n",
       "      <td>0.195046</td>\n",
       "      <td>200.232500</td>\n",
       "    </tr>\n",
       "    <tr>\n",
       "      <th>4</th>\n",
       "      <td>5.0</td>\n",
       "      <td>0.304758</td>\n",
       "      <td>160.186000</td>\n",
       "    </tr>\n",
       "    <tr>\n",
       "      <th>...</th>\n",
       "      <td>...</td>\n",
       "      <td>...</td>\n",
       "      <td>...</td>\n",
       "    </tr>\n",
       "    <tr>\n",
       "      <th>94</th>\n",
       "      <td>95.0</td>\n",
       "      <td>109.760071</td>\n",
       "      <td>151.500000</td>\n",
       "    </tr>\n",
       "    <tr>\n",
       "      <th>95</th>\n",
       "      <td>96.0</td>\n",
       "      <td>112.077408</td>\n",
       "      <td>151.500000</td>\n",
       "    </tr>\n",
       "    <tr>\n",
       "      <th>96</th>\n",
       "      <td>97.0</td>\n",
       "      <td>114.418777</td>\n",
       "      <td>151.500000</td>\n",
       "    </tr>\n",
       "    <tr>\n",
       "      <th>97</th>\n",
       "      <td>98.0</td>\n",
       "      <td>116.784171</td>\n",
       "      <td>151.500000</td>\n",
       "    </tr>\n",
       "    <tr>\n",
       "      <th>98</th>\n",
       "      <td>99.0</td>\n",
       "      <td>119.173582</td>\n",
       "      <td>151.500000</td>\n",
       "    </tr>\n",
       "  </tbody>\n",
       "</table>\n",
       "<p>99 rows × 3 columns</p>\n",
       "</div>"
      ],
      "text/plain": [
       "    Aperture Size [mm]         SNR  Spatial Resolution [m]\n",
       "0                  1.0    0.012190              800.930000\n",
       "1                  2.0    0.048762              400.465000\n",
       "2                  3.0    0.109713              266.976667\n",
       "3                  4.0    0.195046              200.232500\n",
       "4                  5.0    0.304758              160.186000\n",
       "..                 ...         ...                     ...\n",
       "94                95.0  109.760071              151.500000\n",
       "95                96.0  112.077408              151.500000\n",
       "96                97.0  114.418777              151.500000\n",
       "97                98.0  116.784171              151.500000\n",
       "98                99.0  119.173582              151.500000\n",
       "\n",
       "[99 rows x 3 columns]"
      ]
     },
     "metadata": {},
     "output_type": "display_data"
    },
    {
     "data": {
      "text/html": [
       "HyperspectralImager \n",
       "<table border=\"1\" class=\"dataframe\">\n",
       "  <thead>\n",
       "    <tr style=\"text-align: right;\">\n",
       "      <th></th>\n",
       "      <th>Value</th>\n",
       "      <th>Units</th>\n",
       "    </tr>\n",
       "  </thead>\n",
       "  <tbody>\n",
       "    <tr>\n",
       "      <th>foreoptic</th>\n",
       "      <td>Foreoptic</td>\n",
       "      <td>None</td>\n",
       "    </tr>\n",
       "    <tr>\n",
       "      <th>slit</th>\n",
       "      <td>RectSlit</td>\n",
       "      <td>None</td>\n",
       "    </tr>\n",
       "    <tr>\n",
       "      <th>diffractor</th>\n",
       "      <td>None</td>\n",
       "      <td>None</td>\n",
       "    </tr>\n",
       "    <tr>\n",
       "      <th>sensor</th>\n",
       "      <td>TauSWIR</td>\n",
       "      <td>None</td>\n",
       "    </tr>\n",
       "    <tr>\n",
       "      <th>systems</th>\n",
       "      <td>list [4]</td>\n",
       "      <td>None</td>\n",
       "    </tr>\n",
       "    <tr>\n",
       "      <th>dimensions</th>\n",
       "      <td>None</td>\n",
       "      <td>None</td>\n",
       "    </tr>\n",
       "    <tr>\n",
       "      <th>mass</th>\n",
       "      <td>None</td>\n",
       "      <td>None</td>\n",
       "    </tr>\n",
       "    <tr>\n",
       "      <th>volume</th>\n",
       "      <td>None</td>\n",
       "      <td>None</td>\n",
       "    </tr>\n",
       "    <tr>\n",
       "      <th>density</th>\n",
       "      <td>None</td>\n",
       "      <td>None</td>\n",
       "    </tr>\n",
       "    <tr>\n",
       "      <th>index</th>\n",
       "      <td>None</td>\n",
       "      <td>None</td>\n",
       "    </tr>\n",
       "    <tr>\n",
       "      <th>transmittance</th>\n",
       "      <td>None</td>\n",
       "      <td>None</td>\n",
       "    </tr>\n",
       "    <tr>\n",
       "      <th>spatial_resolution</th>\n",
       "      <td>None</td>\n",
       "      <td>None</td>\n",
       "    </tr>\n",
       "  </tbody>\n",
       "</table>"
      ],
      "text/plain": [
       "<architect.systems.optical.spectrometers.HyperspectralImager at 0x1c1206b12d0>"
      ]
     },
     "metadata": {},
     "output_type": "display_data"
    }
   ],
   "source": [
    "aperture_size_label = f\"Aperture Size [{aperture_size.unit}]\"\n",
    "snr_label = f\"SNR\"\n",
    "sensor_spatial_resolution_label = f\"Spatial Resolution [{sensor_spatial_resolution.unit}]\"\n",
    "#swath_label_x = f\"Swath (across-track) [{swath.unit}]\"\n",
    "#swath_label_y = f\"Swath (along-track) [{swath.unit}]\"\n",
    "\n",
    "data = {\n",
    "    aperture_size_label: aperture_size,\n",
    "    snr_label: snr,\n",
    "    sensor_spatial_resolution_label: sensor_spatial_resolution,\n",
    "    #swath_label_x: swath[:, 0],\n",
    "    #swath_label_y: swath[:, 1],\n",
    "}\n",
    "\n",
    "df = pd.DataFrame.from_dict(data=data)\n",
    "fig = plot.line(\n",
    "    df=df,\n",
    "    x=aperture_size_label,\n",
    "    y=[  \n",
    "        snr_label,\n",
    "        sensor_spatial_resolution_label,\n",
    "        #swath_label_x,\n",
    "        #swath_label_y,\n",
    "    ],\n",
    "    title=None,\n",
    "    dark=True,\n",
    ")\n",
    "\n",
    "fig.show()\n",
    "display(df)\n",
    "display(payload)"
   ]
  }
 ],
 "metadata": {
  "interpreter": {
   "hash": "a051636751d8b8c3fb678ae2c2b84596f57742a247cc1675aae9ee3b371aaacc"
  },
  "kernelspec": {
   "display_name": "Python 3.10.4 ('.venv': poetry)",
   "language": "python",
   "name": "python3"
  },
  "language_info": {
   "codemirror_mode": {
    "name": "ipython",
    "version": 3
   },
   "file_extension": ".py",
   "mimetype": "text/x-python",
   "name": "python",
   "nbconvert_exporter": "python",
   "pygments_lexer": "ipython3",
   "version": "3.10.5"
  },
  "orig_nbformat": 4
 },
 "nbformat": 4,
 "nbformat_minor": 2
}
