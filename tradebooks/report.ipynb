{
 "cells": [
  {
   "cell_type": "markdown",
   "metadata": {},
   "source": [
    "# Report Generator\n",
    "Produces a full-system report for FINCH"
   ]
  },
  {
   "cell_type": "code",
   "execution_count": 1,
   "metadata": {},
   "outputs": [],
   "source": [
    "# external\n",
    "import astropy.units as unit\n",
    "from IPython.display import display\n",
    "from architect import components, systems"
   ]
  },
  {
   "cell_type": "code",
   "execution_count": 2,
   "metadata": {},
   "outputs": [],
   "source": [
    "# parameters\n",
    "altitude = 550 * unit.km"
   ]
  },
  {
   "cell_type": "code",
   "execution_count": 3,
   "metadata": {},
   "outputs": [
    {
     "name": "stdout",
     "output_type": "stream",
     "text": [
      "\\begin{tabular}{lll}\n",
      "\\toprule\n",
      "{} &     Value & Units \\\\\n",
      "\\midrule\n",
      "components &  list [0] &  None \\\\\n",
      "altitude   &  Array () &  None \\\\\n",
      "units      &         3 &  None \\\\\n",
      "payload    &  FINCHEye &  None \\\\\n",
      "\\bottomrule\n",
      "\\end{tabular}\n",
      "\n"
     ]
    },
    {
     "name": "stderr",
     "output_type": "stream",
     "text": [
      "C:\\GitHub\\payload-designer\\architect\\artifact.py:66: FutureWarning: In future versions `DataFrame.to_latex` is expected to utilise the base implementation of `Styler.to_latex` for formatting and rendering. The arguments signature may therefore change. It is recommended instead to use `DataFrame.style.to_latex` which also contains additional functionality.\n",
      "  df_latex = self.get_attrs_table().to_latex()\n"
     ]
    }
   ],
   "source": [
    "# component instantiation\n",
    "foreoptic = components.foreoptics.Foreoptic()\n",
    "slit = components.masks.RectSlit()\n",
    "collimator = components.lenses.Lens()\n",
    "grism = components.diffractors.VPHGrating()\n",
    "focuser = components.lenses.Lens()\n",
    "\n",
    "# systems instantiation\n",
    "payload = systems.spectrometers.FINCHEye(\n",
    "    foreoptic=foreoptic,\n",
    "    slit=slit,\n",
    "    collimator=collimator,\n",
    "    grism=grism,\n",
    "    focuser=focuser,\n",
    ")\n",
    "satellite = systems.satellites.FINCH(payload=payload, altitude=altitude)\n",
    "\n",
    "print(satellite.to_latex())"
   ]
  },
  {
   "cell_type": "code",
   "execution_count": null,
   "metadata": {},
   "outputs": [],
   "source": []
  }
 ],
 "metadata": {
  "kernelspec": {
   "display_name": "Python 3.10.7 ('.venv': poetry)",
   "language": "python",
   "name": "python3"
  },
  "language_info": {
   "codemirror_mode": {
    "name": "ipython",
    "version": 3
   },
   "file_extension": ".py",
   "mimetype": "text/x-python",
   "name": "python",
   "nbconvert_exporter": "python",
   "pygments_lexer": "ipython3",
   "version": "3.10.7"
  },
  "orig_nbformat": 4,
  "vscode": {
   "interpreter": {
    "hash": "c4b485a9dc540be4f5d287e4eb00fc79125e03014bfc694222ba78c2b10f3405"
   }
  }
 },
 "nbformat": 4,
 "nbformat_minor": 2
}
