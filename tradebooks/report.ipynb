{
 "cells": [
  {
   "cell_type": "markdown",
   "metadata": {},
   "source": [
    "# Report Generator\n",
    "Produces a full-system report for FINCH"
   ]
  },
  {
   "cell_type": "code",
   "execution_count": 1,
   "metadata": {},
   "outputs": [],
   "source": [
    "# external\n",
    "import astropy.units as unit\n",
    "from IPython.display import display\n",
    "from payload_designer import components, systems"
   ]
  },
  {
   "cell_type": "code",
   "execution_count": 2,
   "metadata": {},
   "outputs": [],
   "source": [
    "# parameters\n",
    "altitude = 550 * unit.km"
   ]
  },
  {
   "cell_type": "code",
   "execution_count": 5,
   "metadata": {},
   "outputs": [
    {
     "name": "stdout",
     "output_type": "stream",
     "text": [
      "\\begin{tabular}{lrl}\n",
      "\\toprule\n",
      "{} &         Value &  Units \\\\\n",
      "\\midrule\n",
      "Altitude                        &  5.500000e+02 &     km \\\\\n",
      "Orbit Radius                    &  6.928100e+06 &      m \\\\\n",
      "Orbit Velocity                  &  7.585108e+03 &  m / s \\\\\n",
      "Orbit Angular Velocity          &  1.094832e-03 &  1 / s \\\\\n",
      "Orbit Ground Projected Velocity &  6.982951e+03 &  m / s \\\\\n",
      "\\bottomrule\n",
      "\\end{tabular}\n",
      "\n"
     ]
    },
    {
     "name": "stderr",
     "output_type": "stream",
     "text": [
      "C:\\Users\\David\\Workbench\\payload-designer\\payload_designer\\artifact.py:60: FutureWarning: In future versions `DataFrame.to_latex` is expected to utilise the base implementation of `Styler.to_latex` for formatting and rendering. The arguments signature may therefore change. It is recommended instead to use `DataFrame.style.to_latex` which also contains additional functionality.\n",
      "  df_latex = self.get_attrs_table().to_latex()\n"
     ]
    }
   ],
   "source": [
    "# component instantiation\n",
    "foreoptic = components.foreoptics.Foreoptic()\n",
    "slit = components.masks.RectSlit()\n",
    "collimator = components.lenses.Lens()\n",
    "bandfilter = components.filters.DichroicBandFilter()\n",
    "grism = components.diffractors.VPHGrating()\n",
    "focuser = components.lenses.Lens()\n",
    "\n",
    "# systems instantiation\n",
    "payload = systems.payloads.FINCHEye(\n",
    "    foreoptic=foreoptic,\n",
    "    slit=slit,\n",
    "    collimator=collimator,\n",
    "    bandfilter=bandfilter,\n",
    "    grism=grism,\n",
    "    focuser=focuser,\n",
    ")\n",
    "satellite = systems.satellites.FINCH(payload=payload, altitude=altitude)\n",
    "\n",
    "print(satellite.to_latex())"
   ]
  },
  {
   "cell_type": "code",
   "execution_count": null,
   "metadata": {},
   "outputs": [],
   "source": []
  }
 ],
 "metadata": {
  "interpreter": {
   "hash": "a051636751d8b8c3fb678ae2c2b84596f57742a247cc1675aae9ee3b371aaacc"
  },
  "kernelspec": {
   "display_name": "Python 3.10.4 ('.venv': poetry)",
   "language": "python",
   "name": "python3"
  },
  "language_info": {
   "codemirror_mode": {
    "name": "ipython",
    "version": 3
   },
   "file_extension": ".py",
   "mimetype": "text/x-python",
   "name": "python",
   "nbconvert_exporter": "python",
   "pygments_lexer": "ipython3",
   "version": "3.10.4"
  },
  "orig_nbformat": 4
 },
 "nbformat": 4,
 "nbformat_minor": 2
}
